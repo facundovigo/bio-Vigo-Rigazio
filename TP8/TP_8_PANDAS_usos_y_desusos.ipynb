{
 "cells": [
  {
   "cell_type": "markdown",
   "metadata": {
    "slideshow": {
     "slide_type": "slide"
    }
   },
   "source": [
    "**PANDAS: Un osito cariñosito!**"
   ]
  },
  {
   "cell_type": "markdown",
   "metadata": {
    "slideshow": {
     "slide_type": "slide"
    }
   },
   "source": [
    "Pandas es un paquete que nos permite trabajar con archivos de formato definido: CSV, un excel, etc. Además, Pandas proporciona estructuras de datos rápidas, flexibles y expresivas diseñadas para que trabajar con datos \"relacionales\" o \"etiquetados\" sea fácil e intuitivo. En criollo Pandas es como en excel, pero super duper!"
   ]
  },
  {
   "cell_type": "markdown",
   "metadata": {
    "collapsed": true,
    "slideshow": {
     "slide_type": "slide"
    }
   },
   "source": [
    "**Pandas soporta múltipes tipos de datos:**\n",
    "\n",
    "+ Datos tabulares con columnas de tipo heterogéneo, como en una tabla SQL o en una hoja de cálculo de Excel\n",
    "+ Datos ordenados y desordenados (no necesariamente frecuencia fija).\n",
    "+ Datos matriciales arbitrarios (homogéneamente tipados o heterogéneos) con etiquetas de fila y columna\n",
    "+ Cualquier otra forma de conjuntos de datos observacionales / estadísticos. Los datos en realidad no necesitan ser etiquetados para ser colocados en una estructura de datos de pandas"
   ]
  },
  {
   "cell_type": "markdown",
   "metadata": {
    "slideshow": {
     "slide_type": "slide"
    }
   },
   "source": [
    "**Estructuras de datos que maneja:**\n",
    "\n",
    "- Series (1-dimensional)\n",
    "- DataFrames (2-dimensional). En otras palabras, DataFrame es una estructura tabular bidimensional de datos tabulares, potencialmente heterogéneos, con ejes etiquetados (filas y columnas). Las operaciones aritméticas se alinean en las etiquetas de fila y columna. Se puede considerar como un contenedor similar a un dict para objetos Serie. La estructura de datos de los pandas primarios. Los DataFrames de pandas proporcionan las mismos tipos de usos y utilidades que los data.frame de R.\n",
    "\n",
    "Por lo tanto, la serie es la estructura de datos para una sola columna de un DataFrame, no solo conceptualmente, sino literalmente, es decir, los datos en un DataFrame se almacenan realmente en la memoria como una colección de Series."
   ]
  },
  {
   "cell_type": "markdown",
   "metadata": {
    "slideshow": {
     "slide_type": "slide"
    }
   },
   "source": [
    "**Instalación**\n",
    "\n",
    "Versiones posteriores a Python 2.6 y la distribuciones de Anaconda incluyen el módulo PIP: esta es una herramienta para instalar y gestionar paquetes de Python. Para verificar que tenemos instalado pip podemos hacer:"
   ]
  },
  {
   "cell_type": "code",
   "execution_count": 1,
   "metadata": {
    "slideshow": {
     "slide_type": "fragment"
    }
   },
   "outputs": [
    {
     "name": "stdout",
     "output_type": "stream",
     "text": [
      "Requirement already satisfied: pandas in /home/chesire/anaconda3/lib/python3.7/site-packages (1.0.5)\n",
      "Requirement already satisfied: python-dateutil>=2.6.1 in /home/chesire/anaconda3/lib/python3.7/site-packages (from pandas) (2.8.1)\n",
      "Requirement already satisfied: numpy>=1.13.3 in /home/chesire/anaconda3/lib/python3.7/site-packages (from pandas) (1.18.5)\n",
      "Requirement already satisfied: pytz>=2017.2 in /home/chesire/anaconda3/lib/python3.7/site-packages (from pandas) (2020.1)\n",
      "Requirement already satisfied: six>=1.5 in /home/chesire/anaconda3/lib/python3.7/site-packages (from python-dateutil>=2.6.1->pandas) (1.15.0)\n"
     ]
    }
   ],
   "source": [
    "import pip\n",
    "!pip install pandas"
   ]
  },
  {
   "cell_type": "markdown",
   "metadata": {
    "slideshow": {
     "slide_type": "fragment"
    }
   },
   "source": [
    "Si no tira ningún error, etonces está felizmente instalado. En caso contrario existen diversas formas de instalación desde la consola:\n",
    "\n",
    "        conda install pip\n",
    "\n",
    "Una vez instalado pip, podemos instalar fácilemnte pandas desde la consola haciendo:\n",
    "\n",
    "        pip install pandas\n",
    "        \n",
    "Podemos checkear que está instalado haciendo:"
   ]
  },
  {
   "cell_type": "code",
   "execution_count": 2,
   "metadata": {
    "slideshow": {
     "slide_type": "fragment"
    }
   },
   "outputs": [],
   "source": [
    "#Como veran aqui importamos pandas y al mismo tiempor lo renombramo como 'pd' \n",
    "#Asi al llamarlo escribimos menos\n",
    "import pandas as pd"
   ]
  },
  {
   "cell_type": "markdown",
   "metadata": {
    "collapsed": true
   },
   "source": [
    "Mas información: https://pandas.pydata.org/pandas-docs/stable/install.html"
   ]
  },
  {
   "cell_type": "markdown",
   "metadata": {},
   "source": [
    "**Lectura de Archivos estructurados**"
   ]
  },
  {
   "cell_type": "markdown",
   "metadata": {},
   "source": [
    "Como ya hemos visto en clase, las proteínas presentan estructura primaria, secundaria, terciaria y cuaternaria. Como hemos visto en clase la estructura de las proteínas se encuentra estrechamente relacionada a la función. Como hemos viste en clase las proteínas pueden tener más de una estructura o conformación posible en solución.\n",
    "Monod postula, en 1965, la existencia de más de una conformación de la misma proteı́na en pre-equilibrio. Este equilibrio dinámico no es estático, por el contrario la distribución relativa de los distintos confórmeros puede variar por cambios en el entorno proteico (presencia de ligandos, o fluctuaciones de pH, modificaciones postraduccionales, etc). La comparación y el estudio de los cambios que sufre una proteína en dos condiciones dadas, nos puede dar encontece una idea de cómo su estructura se vincula con su función.\n",
    "Para estimar la diversidad conformacional (es decir como cambia su estructura) de una proteı́na y cuantificarla, debemos comparar estructuralmente sus confórmeros. Para realizar este procedimiento, en primer lugar los confórmeros deben superponerse estructuralmente con el fin de llevar al mismo eje de coordenadas los centro de masas de cada una de las estructuras a comparar. Esto puede hacerse fácilmente dado que los confórmeros comparten la misma secuencia de aminoácidos por lo que para hacer una superposición rı́gida es suficiente un alineamiento secuencial para asignar los residuos equivalentes entre las dos estructuras, seguido de una traslación al mismo centro de masa y una posterior rotación de una de las estructuras. Estas rotaciones se realizan hasta minimizar la distancia cuadrática media (RMSD por sus siglas en inglés de “Root Mean Square Deviation”) entre los átomos equivalentes de las estructuras, y generalmente se utiliza un algoritmo simple de ajuste de mı́nimos cuadrados o “least-squares fitting” (RMSD) para realizar este proceso. Es común que esta superposición sea efectuada tomando como referencia las coordenadas espaciales de un átomo en particular por cada aminoácido, por lo que generalmente se utilizan los C α de la proteı́na.\n",
    "En la presente práctica vamos a trabajar sobre la comparación de dos estructuras o conformaciones de una proteína, utilizando la medida de RMSD por posición con el software Profit (http://www.bioinf.org.uk/software/profit/), que nos dará una idea de cuál es el comportamiento de dicha proteína."
   ]
  },
  {
   "cell_type": "code",
   "execution_count": 3,
   "metadata": {},
   "outputs": [],
   "source": [
    "tabla = pd.read_csv(\"./RMS-res_3SLH_B-3SLH_D.txt\", sep=\"\\s+\", names=['PosPDB1','Aa1',':','PosPDB2','Aa2','texto','RMSD'])"
   ]
  },
  {
   "cell_type": "code",
   "execution_count": 4,
   "metadata": {
    "scrolled": true
   },
   "outputs": [
    {
     "data": {
      "text/html": [
       "<div>\n",
       "<style scoped>\n",
       "    .dataframe tbody tr th:only-of-type {\n",
       "        vertical-align: middle;\n",
       "    }\n",
       "\n",
       "    .dataframe tbody tr th {\n",
       "        vertical-align: top;\n",
       "    }\n",
       "\n",
       "    .dataframe thead th {\n",
       "        text-align: right;\n",
       "    }\n",
       "</style>\n",
       "<table border=\"1\" class=\"dataframe\">\n",
       "  <thead>\n",
       "    <tr style=\"text-align: right;\">\n",
       "      <th></th>\n",
       "      <th>PosPDB1</th>\n",
       "      <th>Aa1</th>\n",
       "      <th>:</th>\n",
       "      <th>PosPDB2</th>\n",
       "      <th>Aa2</th>\n",
       "      <th>texto</th>\n",
       "      <th>RMSD</th>\n",
       "    </tr>\n",
       "  </thead>\n",
       "  <tbody>\n",
       "    <tr>\n",
       "      <th>0</th>\n",
       "      <td>B0</td>\n",
       "      <td>ALA</td>\n",
       "      <td>:</td>\n",
       "      <td>D0</td>\n",
       "      <td>ALA</td>\n",
       "      <td>RMS:</td>\n",
       "      <td>0.700</td>\n",
       "    </tr>\n",
       "    <tr>\n",
       "      <th>1</th>\n",
       "      <td>B1</td>\n",
       "      <td>MET</td>\n",
       "      <td>:</td>\n",
       "      <td>D1</td>\n",
       "      <td>MET</td>\n",
       "      <td>RMS:</td>\n",
       "      <td>0.373</td>\n",
       "    </tr>\n",
       "    <tr>\n",
       "      <th>2</th>\n",
       "      <td>B2</td>\n",
       "      <td>ASP</td>\n",
       "      <td>:</td>\n",
       "      <td>D2</td>\n",
       "      <td>ASP</td>\n",
       "      <td>RMS:</td>\n",
       "      <td>0.475</td>\n",
       "    </tr>\n",
       "    <tr>\n",
       "      <th>3</th>\n",
       "      <td>B3</td>\n",
       "      <td>TYR</td>\n",
       "      <td>:</td>\n",
       "      <td>D3</td>\n",
       "      <td>TYR</td>\n",
       "      <td>RMS:</td>\n",
       "      <td>0.390</td>\n",
       "    </tr>\n",
       "    <tr>\n",
       "      <th>4</th>\n",
       "      <td>B4</td>\n",
       "      <td>GLN</td>\n",
       "      <td>:</td>\n",
       "      <td>D4</td>\n",
       "      <td>GLN</td>\n",
       "      <td>RMS:</td>\n",
       "      <td>0.446</td>\n",
       "    </tr>\n",
       "  </tbody>\n",
       "</table>\n",
       "</div>"
      ],
      "text/plain": [
       "  PosPDB1  Aa1  : PosPDB2  Aa2 texto   RMSD\n",
       "0      B0  ALA  :      D0  ALA  RMS:  0.700\n",
       "1      B1  MET  :      D1  MET  RMS:  0.373\n",
       "2      B2  ASP  :      D2  ASP  RMS:  0.475\n",
       "3      B3  TYR  :      D3  TYR  RMS:  0.390\n",
       "4      B4  GLN  :      D4  GLN  RMS:  0.446"
      ]
     },
     "execution_count": 4,
     "metadata": {},
     "output_type": "execute_result"
    }
   ],
   "source": [
    "#Con head mostramos una parte del DataFrame\n",
    "tabla.head()"
   ]
  },
  {
   "cell_type": "markdown",
   "metadata": {},
   "source": [
    "Podríamos haber usado pd.read_table(), en general es indistinto, la diferencia radica principalmente en los parámetros por default que se encuentran seteados para la lectura de los archivos:\n",
    "        - El caracter de separación de columnas para read_cvs es una coma (',') mientras que para read_fwf es una tab ('\\t').\n",
    "\n",
    "**Ambos nos permiten leer el archivo por partes (chunksize) de modo de no saturar la memoria al levantar archivos muy pesados:**\n",
    "\n",
    "cada chunk nos da un dataFrame con el mismo header."
   ]
  },
  {
   "cell_type": "code",
   "execution_count": 5,
   "metadata": {},
   "outputs": [
    {
     "name": "stdout",
     "output_type": "stream",
     "text": [
      "  PosPDB1  Aa1  : PosPDB2  Aa2 texto   RMSD\n",
      "0      B0  ALA  :      D0  ALA  RMS:  0.700\n",
      "1      B1  MET  :      D1  MET  RMS:  0.373\n",
      "2      B2  ASP  :      D2  ASP  RMS:  0.475\n",
      "3      B3  TYR  :      D3  TYR  RMS:  0.390\n",
      "4      B4  GLN  :      D4  GLN  RMS:  0.446\n",
      "  PosPDB1  Aa1  : PosPDB2  Aa2 texto   RMSD\n",
      "5      B5  THR  :      D5  THR  RMS:  0.357\n",
      "6      B6  ILE  :      D6  ILE  RMS:  0.397\n",
      "7      B7  PRO  :      D7  PRO  RMS:  0.491\n",
      "8      B8  SER  :      D8  SER  RMS:  0.460\n",
      "9      B9  GLN  :      D9  GLN  RMS:  0.463\n",
      "   PosPDB1  Aa1  : PosPDB2  Aa2 texto   RMSD\n",
      "10     B10  GLY  :     D10  GLY  RMS:  0.450\n",
      "11     B11  LEU  :     D11  LEU  RMS:  0.416\n",
      "12     B12  SER  :     D12  SER  RMS:  0.477\n",
      "13     B13  GLY  :     D13  GLY  RMS:  0.454\n",
      "14     B14  GLU  :     D14  GLU  RMS:  0.301\n",
      "   PosPDB1  Aa1  : PosPDB2  Aa2 texto   RMSD\n",
      "15     B15  ILE  :     D15  ILE  RMS:  0.069\n",
      "16     B16  CYS  :     D16  CYS  RMS:  0.325\n",
      "17     B17  VAL  :     D17  VAL  RMS:  0.294\n",
      "18     B18  PRO  :     D18  PRO  RMS:  0.228\n",
      "19     B19  GLY  :     D19  GLY  RMS:  0.221\n",
      "   PosPDB1  Aa1  : PosPDB2  Aa2 texto   RMSD\n",
      "20     B20  ASP  :     D20  ASP  RMS:  0.220\n",
      "21     B21  LYS  :     D21  LYS  RMS:  0.237\n",
      "22     B22  SER  :     D22  SER  RMS:  0.163\n",
      "23     B23  ILE  :     D23  ILE  RMS:  0.145\n",
      "24     B24  SER  :     D24  SER  RMS:  0.168\n",
      "   PosPDB1  Aa1  : PosPDB2  Aa2 texto   RMSD\n",
      "25     B25  HIS  :     D25  HIS  RMS:  0.137\n",
      "26     B26  ARG  :     D26  ARG  RMS:  0.136\n",
      "27     B27  ALA  :     D27  ALA  RMS:  0.098\n",
      "28     B28  VAL  :     D28  VAL  RMS:  0.121\n",
      "29     B29  LEU  :     D29  LEU  RMS:  0.063\n",
      "   PosPDB1  Aa1  : PosPDB2  Aa2 texto   RMSD\n",
      "30     B30  LEU  :     D30  LEU  RMS:  0.182\n",
      "31     B31  ALA  :     D31  ALA  RMS:  0.228\n",
      "32     B32  ALA  :     D32  ALA  RMS:  0.107\n",
      "33     B33  ILE  :     D33  ILE  RMS:  0.229\n",
      "34     B34  ALA  :     D34  ALA  RMS:  0.300\n",
      "   PosPDB1  Aa1  : PosPDB2  Aa2 texto   RMSD\n",
      "35     B35  GLU  :     D35  GLU  RMS:  0.266\n",
      "36     B36  GLY  :     D36  GLY  RMS:  0.309\n",
      "37     B37  GLN  :     D37  GLN  RMS:  0.317\n",
      "38     B38  THR  :     D38  THR  RMS:  0.298\n",
      "39     B39  GLN  :     D39  GLN  RMS:  0.310\n",
      "   PosPDB1  Aa1  : PosPDB2  Aa2 texto   RMSD\n",
      "40     B40  VAL  :     D40  VAL  RMS:  0.295\n",
      "41     B41  ASP  :     D41  ASP  RMS:  0.389\n",
      "42     B42  GLY  :     D42  GLY  RMS:  0.329\n",
      "43     B43  PHE  :     D43  PHE  RMS:  0.330\n",
      "44     B44  LEU  :     D44  LEU  RMS:  0.277\n",
      "   PosPDB1  Aa1  : PosPDB2  Aa2 texto   RMSD\n",
      "45     B45  MET  :     D45  MET  RMS:  0.331\n",
      "46     B46  GLY  :     D46  GLY  RMS:  0.341\n",
      "47     B47  ALA  :     D47  ALA  RMS:  0.297\n",
      "48     B48  ASP  :     D48  ASP  RMS:  0.226\n",
      "49     B49  ASN  :     D49  ASN  RMS:  0.283\n",
      "   PosPDB1  Aa1  : PosPDB2  Aa2 texto   RMSD\n",
      "50     B50  LEU  :     D50  LEU  RMS:  0.317\n",
      "51     B51  ALA  :     D51  ALA  RMS:  0.238\n",
      "52     B52  MET  :     D52  MET  RMS:  0.177\n",
      "53     B53  VAL  :     D53  VAL  RMS:  0.183\n",
      "54     B54  SER  :     D54  SER  RMS:  0.173\n",
      "   PosPDB1  Aa1  : PosPDB2  Aa2 texto   RMSD\n",
      "55     B55  ALA  :     D55  ALA  RMS:  0.079\n",
      "56     B56  LEU  :     D56  LEU  RMS:  0.077\n",
      "57     B57  GLN  :     D57  GLN  RMS:  0.187\n",
      "58     B58  GLN  :     D58  GLN  RMS:  0.299\n",
      "59     B59  MET  :     D59  MET  RMS:  0.222\n",
      "   PosPDB1  Aa1  : PosPDB2  Aa2 texto   RMSD\n",
      "60     B60  GLY  :     D60  GLY  RMS:  0.220\n",
      "61     B61  ALA  :     D61  ALA  RMS:  0.224\n",
      "62     B62  SER  :     D62  SER  RMS:  0.213\n",
      "63     B63  ILE  :     D63  ILE  RMS:  0.329\n",
      "64     B64  GLN  :     D64  GLN  RMS:  0.319\n",
      "   PosPDB1  Aa1  : PosPDB2  Aa2 texto   RMSD\n",
      "65     B65  VAL  :     D65  VAL  RMS:  0.313\n",
      "66     B66  ILE  :     D66  ILE  RMS:  0.405\n",
      "67     B67  GLU  :     D67  GLU  RMS:  0.408\n",
      "68     B68  ASP  :     D68  ASP  RMS:  0.660\n",
      "69     B69  GLU  :     D69  GLU  RMS:  0.579\n",
      "   PosPDB1  Aa1  : PosPDB2  Aa2 texto   RMSD\n",
      "70     B70  ASN  :     D70  ASN  RMS:  0.344\n",
      "71     B71  ILE  :     D71  ILE  RMS:  0.390\n",
      "72     B72  LEU  :     D72  LEU  RMS:  0.330\n",
      "73     B73  VAL  :     D73  VAL  RMS:  0.268\n",
      "74     B74  VAL  :     D74  VAL  RMS:  0.189\n",
      "   PosPDB1  Aa1  : PosPDB2  Aa2 texto   RMSD\n",
      "75     B75  GLU  :     D75  GLU  RMS:  0.223\n",
      "76     B76  GLY  :     D76  GLY  RMS:  0.256\n",
      "77     B77  VAL  :     D77  VAL  RMS:  0.260\n",
      "78     B78  GLY  :     D78  GLY  RMS:  0.274\n",
      "79     B79  MET  :     D79  MET  RMS:  0.271\n",
      "   PosPDB1  Aa1  : PosPDB2  Aa2 texto   RMSD\n",
      "80     B80  THR  :     D80  THR  RMS:  0.317\n",
      "81     B81  GLY  :     D81  GLY  RMS:  0.379\n",
      "82     B82  LEU  :     D82  LEU  RMS:  0.313\n",
      "83     B83  GLN  :     D83  GLN  RMS:  0.724\n",
      "84     B84  ALA  :     D84  ALA  RMS:  0.778\n",
      "   PosPDB1  Aa1  : PosPDB2  Aa2 texto   RMSD\n",
      "85     B85  PRO  :     D85  PRO  RMS:  0.621\n",
      "86     B86  PRO  :     D86  PRO  RMS:  0.969\n",
      "87     B87  GLU  :     D87  GLU  RMS:  0.737\n",
      "88     B88  ALA  :     D88  ALA  RMS:  0.398\n",
      "89     B89  LEU  :     D89  LEU  RMS:  0.250\n",
      "   PosPDB1  Aa1  : PosPDB2  Aa2 texto   RMSD\n",
      "90     B90  ASP  :     D90  ASP  RMS:  0.250\n",
      "91     B91  CYS  :     D91  CYS  RMS:  0.108\n",
      "92     B92  GLY  :     D92  GLY  RMS:  0.120\n",
      "93     B93  ASN  :     D93  ASN  RMS:  0.086\n",
      "94     B94  SER  :     D94  SER  RMS:  0.063\n",
      "   PosPDB1  Aa1  : PosPDB2  Aa2 texto   RMSD\n",
      "95     B95  GLY  :     D95  GLY  RMS:  0.059\n",
      "96     B96  THR  :     D96  THR  RMS:  0.085\n",
      "97     B97  ALA  :     D97  ALA  RMS:  0.033\n",
      "98     B98  ILE  :     D98  ILE  RMS:  0.085\n",
      "99     B99  ARG  :     D99  ARG  RMS:  0.107\n",
      "    PosPDB1  Aa1  : PosPDB2  Aa2 texto   RMSD\n",
      "100    B100  LEU  :    D100  LEU  RMS:  0.116\n",
      "101    B101  LEU  :    D101  LEU  RMS:  0.107\n",
      "102    B102  SER  :    D102  SER  RMS:  0.160\n",
      "103    B103  GLY  :    D103  GLY  RMS:  0.189\n",
      "104    B104  LEU  :    D104  LEU  RMS:  0.206\n",
      "    PosPDB1  Aa1  : PosPDB2  Aa2 texto   RMSD\n",
      "105    B105  LEU  :    D105  LEU  RMS:  0.222\n",
      "106    B106  ALA  :    D106  ALA  RMS:  0.360\n",
      "107    B107  GLY  :    D107  GLY  RMS:  0.380\n",
      "108    B108  GLN  :    D108  GLN  RMS:  0.323\n",
      "109    B109  PRO  :    D109  PRO  RMS:  0.392\n",
      "    PosPDB1  Aa1  : PosPDB2  Aa2 texto   RMSD\n",
      "110    B110  PHE  :    D110  PHE  RMS:  0.359\n",
      "111    B111  ASN  :    D111  ASN  RMS:  0.375\n",
      "112    B112  THR  :    D112  THR  RMS:  0.237\n",
      "113    B113  VAL  :    D113  VAL  RMS:  0.342\n",
      "114    B114  LEU  :    D114  LEU  RMS:  0.334\n",
      "    PosPDB1  Aa1  : PosPDB2  Aa2 texto   RMSD\n",
      "115    B115  THR  :    D115  THR  RMS:  0.206\n",
      "116    B116  GLY  :    D116  GLY  RMS:  0.185\n",
      "117    B117  ASP  :    D117  ASP  RMS:  0.164\n",
      "118    B118  SER  :    D118  SER  RMS:  0.081\n",
      "119    B119  SER  :    D119  SER  RMS:  0.066\n",
      "    PosPDB1  Aa1  : PosPDB2  Aa2 texto   RMSD\n",
      "120    B120  LEU  :    D120  LEU  RMS:  0.066\n",
      "121    B121  GLN  :    D121  GLN  RMS:  0.139\n",
      "122    B122  ARG  :    D122  ARG  RMS:  0.082\n",
      "123    B123  ARG  :    D123  ARG  RMS:  0.026\n",
      "124    B124  PRO  :    D124  PRO  RMS:  0.185\n",
      "    PosPDB1  Aa1  : PosPDB2  Aa2 texto   RMSD\n",
      "125    B125  MET  :    D125  MET  RMS:  0.139\n",
      "126    B126  LYS  :    D126  LYS  RMS:  0.184\n",
      "127    B127  ARG  :    D127  ARG  RMS:  0.098\n",
      "128    B128  ILE  :    D128  ILE  RMS:  0.175\n",
      "129    B129  ILE  :    D129  ILE  RMS:  0.370\n",
      "    PosPDB1  Aa1  : PosPDB2  Aa2 texto   RMSD\n",
      "130    B130  ASP  :    D130  ASP  RMS:  0.522\n",
      "131    B131  PRO  :    D131  PRO  RMS:  0.360\n",
      "132    B132  LEU  :    D132  LEU  RMS:  0.227\n",
      "133    B133  THR  :    D133  THR  RMS:  0.366\n",
      "134    B134  LEU  :    D134  LEU  RMS:  0.417\n",
      "    PosPDB1  Aa1  : PosPDB2  Aa2 texto   RMSD\n",
      "135    B135  MET  :    D135  MET  RMS:  0.449\n",
      "136    B136  GLY  :    D136  GLY  RMS:  0.462\n",
      "137    B137  ALA  :    D137  ALA  RMS:  0.378\n",
      "138    B138  LYS  :    D138  LYS  RMS:  0.402\n",
      "139    B139  ILE  :    D139  ILE  RMS:  0.318\n",
      "    PosPDB1  Aa1  : PosPDB2  Aa2 texto   RMSD\n",
      "140    B140  ASP  :    D140  ASP  RMS:  0.434\n",
      "141    B141  SER  :    D141  SER  RMS:  0.682\n",
      "142    B142  THR  :    D142  THR  RMS:  1.690\n",
      "143    B143  GLY  :    D143  GLY  RMS:  0.713\n",
      "144    B144  ASN  :    D144  ASN  RMS:  0.156\n",
      "    PosPDB1  Aa1  : PosPDB2  Aa2 texto   RMSD\n",
      "145    B145  VAL  :    D145  VAL  RMS:  0.136\n",
      "146    B146  PRO  :    D146  PRO  RMS:  0.171\n",
      "147    B147  PRO  :    D147  PRO  RMS:  0.289\n",
      "148    B148  LEU  :    D148  LEU  RMS:  0.338\n",
      "149    B149  LYS  :    D149  LYS  RMS:  0.345\n",
      "    PosPDB1  Aa1  : PosPDB2  Aa2 texto   RMSD\n",
      "150    B150  ILE  :    D150  ILE  RMS:  0.352\n",
      "151    B151  TYR  :    D151  TYR  RMS:  0.354\n",
      "152    B152  GLY  :    D152  GLY  RMS:  0.303\n",
      "153    B153  ASN  :    D153  ASN  RMS:  0.421\n",
      "154    B154  PRO  :    D154  PRO  RMS:  0.358\n",
      "    PosPDB1  Aa1  : PosPDB2  Aa2 texto   RMSD\n",
      "155    B155  ARG  :    D155  ARG  RMS:  0.438\n",
      "156    B156  LEU  :    D156  LEU  RMS:  0.530\n",
      "157    B157  THR  :    D157  THR  RMS:  0.569\n",
      "158    B158  GLY  :    D158  GLY  RMS:  0.522\n",
      "159    B159  ILE  :    D159  ILE  RMS:  0.489\n",
      "    PosPDB1  Aa1  : PosPDB2  Aa2 texto   RMSD\n",
      "160    B160  HIS  :    D160  HIS  RMS:  0.525\n",
      "161    B161  TYR  :    D161  TYR  RMS:  0.346\n",
      "162    B162  GLN  :    D162  GLN  RMS:  0.308\n",
      "163    B163  LEU  :    D163  LEU  RMS:  0.188\n",
      "164    B164  PRO  :    D164  PRO  RMS:  0.092\n",
      "    PosPDB1  Aa1  : PosPDB2  Aa2 texto   RMSD\n",
      "165    B165  MET  :    D165  MET  RMS:  0.535\n",
      "166    B166  ALA  :    D166  ALA  RMS:  0.588\n",
      "167    B167  SER  :    D167  SER  RMS:  0.176\n",
      "168    B168  ALA  :    D168  ALA  RMS:  0.177\n",
      "169    B169  GLN  :    D169  GLN  RMS:  0.077\n",
      "    PosPDB1  Aa1  : PosPDB2  Aa2 texto   RMSD\n",
      "170    B170  VAL  :    D170  VAL  RMS:  0.086\n",
      "171    B171  LYS  :    D171  LYS  RMS:  0.174\n",
      "172    B172  SER  :    D172  SER  RMS:  0.157\n",
      "173    B173  CYS  :    D173  CYS  RMS:  0.138\n",
      "174    B174  LEU  :    D174  LEU  RMS:  0.261\n",
      "    PosPDB1  Aa1  : PosPDB2  Aa2 texto   RMSD\n",
      "175    B175  LEU  :    D175  LEU  RMS:  0.354\n",
      "176    B176  LEU  :    D176  LEU  RMS:  0.265\n",
      "177    B177  ALA  :    D177  ALA  RMS:  0.289\n",
      "178    B178  GLY  :    D178  GLY  RMS:  0.369\n",
      "179    B179  LEU  :    D179  LEU  RMS:  0.409\n",
      "    PosPDB1  Aa1  : PosPDB2  Aa2 texto   RMSD\n",
      "180    B180  TYR  :    D180  TYR  RMS:  0.394\n",
      "181    B181  ALA  :    D181  ALA  RMS:  0.422\n",
      "182    B182  ARG  :    D182  ARG  RMS:  0.520\n",
      "183    B183  GLY  :    D183  GLY  RMS:  0.474\n",
      "184    B184  LYS  :    D184  LYS  RMS:  0.456\n",
      "    PosPDB1  Aa1  : PosPDB2  Aa2 texto   RMSD\n",
      "185    B185  THR  :    D185  THR  RMS:  0.388\n",
      "186    B186  CYS  :    D186  CYS  RMS:  0.368\n",
      "187    B187  ILE  :    D187  ILE  RMS:  0.489\n",
      "188    B188  THR  :    D188  THR  RMS:  0.448\n",
      "189    B189  GLU  :    D189  GLU  RMS:  0.300\n",
      "    PosPDB1  Aa1  : PosPDB2  Aa2 texto   RMSD\n",
      "190    B190  PRO  :    D190  PRO  RMS:  0.336\n",
      "191    B191  ALA  :    D191  ALA  RMS:  0.886\n",
      "192    B192  PRO  :    D192  PRO  RMS:  0.586\n",
      "193    B193  SER  :    D193  SER  RMS:  0.171\n",
      "194    B194  ARG  :    D194  ARG  RMS:  0.131\n",
      "    PosPDB1  Aa1  : PosPDB2  Aa2 texto   RMSD\n",
      "195    B195  ASP  :    D195  ASP  RMS:  0.138\n",
      "196    B196  HIS  :    D196  HIS  RMS:  0.169\n",
      "197    B197  THR  :    D197  THR  RMS:  0.118\n",
      "198    B198  GLU  :    D198  GLU  RMS:  0.160\n",
      "199    B199  ARG  :    D199  ARG  RMS:  0.218\n",
      "    PosPDB1  Aa1  : PosPDB2  Aa2 texto   RMSD\n",
      "200    B200  LEU  :    D200  LEU  RMS:  0.260\n",
      "201    B201  LEU  :    D201  LEU  RMS:  0.337\n",
      "202    B202  LYS  :    D202  LYS  RMS:  0.488\n",
      "203    B203  HIS  :    D203  HIS  RMS:  0.472\n",
      "204    B204  PHE  :    D204  PHE  RMS:  0.396\n",
      "    PosPDB1  Aa1  : PosPDB2  Aa2 texto   RMSD\n",
      "205    B205  HIS  :    D205  HIS  RMS:  0.368\n",
      "206    B206  TYR  :    D206  TYR  RMS:  0.479\n",
      "207    B207  THR  :    D207  THR  RMS:  1.009\n",
      "208    B208  LEU  :    D208  LEU  RMS:  0.591\n",
      "209    B209  GLN  :    D209  GLN  RMS:  0.622\n",
      "    PosPDB1  Aa1  : PosPDB2  Aa2 texto   RMSD\n",
      "210    B210  LYS  :    D210  LYS  RMS:  1.671\n",
      "211    B211  ASP  :    D211  ASP  RMS:  1.836\n",
      "212    B212  LYS  :    D212  LYS  RMS:  2.708\n",
      "213    B214  SER  :    D214  SER  RMS:  0.872\n",
      "214    B215  ILE  :    D215  ILE  RMS:  0.804\n",
      "    PosPDB1  Aa1  : PosPDB2  Aa2 texto   RMSD\n",
      "215    B216  CYS  :    D216  CYS  RMS:  0.265\n",
      "216    B217  VAL  :    D217  VAL  RMS:  0.402\n",
      "217    B218  SER  :    D218  SER  RMS:  0.482\n",
      "218    B219  GLY  :    D219  GLY  RMS:  0.442\n",
      "219    B220  GLY  :    D220  GLY  RMS:  0.489\n",
      "    PosPDB1  Aa1  : PosPDB2  Aa2 texto   RMSD\n",
      "220    B221  GLY  :    D221  GLY  RMS:  0.421\n",
      "221    B222  LYS  :    D222  LYS  RMS:  0.414\n",
      "222    B223  LEU  :    D223  LEU  RMS:  0.334\n",
      "223    B224  LYS  :    D224  LYS  RMS:  0.386\n",
      "224    B225  ALA  :    D225  ALA  RMS:  0.313\n",
      "    PosPDB1  Aa1  : PosPDB2  Aa2 texto   RMSD\n",
      "225    B226  ASN  :    D226  ASN  RMS:  0.319\n",
      "226    B227  ASP  :    D227  ASP  RMS:  0.321\n",
      "227    B228  ILE  :    D228  ILE  RMS:  0.196\n",
      "228    B229  SER  :    D229  SER  RMS:  0.315\n",
      "229    B230  ILE  :    D230  ILE  RMS:  0.298\n",
      "    PosPDB1  Aa1  : PosPDB2  Aa2 texto   RMSD\n",
      "230    B231  PRO  :    D231  PRO  RMS:  0.276\n",
      "231    B232  GLY  :    D232  GLY  RMS:  0.286\n",
      "232    B233  ASP  :    D233  ASP  RMS:  0.291\n",
      "233    B234  ILE  :    D234  ILE  RMS:  0.261\n",
      "234    B235  SER  :    D235  SER  RMS:  0.241\n",
      "    PosPDB1  Aa1  : PosPDB2  Aa2 texto   RMSD\n",
      "235    B236  SER  :    D236  SER  RMS:  0.184\n",
      "236    B237  ALA  :    D237  ALA  RMS:  0.148\n",
      "237    B238  ALA  :    D238  ALA  RMS:  0.155\n",
      "238    B239  PHE  :    D239  PHE  RMS:  0.120\n",
      "239    B240  PHE  :    D240  PHE  RMS:  0.134\n",
      "    PosPDB1  Aa1  : PosPDB2  Aa2 texto   RMSD\n",
      "240    B241  ILE  :    D241  ILE  RMS:  0.227\n",
      "241    B242  VAL  :    D242  VAL  RMS:  0.134\n",
      "242    B243  ALA  :    D243  ALA  RMS:  0.128\n",
      "243    B244  ALA  :    D244  ALA  RMS:  0.240\n",
      "244    B245  THR  :    D245  THR  RMS:  0.221\n",
      "    PosPDB1  Aa1  : PosPDB2  Aa2 texto   RMSD\n",
      "245    B246  ILE  :    D246  ILE  RMS:  0.163\n",
      "246    B247  THR  :    D247  THR  RMS:  0.361\n",
      "247    B248  PRO  :    D248  PRO  RMS:  0.448\n",
      "248    B249  GLY  :    D249  GLY  RMS:  0.645\n",
      "249    B250  SER  :    D250  SER  RMS:  0.502\n",
      "    PosPDB1  Aa1  : PosPDB2  Aa2 texto   RMSD\n",
      "250    B251  ALA  :    D251  ALA  RMS:  0.530\n",
      "251    B252  ILE  :    D252  ILE  RMS:  0.385\n",
      "252    B253  ARG  :    D253  ARG  RMS:  0.418\n",
      "253    B254  LEU  :    D254  LEU  RMS:  0.332\n",
      "254    B255  CYS  :    D255  CYS  RMS:  0.367\n",
      "    PosPDB1  Aa1  : PosPDB2  Aa2 texto   RMSD\n",
      "255    B256  ARG  :    D256  ARG  RMS:  0.396\n",
      "256    B257  VAL  :    D257  VAL  RMS:  0.449\n",
      "257    B258  GLY  :    D258  GLY  RMS:  0.386\n",
      "258    B259  VAL  :    D259  VAL  RMS:  0.346\n",
      "259    B260  ASN  :    D260  ASN  RMS:  0.253\n",
      "    PosPDB1  Aa1  : PosPDB2  Aa2 texto   RMSD\n",
      "260    B261  PRO  :    D261  PRO  RMS:  0.216\n",
      "261    B262  THR  :    D262  THR  RMS:  0.186\n",
      "262    B263  ARG  :    D263  ARG  RMS:  0.161\n",
      "263    B264  LEU  :    D264  LEU  RMS:  0.263\n",
      "264    B265  GLY  :    D265  GLY  RMS:  0.349\n",
      "    PosPDB1  Aa1  : PosPDB2  Aa2 texto   RMSD\n",
      "265    B266  VAL  :    D266  VAL  RMS:  0.300\n",
      "266    B267  ILE  :    D267  ILE  RMS:  0.293\n",
      "267    B268  ASN  :    D268  ASN  RMS:  0.399\n",
      "268    B269  LEU  :    D269  LEU  RMS:  0.331\n",
      "269    B270  LEU  :    D270  LEU  RMS:  0.290\n",
      "    PosPDB1  Aa1  : PosPDB2  Aa2 texto   RMSD\n",
      "270    B271  LYS  :    D271  LYS  RMS:  0.358\n",
      "271    B272  MET  :    D272  MET  RMS:  0.340\n",
      "272    B273  MET  :    D273  MET  RMS:  0.241\n",
      "273    B274  GLY  :    D274  GLY  RMS:  0.356\n",
      "274    B275  ALA  :    D275  ALA  RMS:  0.348\n",
      "    PosPDB1  Aa1  : PosPDB2  Aa2 texto   RMSD\n",
      "275    B276  ASP  :    D276  ASP  RMS:  0.453\n",
      "276    B277  ILE  :    D277  ILE  RMS:  0.452\n",
      "277    B278  GLU  :    D278  GLU  RMS:  0.685\n",
      "278    B279  VAL  :    D279  VAL  RMS:  0.805\n",
      "279    B280  THR  :    D280  THR  RMS:  0.916\n",
      "    PosPDB1  Aa1  : PosPDB2  Aa2 texto   RMSD\n",
      "280    B281  HIS  :    D281  HIS  RMS:  0.401\n",
      "281    B282  TYR  :    D282  TYR  RMS:  0.792\n",
      "282    B283  THR  :    D283  THR  RMS:  0.810\n",
      "283    B284  GLU  :    D284  GLU  RMS:  1.245\n",
      "284    B285  LYS  :    D286  ASN  RMS:  0.579\n",
      "    PosPDB1  Aa1  : PosPDB2  Aa2 texto   RMSD\n",
      "285    B287  GLU  :    D287  GLU  RMS:  2.332\n",
      "286    B288  GLU  :    D288  GLU  RMS:  0.442\n",
      "287    B289  PRO  :    D289  PRO  RMS:  0.412\n",
      "288    B290  THR  :    D290  THR  RMS:  0.568\n",
      "289    B291  ALA  :    D291  ALA  RMS:  0.610\n",
      "    PosPDB1  Aa1  : PosPDB2  Aa2 texto   RMSD\n",
      "290    B292  ASP  :    D292  ASP  RMS:  0.536\n",
      "291    B293  ILE  :    D293  ILE  RMS:  0.522\n",
      "292    B294  THR  :    D294  THR  RMS:  0.510\n",
      "293    B295  VAL  :    D295  VAL  RMS:  0.474\n",
      "294    B296  ARG  :    D296  ARG  RMS:  0.433\n"
     ]
    },
    {
     "ename": "KeyError",
     "evalue": "0",
     "output_type": "error",
     "traceback": [
      "\u001b[0;31m---------------------------------------------------------------------------\u001b[0m",
      "\u001b[0;31mValueError\u001b[0m                                Traceback (most recent call last)",
      "\u001b[0;32m~/anaconda3/lib/python3.7/site-packages/pandas/core/indexes/range.py\u001b[0m in \u001b[0;36mget_loc\u001b[0;34m(self, key, method, tolerance)\u001b[0m\n\u001b[1;32m    349\u001b[0m             \u001b[0;32mtry\u001b[0m\u001b[0;34m:\u001b[0m\u001b[0;34m\u001b[0m\u001b[0;34m\u001b[0m\u001b[0m\n\u001b[0;32m--> 350\u001b[0;31m                 \u001b[0;32mreturn\u001b[0m \u001b[0mself\u001b[0m\u001b[0;34m.\u001b[0m\u001b[0m_range\u001b[0m\u001b[0;34m.\u001b[0m\u001b[0mindex\u001b[0m\u001b[0;34m(\u001b[0m\u001b[0mnew_key\u001b[0m\u001b[0;34m)\u001b[0m\u001b[0;34m\u001b[0m\u001b[0;34m\u001b[0m\u001b[0m\n\u001b[0m\u001b[1;32m    351\u001b[0m             \u001b[0;32mexcept\u001b[0m \u001b[0mValueError\u001b[0m\u001b[0;34m:\u001b[0m\u001b[0;34m\u001b[0m\u001b[0;34m\u001b[0m\u001b[0m\n",
      "\u001b[0;31mValueError\u001b[0m: 0 is not in range",
      "\nDuring handling of the above exception, another exception occurred:\n",
      "\u001b[0;31mKeyError\u001b[0m                                  Traceback (most recent call last)",
      "\u001b[0;32m<ipython-input-5-fd400d1a481a>\u001b[0m in \u001b[0;36m<module>\u001b[0;34m\u001b[0m\n\u001b[1;32m      1\u001b[0m \u001b[0;31m#Leer un archivo por pedazos\u001b[0m\u001b[0;34m\u001b[0m\u001b[0;34m\u001b[0m\u001b[0;34m\u001b[0m\u001b[0m\n\u001b[1;32m      2\u001b[0m \u001b[0;32mfor\u001b[0m \u001b[0mchunk\u001b[0m \u001b[0;32min\u001b[0m \u001b[0mpd\u001b[0m\u001b[0;34m.\u001b[0m\u001b[0mread_csv\u001b[0m\u001b[0;34m(\u001b[0m\u001b[0;34m\"./RMS-res_3SLH_B-3SLH_D.txt\"\u001b[0m\u001b[0;34m,\u001b[0m \u001b[0mchunksize\u001b[0m\u001b[0;34m=\u001b[0m\u001b[0;36m4\u001b[0m\u001b[0;34m,\u001b[0m \u001b[0miterator\u001b[0m\u001b[0;34m=\u001b[0m\u001b[0;32mTrue\u001b[0m\u001b[0;34m,\u001b[0m \u001b[0msep\u001b[0m\u001b[0;34m=\u001b[0m\u001b[0;34m\"\\s+\"\u001b[0m\u001b[0;34m,\u001b[0m \u001b[0mnames\u001b[0m\u001b[0;34m=\u001b[0m\u001b[0;34m[\u001b[0m\u001b[0;34m'PosPDB1'\u001b[0m\u001b[0;34m,\u001b[0m\u001b[0;34m'Aa1'\u001b[0m\u001b[0;34m,\u001b[0m\u001b[0;34m':'\u001b[0m\u001b[0;34m,\u001b[0m\u001b[0;34m'PosPDB2'\u001b[0m\u001b[0;34m,\u001b[0m\u001b[0;34m'Aa2'\u001b[0m\u001b[0;34m,\u001b[0m\u001b[0;34m'texto'\u001b[0m\u001b[0;34m,\u001b[0m\u001b[0;34m'RMSD'\u001b[0m\u001b[0;34m]\u001b[0m\u001b[0;34m)\u001b[0m\u001b[0;34m:\u001b[0m\u001b[0;34m\u001b[0m\u001b[0;34m\u001b[0m\u001b[0m\n\u001b[0;32m----> 3\u001b[0;31m     \u001b[0mprint\u001b[0m\u001b[0;34m(\u001b[0m\u001b[0mchunk\u001b[0m\u001b[0;34m[\u001b[0m\u001b[0;34m\"Aa1\"\u001b[0m\u001b[0;34m]\u001b[0m\u001b[0;34m.\u001b[0m\u001b[0mloc\u001b[0m\u001b[0;34m[\u001b[0m\u001b[0;36m0\u001b[0m\u001b[0;34m]\u001b[0m\u001b[0;34m)\u001b[0m \u001b[0;31m#Con .loc accedemos al valor por row de la columna 'Aa1' en este caso\u001b[0m\u001b[0;34m\u001b[0m\u001b[0;34m\u001b[0m\u001b[0m\n\u001b[0m\u001b[1;32m      4\u001b[0m     \u001b[0mprint\u001b[0m\u001b[0;34m(\u001b[0m\u001b[0mchunk\u001b[0m\u001b[0;34m)\u001b[0m\u001b[0;34m\u001b[0m\u001b[0;34m\u001b[0m\u001b[0m\n",
      "\u001b[0;32m~/anaconda3/lib/python3.7/site-packages/pandas/core/indexing.py\u001b[0m in \u001b[0;36m__getitem__\u001b[0;34m(self, key)\u001b[0m\n\u001b[1;32m   1766\u001b[0m \u001b[0;34m\u001b[0m\u001b[0m\n\u001b[1;32m   1767\u001b[0m             \u001b[0mmaybe_callable\u001b[0m \u001b[0;34m=\u001b[0m \u001b[0mcom\u001b[0m\u001b[0;34m.\u001b[0m\u001b[0mapply_if_callable\u001b[0m\u001b[0;34m(\u001b[0m\u001b[0mkey\u001b[0m\u001b[0;34m,\u001b[0m \u001b[0mself\u001b[0m\u001b[0;34m.\u001b[0m\u001b[0mobj\u001b[0m\u001b[0;34m)\u001b[0m\u001b[0;34m\u001b[0m\u001b[0;34m\u001b[0m\u001b[0m\n\u001b[0;32m-> 1768\u001b[0;31m             \u001b[0;32mreturn\u001b[0m \u001b[0mself\u001b[0m\u001b[0;34m.\u001b[0m\u001b[0m_getitem_axis\u001b[0m\u001b[0;34m(\u001b[0m\u001b[0mmaybe_callable\u001b[0m\u001b[0;34m,\u001b[0m \u001b[0maxis\u001b[0m\u001b[0;34m=\u001b[0m\u001b[0maxis\u001b[0m\u001b[0;34m)\u001b[0m\u001b[0;34m\u001b[0m\u001b[0;34m\u001b[0m\u001b[0m\n\u001b[0m\u001b[1;32m   1769\u001b[0m \u001b[0;34m\u001b[0m\u001b[0m\n\u001b[1;32m   1770\u001b[0m     \u001b[0;32mdef\u001b[0m \u001b[0m_is_scalar_access\u001b[0m\u001b[0;34m(\u001b[0m\u001b[0mself\u001b[0m\u001b[0;34m,\u001b[0m \u001b[0mkey\u001b[0m\u001b[0;34m:\u001b[0m \u001b[0mTuple\u001b[0m\u001b[0;34m)\u001b[0m\u001b[0;34m:\u001b[0m\u001b[0;34m\u001b[0m\u001b[0;34m\u001b[0m\u001b[0m\n",
      "\u001b[0;32m~/anaconda3/lib/python3.7/site-packages/pandas/core/indexing.py\u001b[0m in \u001b[0;36m_getitem_axis\u001b[0;34m(self, key, axis)\u001b[0m\n\u001b[1;32m   1963\u001b[0m         \u001b[0;31m# fall thru to straight lookup\u001b[0m\u001b[0;34m\u001b[0m\u001b[0;34m\u001b[0m\u001b[0;34m\u001b[0m\u001b[0m\n\u001b[1;32m   1964\u001b[0m         \u001b[0mself\u001b[0m\u001b[0;34m.\u001b[0m\u001b[0m_validate_key\u001b[0m\u001b[0;34m(\u001b[0m\u001b[0mkey\u001b[0m\u001b[0;34m,\u001b[0m \u001b[0maxis\u001b[0m\u001b[0;34m)\u001b[0m\u001b[0;34m\u001b[0m\u001b[0;34m\u001b[0m\u001b[0m\n\u001b[0;32m-> 1965\u001b[0;31m         \u001b[0;32mreturn\u001b[0m \u001b[0mself\u001b[0m\u001b[0;34m.\u001b[0m\u001b[0m_get_label\u001b[0m\u001b[0;34m(\u001b[0m\u001b[0mkey\u001b[0m\u001b[0;34m,\u001b[0m \u001b[0maxis\u001b[0m\u001b[0;34m=\u001b[0m\u001b[0maxis\u001b[0m\u001b[0;34m)\u001b[0m\u001b[0;34m\u001b[0m\u001b[0;34m\u001b[0m\u001b[0m\n\u001b[0m\u001b[1;32m   1966\u001b[0m \u001b[0;34m\u001b[0m\u001b[0m\n\u001b[1;32m   1967\u001b[0m \u001b[0;34m\u001b[0m\u001b[0m\n",
      "\u001b[0;32m~/anaconda3/lib/python3.7/site-packages/pandas/core/indexing.py\u001b[0m in \u001b[0;36m_get_label\u001b[0;34m(self, label, axis)\u001b[0m\n\u001b[1;32m    619\u001b[0m             \u001b[0;31m# but will fail when the index is not present\u001b[0m\u001b[0;34m\u001b[0m\u001b[0;34m\u001b[0m\u001b[0;34m\u001b[0m\u001b[0m\n\u001b[1;32m    620\u001b[0m             \u001b[0;31m# see GH5667\u001b[0m\u001b[0;34m\u001b[0m\u001b[0;34m\u001b[0m\u001b[0;34m\u001b[0m\u001b[0m\n\u001b[0;32m--> 621\u001b[0;31m             \u001b[0;32mreturn\u001b[0m \u001b[0mself\u001b[0m\u001b[0;34m.\u001b[0m\u001b[0mobj\u001b[0m\u001b[0;34m.\u001b[0m\u001b[0m_xs\u001b[0m\u001b[0;34m(\u001b[0m\u001b[0mlabel\u001b[0m\u001b[0;34m,\u001b[0m \u001b[0maxis\u001b[0m\u001b[0;34m=\u001b[0m\u001b[0maxis\u001b[0m\u001b[0;34m)\u001b[0m\u001b[0;34m\u001b[0m\u001b[0;34m\u001b[0m\u001b[0m\n\u001b[0m\u001b[1;32m    622\u001b[0m         \u001b[0;32melif\u001b[0m \u001b[0misinstance\u001b[0m\u001b[0;34m(\u001b[0m\u001b[0mlabel\u001b[0m\u001b[0;34m,\u001b[0m \u001b[0mtuple\u001b[0m\u001b[0;34m)\u001b[0m \u001b[0;32mand\u001b[0m \u001b[0misinstance\u001b[0m\u001b[0;34m(\u001b[0m\u001b[0mlabel\u001b[0m\u001b[0;34m[\u001b[0m\u001b[0maxis\u001b[0m\u001b[0;34m]\u001b[0m\u001b[0;34m,\u001b[0m \u001b[0mslice\u001b[0m\u001b[0;34m)\u001b[0m\u001b[0;34m:\u001b[0m\u001b[0;34m\u001b[0m\u001b[0;34m\u001b[0m\u001b[0m\n\u001b[1;32m    623\u001b[0m             \u001b[0;32mraise\u001b[0m \u001b[0mIndexingError\u001b[0m\u001b[0;34m(\u001b[0m\u001b[0;34m\"no slices here, handle elsewhere\"\u001b[0m\u001b[0;34m)\u001b[0m\u001b[0;34m\u001b[0m\u001b[0;34m\u001b[0m\u001b[0m\n",
      "\u001b[0;32m~/anaconda3/lib/python3.7/site-packages/pandas/core/generic.py\u001b[0m in \u001b[0;36mxs\u001b[0;34m(self, key, axis, level, drop_level)\u001b[0m\n\u001b[1;32m   3535\u001b[0m             \u001b[0mloc\u001b[0m\u001b[0;34m,\u001b[0m \u001b[0mnew_index\u001b[0m \u001b[0;34m=\u001b[0m \u001b[0mself\u001b[0m\u001b[0;34m.\u001b[0m\u001b[0mindex\u001b[0m\u001b[0;34m.\u001b[0m\u001b[0mget_loc_level\u001b[0m\u001b[0;34m(\u001b[0m\u001b[0mkey\u001b[0m\u001b[0;34m,\u001b[0m \u001b[0mdrop_level\u001b[0m\u001b[0;34m=\u001b[0m\u001b[0mdrop_level\u001b[0m\u001b[0;34m)\u001b[0m\u001b[0;34m\u001b[0m\u001b[0;34m\u001b[0m\u001b[0m\n\u001b[1;32m   3536\u001b[0m         \u001b[0;32melse\u001b[0m\u001b[0;34m:\u001b[0m\u001b[0;34m\u001b[0m\u001b[0;34m\u001b[0m\u001b[0m\n\u001b[0;32m-> 3537\u001b[0;31m             \u001b[0mloc\u001b[0m \u001b[0;34m=\u001b[0m \u001b[0mself\u001b[0m\u001b[0;34m.\u001b[0m\u001b[0mindex\u001b[0m\u001b[0;34m.\u001b[0m\u001b[0mget_loc\u001b[0m\u001b[0;34m(\u001b[0m\u001b[0mkey\u001b[0m\u001b[0;34m)\u001b[0m\u001b[0;34m\u001b[0m\u001b[0;34m\u001b[0m\u001b[0m\n\u001b[0m\u001b[1;32m   3538\u001b[0m \u001b[0;34m\u001b[0m\u001b[0m\n\u001b[1;32m   3539\u001b[0m             \u001b[0;32mif\u001b[0m \u001b[0misinstance\u001b[0m\u001b[0;34m(\u001b[0m\u001b[0mloc\u001b[0m\u001b[0;34m,\u001b[0m \u001b[0mnp\u001b[0m\u001b[0;34m.\u001b[0m\u001b[0mndarray\u001b[0m\u001b[0;34m)\u001b[0m\u001b[0;34m:\u001b[0m\u001b[0;34m\u001b[0m\u001b[0;34m\u001b[0m\u001b[0m\n",
      "\u001b[0;32m~/anaconda3/lib/python3.7/site-packages/pandas/core/indexes/range.py\u001b[0m in \u001b[0;36mget_loc\u001b[0;34m(self, key, method, tolerance)\u001b[0m\n\u001b[1;32m    350\u001b[0m                 \u001b[0;32mreturn\u001b[0m \u001b[0mself\u001b[0m\u001b[0;34m.\u001b[0m\u001b[0m_range\u001b[0m\u001b[0;34m.\u001b[0m\u001b[0mindex\u001b[0m\u001b[0;34m(\u001b[0m\u001b[0mnew_key\u001b[0m\u001b[0;34m)\u001b[0m\u001b[0;34m\u001b[0m\u001b[0;34m\u001b[0m\u001b[0m\n\u001b[1;32m    351\u001b[0m             \u001b[0;32mexcept\u001b[0m \u001b[0mValueError\u001b[0m\u001b[0;34m:\u001b[0m\u001b[0;34m\u001b[0m\u001b[0;34m\u001b[0m\u001b[0m\n\u001b[0;32m--> 352\u001b[0;31m                 \u001b[0;32mraise\u001b[0m \u001b[0mKeyError\u001b[0m\u001b[0;34m(\u001b[0m\u001b[0mkey\u001b[0m\u001b[0;34m)\u001b[0m\u001b[0;34m\u001b[0m\u001b[0;34m\u001b[0m\u001b[0m\n\u001b[0m\u001b[1;32m    353\u001b[0m         \u001b[0;32mreturn\u001b[0m \u001b[0msuper\u001b[0m\u001b[0;34m(\u001b[0m\u001b[0;34m)\u001b[0m\u001b[0;34m.\u001b[0m\u001b[0mget_loc\u001b[0m\u001b[0;34m(\u001b[0m\u001b[0mkey\u001b[0m\u001b[0;34m,\u001b[0m \u001b[0mmethod\u001b[0m\u001b[0;34m=\u001b[0m\u001b[0mmethod\u001b[0m\u001b[0;34m,\u001b[0m \u001b[0mtolerance\u001b[0m\u001b[0;34m=\u001b[0m\u001b[0mtolerance\u001b[0m\u001b[0;34m)\u001b[0m\u001b[0;34m\u001b[0m\u001b[0;34m\u001b[0m\u001b[0m\n\u001b[1;32m    354\u001b[0m \u001b[0;34m\u001b[0m\u001b[0m\n",
      "\u001b[0;31mKeyError\u001b[0m: 0"
     ]
    }
   ],
   "source": [
    "#Leer un archivo por pedazos\n",
    "for chunk in pd.read_csv(\"./RMS-res_3SLH_B-3SLH_D.txt\", chunksize=5, iterator=True, sep=\"\\s+\", names=['PosPDB1','Aa1',':','PosPDB2','Aa2','texto','RMSD']):\n",
    "    #print(chunk.loc[0]) #Con .loc accedemos al valor por row de la columna 'Aa1' en este caso\n",
    "    print(chunk)"
   ]
  },
  {
   "cell_type": "markdown",
   "metadata": {},
   "source": [
    "Mas informacion:\n",
    "\n",
    "https://pandas.pydata.org/pandas-docs/stable/generated/pandas.read_csv.html\n",
    "\n",
    "https://pandas.pydata.org/pandas-docs/stable/generated/pandas.read_table.html\n",
    "\n",
    "http://sdsawtelle.github.io/blog/output/large-data-files-pandas-sqlite.html\n",
    "\n",
    "https://pandas.pydata.org/pandas-docs/stable/generated/pandas.DataFrame.iloc.html\n",
    "\n",
    "https://stackoverflow.com/questions/31593201/pandas-iloc-vs-ix-vs-loc-explanation"
   ]
  },
  {
   "cell_type": "markdown",
   "metadata": {},
   "source": [
    "**Podemos quitar las columnas que no sirven:**"
   ]
  },
  {
   "cell_type": "code",
   "execution_count": 6,
   "metadata": {},
   "outputs": [],
   "source": [
    "del tabla[':']"
   ]
  },
  {
   "cell_type": "code",
   "execution_count": 7,
   "metadata": {},
   "outputs": [
    {
     "data": {
      "text/html": [
       "<div>\n",
       "<style scoped>\n",
       "    .dataframe tbody tr th:only-of-type {\n",
       "        vertical-align: middle;\n",
       "    }\n",
       "\n",
       "    .dataframe tbody tr th {\n",
       "        vertical-align: top;\n",
       "    }\n",
       "\n",
       "    .dataframe thead th {\n",
       "        text-align: right;\n",
       "    }\n",
       "</style>\n",
       "<table border=\"1\" class=\"dataframe\">\n",
       "  <thead>\n",
       "    <tr style=\"text-align: right;\">\n",
       "      <th></th>\n",
       "      <th>PosPDB1</th>\n",
       "      <th>Aa1</th>\n",
       "      <th>PosPDB2</th>\n",
       "      <th>Aa2</th>\n",
       "      <th>texto</th>\n",
       "      <th>RMSD</th>\n",
       "    </tr>\n",
       "  </thead>\n",
       "  <tbody>\n",
       "    <tr>\n",
       "      <th>0</th>\n",
       "      <td>B0</td>\n",
       "      <td>ALA</td>\n",
       "      <td>D0</td>\n",
       "      <td>ALA</td>\n",
       "      <td>RMS:</td>\n",
       "      <td>0.700</td>\n",
       "    </tr>\n",
       "    <tr>\n",
       "      <th>1</th>\n",
       "      <td>B1</td>\n",
       "      <td>MET</td>\n",
       "      <td>D1</td>\n",
       "      <td>MET</td>\n",
       "      <td>RMS:</td>\n",
       "      <td>0.373</td>\n",
       "    </tr>\n",
       "    <tr>\n",
       "      <th>2</th>\n",
       "      <td>B2</td>\n",
       "      <td>ASP</td>\n",
       "      <td>D2</td>\n",
       "      <td>ASP</td>\n",
       "      <td>RMS:</td>\n",
       "      <td>0.475</td>\n",
       "    </tr>\n",
       "    <tr>\n",
       "      <th>3</th>\n",
       "      <td>B3</td>\n",
       "      <td>TYR</td>\n",
       "      <td>D3</td>\n",
       "      <td>TYR</td>\n",
       "      <td>RMS:</td>\n",
       "      <td>0.390</td>\n",
       "    </tr>\n",
       "    <tr>\n",
       "      <th>4</th>\n",
       "      <td>B4</td>\n",
       "      <td>GLN</td>\n",
       "      <td>D4</td>\n",
       "      <td>GLN</td>\n",
       "      <td>RMS:</td>\n",
       "      <td>0.446</td>\n",
       "    </tr>\n",
       "  </tbody>\n",
       "</table>\n",
       "</div>"
      ],
      "text/plain": [
       "  PosPDB1  Aa1 PosPDB2  Aa2 texto   RMSD\n",
       "0      B0  ALA      D0  ALA  RMS:  0.700\n",
       "1      B1  MET      D1  MET  RMS:  0.373\n",
       "2      B2  ASP      D2  ASP  RMS:  0.475\n",
       "3      B3  TYR      D3  TYR  RMS:  0.390\n",
       "4      B4  GLN      D4  GLN  RMS:  0.446"
      ]
     },
     "execution_count": 7,
     "metadata": {},
     "output_type": "execute_result"
    }
   ],
   "source": [
    "#Fijense que podemos especificar el numero de row que deseamos qu enos muestre simplemente agregando el numero entre parentesis\n",
    "#Por default siempre nos muestra el header y 5 rows\n",
    "tabla.head()"
   ]
  },
  {
   "cell_type": "code",
   "execution_count": 8,
   "metadata": {},
   "outputs": [],
   "source": [
    "del tabla['texto']"
   ]
  },
  {
   "cell_type": "code",
   "execution_count": 9,
   "metadata": {},
   "outputs": [
    {
     "data": {
      "text/html": [
       "<div>\n",
       "<style scoped>\n",
       "    .dataframe tbody tr th:only-of-type {\n",
       "        vertical-align: middle;\n",
       "    }\n",
       "\n",
       "    .dataframe tbody tr th {\n",
       "        vertical-align: top;\n",
       "    }\n",
       "\n",
       "    .dataframe thead th {\n",
       "        text-align: right;\n",
       "    }\n",
       "</style>\n",
       "<table border=\"1\" class=\"dataframe\">\n",
       "  <thead>\n",
       "    <tr style=\"text-align: right;\">\n",
       "      <th></th>\n",
       "      <th>PosPDB1</th>\n",
       "      <th>Aa1</th>\n",
       "      <th>PosPDB2</th>\n",
       "      <th>Aa2</th>\n",
       "      <th>RMSD</th>\n",
       "    </tr>\n",
       "  </thead>\n",
       "  <tbody>\n",
       "    <tr>\n",
       "      <th>0</th>\n",
       "      <td>B0</td>\n",
       "      <td>ALA</td>\n",
       "      <td>D0</td>\n",
       "      <td>ALA</td>\n",
       "      <td>0.700</td>\n",
       "    </tr>\n",
       "    <tr>\n",
       "      <th>1</th>\n",
       "      <td>B1</td>\n",
       "      <td>MET</td>\n",
       "      <td>D1</td>\n",
       "      <td>MET</td>\n",
       "      <td>0.373</td>\n",
       "    </tr>\n",
       "    <tr>\n",
       "      <th>2</th>\n",
       "      <td>B2</td>\n",
       "      <td>ASP</td>\n",
       "      <td>D2</td>\n",
       "      <td>ASP</td>\n",
       "      <td>0.475</td>\n",
       "    </tr>\n",
       "    <tr>\n",
       "      <th>3</th>\n",
       "      <td>B3</td>\n",
       "      <td>TYR</td>\n",
       "      <td>D3</td>\n",
       "      <td>TYR</td>\n",
       "      <td>0.390</td>\n",
       "    </tr>\n",
       "  </tbody>\n",
       "</table>\n",
       "</div>"
      ],
      "text/plain": [
       "  PosPDB1  Aa1 PosPDB2  Aa2   RMSD\n",
       "0      B0  ALA      D0  ALA  0.700\n",
       "1      B1  MET      D1  MET  0.373\n",
       "2      B2  ASP      D2  ASP  0.475\n",
       "3      B3  TYR      D3  TYR  0.390"
      ]
     },
     "execution_count": 9,
     "metadata": {},
     "output_type": "execute_result"
    }
   ],
   "source": [
    "tabla.head(4)"
   ]
  },
  {
   "cell_type": "markdown",
   "metadata": {
    "collapsed": true
   },
   "source": [
    "**Podriamos por ejemplo tomar ciertos intervalos de caracteres en el texto para deteriminar las columnas:**"
   ]
  },
  {
   "cell_type": "code",
   "execution_count": 10,
   "metadata": {},
   "outputs": [
    {
     "data": {
      "text/html": [
       "<div>\n",
       "<style scoped>\n",
       "    .dataframe tbody tr th:only-of-type {\n",
       "        vertical-align: middle;\n",
       "    }\n",
       "\n",
       "    .dataframe tbody tr th {\n",
       "        vertical-align: top;\n",
       "    }\n",
       "\n",
       "    .dataframe thead th {\n",
       "        text-align: right;\n",
       "    }\n",
       "</style>\n",
       "<table border=\"1\" class=\"dataframe\">\n",
       "  <thead>\n",
       "    <tr style=\"text-align: right;\">\n",
       "      <th></th>\n",
       "      <th>PosPDB1</th>\n",
       "      <th>Aa1</th>\n",
       "      <th>PosPDB2</th>\n",
       "      <th>Aa2</th>\n",
       "      <th>RMSD</th>\n",
       "    </tr>\n",
       "  </thead>\n",
       "  <tbody>\n",
       "    <tr>\n",
       "      <th>0</th>\n",
       "      <td>B0</td>\n",
       "      <td>ALA</td>\n",
       "      <td>D0</td>\n",
       "      <td>ALA</td>\n",
       "      <td>0.700</td>\n",
       "    </tr>\n",
       "    <tr>\n",
       "      <th>1</th>\n",
       "      <td>B1</td>\n",
       "      <td>MET</td>\n",
       "      <td>D1</td>\n",
       "      <td>MET</td>\n",
       "      <td>0.373</td>\n",
       "    </tr>\n",
       "    <tr>\n",
       "      <th>2</th>\n",
       "      <td>B2</td>\n",
       "      <td>ASP</td>\n",
       "      <td>D2</td>\n",
       "      <td>ASP</td>\n",
       "      <td>0.475</td>\n",
       "    </tr>\n",
       "    <tr>\n",
       "      <th>3</th>\n",
       "      <td>B3</td>\n",
       "      <td>TYR</td>\n",
       "      <td>D3</td>\n",
       "      <td>TYR</td>\n",
       "      <td>0.390</td>\n",
       "    </tr>\n",
       "    <tr>\n",
       "      <th>4</th>\n",
       "      <td>B4</td>\n",
       "      <td>GLN</td>\n",
       "      <td>D4</td>\n",
       "      <td>GLN</td>\n",
       "      <td>0.446</td>\n",
       "    </tr>\n",
       "  </tbody>\n",
       "</table>\n",
       "</div>"
      ],
      "text/plain": [
       "  PosPDB1  Aa1 PosPDB2  Aa2   RMSD\n",
       "0      B0  ALA      D0  ALA  0.700\n",
       "1      B1  MET      D1  MET  0.373\n",
       "2      B2  ASP      D2  ASP  0.475\n",
       "3      B3  TYR      D3  TYR  0.390\n",
       "4      B4  GLN      D4  GLN  0.446"
      ]
     },
     "execution_count": 10,
     "metadata": {},
     "output_type": "execute_result"
    }
   ],
   "source": [
    "import pandas as pd\n",
    "tabla = pd.read_fwf(\"./RMS-res_3SLH_B-3SLH_D.txt\", colspecs=[(3,9),(9,12),(19,25),(25,28),(38,44)], names=['PosPDB1','Aa1','PosPDB2','Aa2','RMSD'])\n",
    "tabla.head()"
   ]
  },
  {
   "cell_type": "markdown",
   "metadata": {},
   "source": [
    "**Operando con las columnas**\n",
    "\n",
    "+ Accedemos a cada columna haciendo df['nombre de la columna'] (donde df es el nombre génerico para designar DataFrame, en nuestro caso por ejemplo hacemos:\n",
    "``` python\n",
    "tabla['nombre de la columna']\n",
    "```\n",
    "**¿Podés imprimir la columna de los RMSD de nuestra tabla?**"
   ]
  },
  {
   "cell_type": "code",
   "execution_count": 11,
   "metadata": {},
   "outputs": [
    {
     "data": {
      "text/plain": [
       "0      0.700\n",
       "1      0.373\n",
       "2      0.475\n",
       "3      0.390\n",
       "4      0.446\n",
       "       ...  \n",
       "430    0.483\n",
       "431    0.563\n",
       "432    0.445\n",
       "433    0.224\n",
       "434    0.018\n",
       "Name: RMSD, Length: 435, dtype: float64"
      ]
     },
     "execution_count": 11,
     "metadata": {},
     "output_type": "execute_result"
    }
   ],
   "source": [
    "tabla['RMSD']"
   ]
  },
  {
   "cell_type": "markdown",
   "metadata": {},
   "source": [
    "+ Cada columna de un DataFrame es una serie de datos al que podemos acceder como una lista:\n",
    "``` python\n",
    "df['columna'].tolist()\n",
    "```\n",
    "**Extrae la columna de los residuos de la estructura 1 como una lista y guardala en una variable denominada 'residuos':**"
   ]
  },
  {
   "cell_type": "code",
   "execution_count": 12,
   "metadata": {},
   "outputs": [],
   "source": [
    "residuos = tabla['Aa1'].tolist()"
   ]
  },
  {
   "cell_type": "markdown",
   "metadata": {},
   "source": [
    "+ Podemos conocer la longitud de nuestro DataFrame utiizando la misma función len() que hemos visto para listas y strings:\n",
    "``` python\n",
    "len(df)\n",
    "```\n",
    "**¿Cuál es la longitud de las secuencias?**"
   ]
  },
  {
   "cell_type": "code",
   "execution_count": 13,
   "metadata": {},
   "outputs": [
    {
     "data": {
      "text/plain": [
       "435"
      ]
     },
     "execution_count": 13,
     "metadata": {},
     "output_type": "execute_result"
    }
   ],
   "source": [
    "len(residuos)"
   ]
  },
  {
   "cell_type": "markdown",
   "metadata": {},
   "source": [
    "+ Podemos operar con las columnas con los mismo operadores relacionales y matemáticos que ya hemos visto:\n",
    "``` python\n",
    "df['columna'] * 2\n",
    "df['columna'] + 2\n",
    "df['columna'] > 2  \n",
    "```          \n",
    "**¿Qué nos dá en el último caso?**"
   ]
  },
  {
   "cell_type": "code",
   "execution_count": 14,
   "metadata": {},
   "outputs": [
    {
     "data": {
      "text/plain": [
       "'GLY'"
      ]
     },
     "execution_count": 14,
     "metadata": {},
     "output_type": "execute_result"
    }
   ],
   "source": [
    "residuos[-1]"
   ]
  },
  {
   "cell_type": "markdown",
   "metadata": {},
   "source": [
    "+ Podemos crear una nueva columna tomando una lista de datos del mismo tamño que nuestro dataFrame o una columna modificada:\n",
    "``` python\n",
    "df['columna nueva'] = df['columna'] * 2\n",
    "```\n",
    "**¿Podrías generar una columna cuyo valor sea el doble del valor del RMSD?**"
   ]
  },
  {
   "cell_type": "code",
   "execution_count": 15,
   "metadata": {},
   "outputs": [
    {
     "name": "stdout",
     "output_type": "stream",
     "text": [
      "0      1.400\n",
      "1      0.746\n",
      "2      0.950\n",
      "3      0.780\n",
      "4      0.892\n",
      "       ...  \n",
      "430    0.966\n",
      "431    1.126\n",
      "432    0.890\n",
      "433    0.448\n",
      "434    0.036\n",
      "Name: RMSD*2, Length: 435, dtype: float64\n"
     ]
    }
   ],
   "source": [
    "tabla['RMSD*2'] = tabla['RMSD'] * 2\n",
    "print(tabla['RMSD*2'])"
   ]
  },
  {
   "cell_type": "markdown",
   "metadata": {},
   "source": [
    "+ Los operadores tambien nos sirven para filtrar nuestro dataFrame:\n",
    "``` python\n",
    "df[df['columna'] > 0.2 ]\n",
    "```          \n",
    "**¿Podrías mostrar solo las lineas que corresponden a LYS?**"
   ]
  },
  {
   "cell_type": "code",
   "execution_count": 16,
   "metadata": {},
   "outputs": [
    {
     "name": "stdout",
     "output_type": "stream",
     "text": [
      "    PosPDB1  Aa1 PosPDB2  Aa2   RMSD  RMSD*2\n",
      "21      B21  LYS     D21  LYS  0.237   0.474\n",
      "126    B126  LYS    D126  LYS  0.184   0.368\n",
      "138    B138  LYS    D138  LYS  0.402   0.804\n",
      "149    B149  LYS    D149  LYS  0.345   0.690\n",
      "171    B171  LYS    D171  LYS  0.174   0.348\n",
      "184    B184  LYS    D184  LYS  0.456   0.912\n",
      "202    B202  LYS    D202  LYS  0.488   0.976\n",
      "210    B210  LYS    D210  LYS  0.671   1.342\n",
      "212    B212  LYS    D212  LYS  0.708   1.416\n",
      "221    B222  LYS    D222  LYS  0.414   0.828\n",
      "223    B224  LYS    D224  LYS  0.386   0.772\n",
      "270    B271  LYS    D271  LYS  0.358   0.716\n",
      "284    B285  LYS    D286  ASN  0.579   1.158\n",
      "299    B301  LYS    D301  LYS  0.339   0.678\n",
      "328    B330  LYS    D330  LYS  0.105   0.210\n",
      "340    B342  LYS    D342  LYS  0.241   0.482\n",
      "354    B356  LYS    D356  LYS  0.319   0.638\n",
      "398    B400  LYS    D400  LYS  0.567   1.134\n",
      "410    B412  LYS    D412  LYS  0.382   0.764\n",
      "428    B430  LYS    D430  LYS  0.612   1.224\n"
     ]
    }
   ],
   "source": [
    "print(tabla[tabla['Aa1'] == 'LYS'])"
   ]
  },
  {
   "cell_type": "markdown",
   "metadata": {},
   "source": [
    "+ Como ya vimos podemos acceder al valor de una celda haciendo:\n",
    "``` python\n",
    "df['nombre de la columna'].loc[0]\n",
    "```                \n",
    "**¿Podrías ahora mostrar los valores de RMSD de las lineas correspondientes al filtro aplicado anteriormente?**"
   ]
  },
  {
   "cell_type": "code",
   "execution_count": 17,
   "metadata": {},
   "outputs": [
    {
     "ename": "KeyError",
     "evalue": "0",
     "output_type": "error",
     "traceback": [
      "\u001b[0;31m---------------------------------------------------------------------------\u001b[0m",
      "\u001b[0;31mKeyError\u001b[0m                                  Traceback (most recent call last)",
      "\u001b[0;32m~/anaconda3/lib/python3.7/site-packages/pandas/core/indexes/base.py\u001b[0m in \u001b[0;36mget_loc\u001b[0;34m(self, key, method, tolerance)\u001b[0m\n\u001b[1;32m   2645\u001b[0m             \u001b[0;32mtry\u001b[0m\u001b[0;34m:\u001b[0m\u001b[0;34m\u001b[0m\u001b[0;34m\u001b[0m\u001b[0m\n\u001b[0;32m-> 2646\u001b[0;31m                 \u001b[0;32mreturn\u001b[0m \u001b[0mself\u001b[0m\u001b[0;34m.\u001b[0m\u001b[0m_engine\u001b[0m\u001b[0;34m.\u001b[0m\u001b[0mget_loc\u001b[0m\u001b[0;34m(\u001b[0m\u001b[0mkey\u001b[0m\u001b[0;34m)\u001b[0m\u001b[0;34m\u001b[0m\u001b[0;34m\u001b[0m\u001b[0m\n\u001b[0m\u001b[1;32m   2647\u001b[0m             \u001b[0;32mexcept\u001b[0m \u001b[0mKeyError\u001b[0m\u001b[0;34m:\u001b[0m\u001b[0;34m\u001b[0m\u001b[0;34m\u001b[0m\u001b[0m\n",
      "\u001b[0;32mpandas/_libs/index.pyx\u001b[0m in \u001b[0;36mpandas._libs.index.IndexEngine.get_loc\u001b[0;34m()\u001b[0m\n",
      "\u001b[0;32mpandas/_libs/index.pyx\u001b[0m in \u001b[0;36mpandas._libs.index.IndexEngine.get_loc\u001b[0;34m()\u001b[0m\n",
      "\u001b[0;32mpandas/_libs/hashtable_class_helper.pxi\u001b[0m in \u001b[0;36mpandas._libs.hashtable.Int64HashTable.get_item\u001b[0;34m()\u001b[0m\n",
      "\u001b[0;32mpandas/_libs/hashtable_class_helper.pxi\u001b[0m in \u001b[0;36mpandas._libs.hashtable.Int64HashTable.get_item\u001b[0;34m()\u001b[0m\n",
      "\u001b[0;31mKeyError\u001b[0m: 0",
      "\nDuring handling of the above exception, another exception occurred:\n",
      "\u001b[0;31mKeyError\u001b[0m                                  Traceback (most recent call last)",
      "\u001b[0;32m<ipython-input-17-df413a93079c>\u001b[0m in \u001b[0;36m<module>\u001b[0;34m\u001b[0m\n\u001b[1;32m      1\u001b[0m \u001b[0mfiltro1\u001b[0m \u001b[0;34m=\u001b[0m \u001b[0mtabla\u001b[0m\u001b[0;34m[\u001b[0m\u001b[0mtabla\u001b[0m\u001b[0;34m[\u001b[0m\u001b[0;34m'Aa1'\u001b[0m\u001b[0;34m]\u001b[0m \u001b[0;34m==\u001b[0m \u001b[0;34m'LYS'\u001b[0m\u001b[0;34m]\u001b[0m\u001b[0;34m\u001b[0m\u001b[0;34m\u001b[0m\u001b[0m\n\u001b[0;32m----> 2\u001b[0;31m \u001b[0mfiltro1\u001b[0m\u001b[0;34m[\u001b[0m\u001b[0;34m'RMSD'\u001b[0m\u001b[0;34m]\u001b[0m\u001b[0;34m.\u001b[0m\u001b[0mloc\u001b[0m\u001b[0;34m[\u001b[0m\u001b[0;36m0\u001b[0m\u001b[0;34m]\u001b[0m\u001b[0;34m\u001b[0m\u001b[0;34m\u001b[0m\u001b[0m\n\u001b[0m",
      "\u001b[0;32m~/anaconda3/lib/python3.7/site-packages/pandas/core/indexing.py\u001b[0m in \u001b[0;36m__getitem__\u001b[0;34m(self, key)\u001b[0m\n\u001b[1;32m   1766\u001b[0m \u001b[0;34m\u001b[0m\u001b[0m\n\u001b[1;32m   1767\u001b[0m             \u001b[0mmaybe_callable\u001b[0m \u001b[0;34m=\u001b[0m \u001b[0mcom\u001b[0m\u001b[0;34m.\u001b[0m\u001b[0mapply_if_callable\u001b[0m\u001b[0;34m(\u001b[0m\u001b[0mkey\u001b[0m\u001b[0;34m,\u001b[0m \u001b[0mself\u001b[0m\u001b[0;34m.\u001b[0m\u001b[0mobj\u001b[0m\u001b[0;34m)\u001b[0m\u001b[0;34m\u001b[0m\u001b[0;34m\u001b[0m\u001b[0m\n\u001b[0;32m-> 1768\u001b[0;31m             \u001b[0;32mreturn\u001b[0m \u001b[0mself\u001b[0m\u001b[0;34m.\u001b[0m\u001b[0m_getitem_axis\u001b[0m\u001b[0;34m(\u001b[0m\u001b[0mmaybe_callable\u001b[0m\u001b[0;34m,\u001b[0m \u001b[0maxis\u001b[0m\u001b[0;34m=\u001b[0m\u001b[0maxis\u001b[0m\u001b[0;34m)\u001b[0m\u001b[0;34m\u001b[0m\u001b[0;34m\u001b[0m\u001b[0m\n\u001b[0m\u001b[1;32m   1769\u001b[0m \u001b[0;34m\u001b[0m\u001b[0m\n\u001b[1;32m   1770\u001b[0m     \u001b[0;32mdef\u001b[0m \u001b[0m_is_scalar_access\u001b[0m\u001b[0;34m(\u001b[0m\u001b[0mself\u001b[0m\u001b[0;34m,\u001b[0m \u001b[0mkey\u001b[0m\u001b[0;34m:\u001b[0m \u001b[0mTuple\u001b[0m\u001b[0;34m)\u001b[0m\u001b[0;34m:\u001b[0m\u001b[0;34m\u001b[0m\u001b[0;34m\u001b[0m\u001b[0m\n",
      "\u001b[0;32m~/anaconda3/lib/python3.7/site-packages/pandas/core/indexing.py\u001b[0m in \u001b[0;36m_getitem_axis\u001b[0;34m(self, key, axis)\u001b[0m\n\u001b[1;32m   1963\u001b[0m         \u001b[0;31m# fall thru to straight lookup\u001b[0m\u001b[0;34m\u001b[0m\u001b[0;34m\u001b[0m\u001b[0;34m\u001b[0m\u001b[0m\n\u001b[1;32m   1964\u001b[0m         \u001b[0mself\u001b[0m\u001b[0;34m.\u001b[0m\u001b[0m_validate_key\u001b[0m\u001b[0;34m(\u001b[0m\u001b[0mkey\u001b[0m\u001b[0;34m,\u001b[0m \u001b[0maxis\u001b[0m\u001b[0;34m)\u001b[0m\u001b[0;34m\u001b[0m\u001b[0;34m\u001b[0m\u001b[0m\n\u001b[0;32m-> 1965\u001b[0;31m         \u001b[0;32mreturn\u001b[0m \u001b[0mself\u001b[0m\u001b[0;34m.\u001b[0m\u001b[0m_get_label\u001b[0m\u001b[0;34m(\u001b[0m\u001b[0mkey\u001b[0m\u001b[0;34m,\u001b[0m \u001b[0maxis\u001b[0m\u001b[0;34m=\u001b[0m\u001b[0maxis\u001b[0m\u001b[0;34m)\u001b[0m\u001b[0;34m\u001b[0m\u001b[0;34m\u001b[0m\u001b[0m\n\u001b[0m\u001b[1;32m   1966\u001b[0m \u001b[0;34m\u001b[0m\u001b[0m\n\u001b[1;32m   1967\u001b[0m \u001b[0;34m\u001b[0m\u001b[0m\n",
      "\u001b[0;32m~/anaconda3/lib/python3.7/site-packages/pandas/core/indexing.py\u001b[0m in \u001b[0;36m_get_label\u001b[0;34m(self, label, axis)\u001b[0m\n\u001b[1;32m    619\u001b[0m             \u001b[0;31m# but will fail when the index is not present\u001b[0m\u001b[0;34m\u001b[0m\u001b[0;34m\u001b[0m\u001b[0;34m\u001b[0m\u001b[0m\n\u001b[1;32m    620\u001b[0m             \u001b[0;31m# see GH5667\u001b[0m\u001b[0;34m\u001b[0m\u001b[0;34m\u001b[0m\u001b[0;34m\u001b[0m\u001b[0m\n\u001b[0;32m--> 621\u001b[0;31m             \u001b[0;32mreturn\u001b[0m \u001b[0mself\u001b[0m\u001b[0;34m.\u001b[0m\u001b[0mobj\u001b[0m\u001b[0;34m.\u001b[0m\u001b[0m_xs\u001b[0m\u001b[0;34m(\u001b[0m\u001b[0mlabel\u001b[0m\u001b[0;34m,\u001b[0m \u001b[0maxis\u001b[0m\u001b[0;34m=\u001b[0m\u001b[0maxis\u001b[0m\u001b[0;34m)\u001b[0m\u001b[0;34m\u001b[0m\u001b[0;34m\u001b[0m\u001b[0m\n\u001b[0m\u001b[1;32m    622\u001b[0m         \u001b[0;32melif\u001b[0m \u001b[0misinstance\u001b[0m\u001b[0;34m(\u001b[0m\u001b[0mlabel\u001b[0m\u001b[0;34m,\u001b[0m \u001b[0mtuple\u001b[0m\u001b[0;34m)\u001b[0m \u001b[0;32mand\u001b[0m \u001b[0misinstance\u001b[0m\u001b[0;34m(\u001b[0m\u001b[0mlabel\u001b[0m\u001b[0;34m[\u001b[0m\u001b[0maxis\u001b[0m\u001b[0;34m]\u001b[0m\u001b[0;34m,\u001b[0m \u001b[0mslice\u001b[0m\u001b[0;34m)\u001b[0m\u001b[0;34m:\u001b[0m\u001b[0;34m\u001b[0m\u001b[0;34m\u001b[0m\u001b[0m\n\u001b[1;32m    623\u001b[0m             \u001b[0;32mraise\u001b[0m \u001b[0mIndexingError\u001b[0m\u001b[0;34m(\u001b[0m\u001b[0;34m\"no slices here, handle elsewhere\"\u001b[0m\u001b[0;34m)\u001b[0m\u001b[0;34m\u001b[0m\u001b[0;34m\u001b[0m\u001b[0m\n",
      "\u001b[0;32m~/anaconda3/lib/python3.7/site-packages/pandas/core/generic.py\u001b[0m in \u001b[0;36mxs\u001b[0;34m(self, key, axis, level, drop_level)\u001b[0m\n\u001b[1;32m   3535\u001b[0m             \u001b[0mloc\u001b[0m\u001b[0;34m,\u001b[0m \u001b[0mnew_index\u001b[0m \u001b[0;34m=\u001b[0m \u001b[0mself\u001b[0m\u001b[0;34m.\u001b[0m\u001b[0mindex\u001b[0m\u001b[0;34m.\u001b[0m\u001b[0mget_loc_level\u001b[0m\u001b[0;34m(\u001b[0m\u001b[0mkey\u001b[0m\u001b[0;34m,\u001b[0m \u001b[0mdrop_level\u001b[0m\u001b[0;34m=\u001b[0m\u001b[0mdrop_level\u001b[0m\u001b[0;34m)\u001b[0m\u001b[0;34m\u001b[0m\u001b[0;34m\u001b[0m\u001b[0m\n\u001b[1;32m   3536\u001b[0m         \u001b[0;32melse\u001b[0m\u001b[0;34m:\u001b[0m\u001b[0;34m\u001b[0m\u001b[0;34m\u001b[0m\u001b[0m\n\u001b[0;32m-> 3537\u001b[0;31m             \u001b[0mloc\u001b[0m \u001b[0;34m=\u001b[0m \u001b[0mself\u001b[0m\u001b[0;34m.\u001b[0m\u001b[0mindex\u001b[0m\u001b[0;34m.\u001b[0m\u001b[0mget_loc\u001b[0m\u001b[0;34m(\u001b[0m\u001b[0mkey\u001b[0m\u001b[0;34m)\u001b[0m\u001b[0;34m\u001b[0m\u001b[0;34m\u001b[0m\u001b[0m\n\u001b[0m\u001b[1;32m   3538\u001b[0m \u001b[0;34m\u001b[0m\u001b[0m\n\u001b[1;32m   3539\u001b[0m             \u001b[0;32mif\u001b[0m \u001b[0misinstance\u001b[0m\u001b[0;34m(\u001b[0m\u001b[0mloc\u001b[0m\u001b[0;34m,\u001b[0m \u001b[0mnp\u001b[0m\u001b[0;34m.\u001b[0m\u001b[0mndarray\u001b[0m\u001b[0;34m)\u001b[0m\u001b[0;34m:\u001b[0m\u001b[0;34m\u001b[0m\u001b[0;34m\u001b[0m\u001b[0m\n",
      "\u001b[0;32m~/anaconda3/lib/python3.7/site-packages/pandas/core/indexes/base.py\u001b[0m in \u001b[0;36mget_loc\u001b[0;34m(self, key, method, tolerance)\u001b[0m\n\u001b[1;32m   2646\u001b[0m                 \u001b[0;32mreturn\u001b[0m \u001b[0mself\u001b[0m\u001b[0;34m.\u001b[0m\u001b[0m_engine\u001b[0m\u001b[0;34m.\u001b[0m\u001b[0mget_loc\u001b[0m\u001b[0;34m(\u001b[0m\u001b[0mkey\u001b[0m\u001b[0;34m)\u001b[0m\u001b[0;34m\u001b[0m\u001b[0;34m\u001b[0m\u001b[0m\n\u001b[1;32m   2647\u001b[0m             \u001b[0;32mexcept\u001b[0m \u001b[0mKeyError\u001b[0m\u001b[0;34m:\u001b[0m\u001b[0;34m\u001b[0m\u001b[0;34m\u001b[0m\u001b[0m\n\u001b[0;32m-> 2648\u001b[0;31m                 \u001b[0;32mreturn\u001b[0m \u001b[0mself\u001b[0m\u001b[0;34m.\u001b[0m\u001b[0m_engine\u001b[0m\u001b[0;34m.\u001b[0m\u001b[0mget_loc\u001b[0m\u001b[0;34m(\u001b[0m\u001b[0mself\u001b[0m\u001b[0;34m.\u001b[0m\u001b[0m_maybe_cast_indexer\u001b[0m\u001b[0;34m(\u001b[0m\u001b[0mkey\u001b[0m\u001b[0;34m)\u001b[0m\u001b[0;34m)\u001b[0m\u001b[0;34m\u001b[0m\u001b[0;34m\u001b[0m\u001b[0m\n\u001b[0m\u001b[1;32m   2649\u001b[0m         \u001b[0mindexer\u001b[0m \u001b[0;34m=\u001b[0m \u001b[0mself\u001b[0m\u001b[0;34m.\u001b[0m\u001b[0mget_indexer\u001b[0m\u001b[0;34m(\u001b[0m\u001b[0;34m[\u001b[0m\u001b[0mkey\u001b[0m\u001b[0;34m]\u001b[0m\u001b[0;34m,\u001b[0m \u001b[0mmethod\u001b[0m\u001b[0;34m=\u001b[0m\u001b[0mmethod\u001b[0m\u001b[0;34m,\u001b[0m \u001b[0mtolerance\u001b[0m\u001b[0;34m=\u001b[0m\u001b[0mtolerance\u001b[0m\u001b[0;34m)\u001b[0m\u001b[0;34m\u001b[0m\u001b[0;34m\u001b[0m\u001b[0m\n\u001b[1;32m   2650\u001b[0m         \u001b[0;32mif\u001b[0m \u001b[0mindexer\u001b[0m\u001b[0;34m.\u001b[0m\u001b[0mndim\u001b[0m \u001b[0;34m>\u001b[0m \u001b[0;36m1\u001b[0m \u001b[0;32mor\u001b[0m \u001b[0mindexer\u001b[0m\u001b[0;34m.\u001b[0m\u001b[0msize\u001b[0m \u001b[0;34m>\u001b[0m \u001b[0;36m1\u001b[0m\u001b[0;34m:\u001b[0m\u001b[0;34m\u001b[0m\u001b[0;34m\u001b[0m\u001b[0m\n",
      "\u001b[0;32mpandas/_libs/index.pyx\u001b[0m in \u001b[0;36mpandas._libs.index.IndexEngine.get_loc\u001b[0;34m()\u001b[0m\n",
      "\u001b[0;32mpandas/_libs/index.pyx\u001b[0m in \u001b[0;36mpandas._libs.index.IndexEngine.get_loc\u001b[0;34m()\u001b[0m\n",
      "\u001b[0;32mpandas/_libs/hashtable_class_helper.pxi\u001b[0m in \u001b[0;36mpandas._libs.hashtable.Int64HashTable.get_item\u001b[0;34m()\u001b[0m\n",
      "\u001b[0;32mpandas/_libs/hashtable_class_helper.pxi\u001b[0m in \u001b[0;36mpandas._libs.hashtable.Int64HashTable.get_item\u001b[0;34m()\u001b[0m\n",
      "\u001b[0;31mKeyError\u001b[0m: 0"
     ]
    }
   ],
   "source": [
    "filtro1 = tabla[tabla['Aa1'] == 'LYS']\n",
    "filtro1['RMSD'].loc[0]"
   ]
  },
  {
   "cell_type": "markdown",
   "metadata": {},
   "source": [
    "+ Podemos concatenar dataFrames haciendo:\n",
    "\n",
    "``` python\n",
    " nuevo_df = pd.concat([df1,df2])\n",
    "```\n",
    "**¿Podrías generar un dataFrame que solo contenga la información de la tabla para las posiciones correspondientes a LYS y ARG?**"
   ]
  },
  {
   "cell_type": "code",
   "execution_count": 18,
   "metadata": {},
   "outputs": [
    {
     "data": {
      "text/html": [
       "<div>\n",
       "<style scoped>\n",
       "    .dataframe tbody tr th:only-of-type {\n",
       "        vertical-align: middle;\n",
       "    }\n",
       "\n",
       "    .dataframe tbody tr th {\n",
       "        vertical-align: top;\n",
       "    }\n",
       "\n",
       "    .dataframe thead th {\n",
       "        text-align: right;\n",
       "    }\n",
       "</style>\n",
       "<table border=\"1\" class=\"dataframe\">\n",
       "  <thead>\n",
       "    <tr style=\"text-align: right;\">\n",
       "      <th></th>\n",
       "      <th>PosPDB1</th>\n",
       "      <th>Aa1</th>\n",
       "      <th>PosPDB2</th>\n",
       "      <th>Aa2</th>\n",
       "      <th>RMSD</th>\n",
       "      <th>RMSD*2</th>\n",
       "    </tr>\n",
       "  </thead>\n",
       "  <tbody>\n",
       "    <tr>\n",
       "      <th>21</th>\n",
       "      <td>B21</td>\n",
       "      <td>LYS</td>\n",
       "      <td>D21</td>\n",
       "      <td>LYS</td>\n",
       "      <td>0.237</td>\n",
       "      <td>0.474</td>\n",
       "    </tr>\n",
       "    <tr>\n",
       "      <th>126</th>\n",
       "      <td>B126</td>\n",
       "      <td>LYS</td>\n",
       "      <td>D126</td>\n",
       "      <td>LYS</td>\n",
       "      <td>0.184</td>\n",
       "      <td>0.368</td>\n",
       "    </tr>\n",
       "    <tr>\n",
       "      <th>138</th>\n",
       "      <td>B138</td>\n",
       "      <td>LYS</td>\n",
       "      <td>D138</td>\n",
       "      <td>LYS</td>\n",
       "      <td>0.402</td>\n",
       "      <td>0.804</td>\n",
       "    </tr>\n",
       "    <tr>\n",
       "      <th>149</th>\n",
       "      <td>B149</td>\n",
       "      <td>LYS</td>\n",
       "      <td>D149</td>\n",
       "      <td>LYS</td>\n",
       "      <td>0.345</td>\n",
       "      <td>0.690</td>\n",
       "    </tr>\n",
       "    <tr>\n",
       "      <th>171</th>\n",
       "      <td>B171</td>\n",
       "      <td>LYS</td>\n",
       "      <td>D171</td>\n",
       "      <td>LYS</td>\n",
       "      <td>0.174</td>\n",
       "      <td>0.348</td>\n",
       "    </tr>\n",
       "    <tr>\n",
       "      <th>184</th>\n",
       "      <td>B184</td>\n",
       "      <td>LYS</td>\n",
       "      <td>D184</td>\n",
       "      <td>LYS</td>\n",
       "      <td>0.456</td>\n",
       "      <td>0.912</td>\n",
       "    </tr>\n",
       "    <tr>\n",
       "      <th>202</th>\n",
       "      <td>B202</td>\n",
       "      <td>LYS</td>\n",
       "      <td>D202</td>\n",
       "      <td>LYS</td>\n",
       "      <td>0.488</td>\n",
       "      <td>0.976</td>\n",
       "    </tr>\n",
       "    <tr>\n",
       "      <th>210</th>\n",
       "      <td>B210</td>\n",
       "      <td>LYS</td>\n",
       "      <td>D210</td>\n",
       "      <td>LYS</td>\n",
       "      <td>0.671</td>\n",
       "      <td>1.342</td>\n",
       "    </tr>\n",
       "    <tr>\n",
       "      <th>212</th>\n",
       "      <td>B212</td>\n",
       "      <td>LYS</td>\n",
       "      <td>D212</td>\n",
       "      <td>LYS</td>\n",
       "      <td>0.708</td>\n",
       "      <td>1.416</td>\n",
       "    </tr>\n",
       "    <tr>\n",
       "      <th>221</th>\n",
       "      <td>B222</td>\n",
       "      <td>LYS</td>\n",
       "      <td>D222</td>\n",
       "      <td>LYS</td>\n",
       "      <td>0.414</td>\n",
       "      <td>0.828</td>\n",
       "    </tr>\n",
       "    <tr>\n",
       "      <th>223</th>\n",
       "      <td>B224</td>\n",
       "      <td>LYS</td>\n",
       "      <td>D224</td>\n",
       "      <td>LYS</td>\n",
       "      <td>0.386</td>\n",
       "      <td>0.772</td>\n",
       "    </tr>\n",
       "    <tr>\n",
       "      <th>270</th>\n",
       "      <td>B271</td>\n",
       "      <td>LYS</td>\n",
       "      <td>D271</td>\n",
       "      <td>LYS</td>\n",
       "      <td>0.358</td>\n",
       "      <td>0.716</td>\n",
       "    </tr>\n",
       "    <tr>\n",
       "      <th>284</th>\n",
       "      <td>B285</td>\n",
       "      <td>LYS</td>\n",
       "      <td>D286</td>\n",
       "      <td>ASN</td>\n",
       "      <td>0.579</td>\n",
       "      <td>1.158</td>\n",
       "    </tr>\n",
       "    <tr>\n",
       "      <th>299</th>\n",
       "      <td>B301</td>\n",
       "      <td>LYS</td>\n",
       "      <td>D301</td>\n",
       "      <td>LYS</td>\n",
       "      <td>0.339</td>\n",
       "      <td>0.678</td>\n",
       "    </tr>\n",
       "    <tr>\n",
       "      <th>328</th>\n",
       "      <td>B330</td>\n",
       "      <td>LYS</td>\n",
       "      <td>D330</td>\n",
       "      <td>LYS</td>\n",
       "      <td>0.105</td>\n",
       "      <td>0.210</td>\n",
       "    </tr>\n",
       "    <tr>\n",
       "      <th>340</th>\n",
       "      <td>B342</td>\n",
       "      <td>LYS</td>\n",
       "      <td>D342</td>\n",
       "      <td>LYS</td>\n",
       "      <td>0.241</td>\n",
       "      <td>0.482</td>\n",
       "    </tr>\n",
       "    <tr>\n",
       "      <th>354</th>\n",
       "      <td>B356</td>\n",
       "      <td>LYS</td>\n",
       "      <td>D356</td>\n",
       "      <td>LYS</td>\n",
       "      <td>0.319</td>\n",
       "      <td>0.638</td>\n",
       "    </tr>\n",
       "    <tr>\n",
       "      <th>398</th>\n",
       "      <td>B400</td>\n",
       "      <td>LYS</td>\n",
       "      <td>D400</td>\n",
       "      <td>LYS</td>\n",
       "      <td>0.567</td>\n",
       "      <td>1.134</td>\n",
       "    </tr>\n",
       "    <tr>\n",
       "      <th>410</th>\n",
       "      <td>B412</td>\n",
       "      <td>LYS</td>\n",
       "      <td>D412</td>\n",
       "      <td>LYS</td>\n",
       "      <td>0.382</td>\n",
       "      <td>0.764</td>\n",
       "    </tr>\n",
       "    <tr>\n",
       "      <th>428</th>\n",
       "      <td>B430</td>\n",
       "      <td>LYS</td>\n",
       "      <td>D430</td>\n",
       "      <td>LYS</td>\n",
       "      <td>0.612</td>\n",
       "      <td>1.224</td>\n",
       "    </tr>\n",
       "    <tr>\n",
       "      <th>26</th>\n",
       "      <td>B26</td>\n",
       "      <td>ARG</td>\n",
       "      <td>D26</td>\n",
       "      <td>ARG</td>\n",
       "      <td>0.136</td>\n",
       "      <td>0.272</td>\n",
       "    </tr>\n",
       "    <tr>\n",
       "      <th>99</th>\n",
       "      <td>B99</td>\n",
       "      <td>ARG</td>\n",
       "      <td>D99</td>\n",
       "      <td>ARG</td>\n",
       "      <td>0.107</td>\n",
       "      <td>0.214</td>\n",
       "    </tr>\n",
       "    <tr>\n",
       "      <th>122</th>\n",
       "      <td>B122</td>\n",
       "      <td>ARG</td>\n",
       "      <td>D122</td>\n",
       "      <td>ARG</td>\n",
       "      <td>0.082</td>\n",
       "      <td>0.164</td>\n",
       "    </tr>\n",
       "    <tr>\n",
       "      <th>123</th>\n",
       "      <td>B123</td>\n",
       "      <td>ARG</td>\n",
       "      <td>D123</td>\n",
       "      <td>ARG</td>\n",
       "      <td>0.026</td>\n",
       "      <td>0.052</td>\n",
       "    </tr>\n",
       "    <tr>\n",
       "      <th>127</th>\n",
       "      <td>B127</td>\n",
       "      <td>ARG</td>\n",
       "      <td>D127</td>\n",
       "      <td>ARG</td>\n",
       "      <td>0.098</td>\n",
       "      <td>0.196</td>\n",
       "    </tr>\n",
       "    <tr>\n",
       "      <th>155</th>\n",
       "      <td>B155</td>\n",
       "      <td>ARG</td>\n",
       "      <td>D155</td>\n",
       "      <td>ARG</td>\n",
       "      <td>0.438</td>\n",
       "      <td>0.876</td>\n",
       "    </tr>\n",
       "    <tr>\n",
       "      <th>182</th>\n",
       "      <td>B182</td>\n",
       "      <td>ARG</td>\n",
       "      <td>D182</td>\n",
       "      <td>ARG</td>\n",
       "      <td>0.520</td>\n",
       "      <td>1.040</td>\n",
       "    </tr>\n",
       "    <tr>\n",
       "      <th>194</th>\n",
       "      <td>B194</td>\n",
       "      <td>ARG</td>\n",
       "      <td>D194</td>\n",
       "      <td>ARG</td>\n",
       "      <td>0.131</td>\n",
       "      <td>0.262</td>\n",
       "    </tr>\n",
       "    <tr>\n",
       "      <th>199</th>\n",
       "      <td>B199</td>\n",
       "      <td>ARG</td>\n",
       "      <td>D199</td>\n",
       "      <td>ARG</td>\n",
       "      <td>0.218</td>\n",
       "      <td>0.436</td>\n",
       "    </tr>\n",
       "    <tr>\n",
       "      <th>252</th>\n",
       "      <td>B253</td>\n",
       "      <td>ARG</td>\n",
       "      <td>D253</td>\n",
       "      <td>ARG</td>\n",
       "      <td>0.418</td>\n",
       "      <td>0.836</td>\n",
       "    </tr>\n",
       "    <tr>\n",
       "      <th>255</th>\n",
       "      <td>B256</td>\n",
       "      <td>ARG</td>\n",
       "      <td>D256</td>\n",
       "      <td>ARG</td>\n",
       "      <td>0.396</td>\n",
       "      <td>0.792</td>\n",
       "    </tr>\n",
       "    <tr>\n",
       "      <th>262</th>\n",
       "      <td>B263</td>\n",
       "      <td>ARG</td>\n",
       "      <td>D263</td>\n",
       "      <td>ARG</td>\n",
       "      <td>0.161</td>\n",
       "      <td>0.322</td>\n",
       "    </tr>\n",
       "    <tr>\n",
       "      <th>294</th>\n",
       "      <td>B296</td>\n",
       "      <td>ARG</td>\n",
       "      <td>D296</td>\n",
       "      <td>ARG</td>\n",
       "      <td>0.433</td>\n",
       "      <td>0.866</td>\n",
       "    </tr>\n",
       "    <tr>\n",
       "      <th>297</th>\n",
       "      <td>B299</td>\n",
       "      <td>ARG</td>\n",
       "      <td>D299</td>\n",
       "      <td>ARG</td>\n",
       "      <td>0.399</td>\n",
       "      <td>0.798</td>\n",
       "    </tr>\n",
       "    <tr>\n",
       "      <th>332</th>\n",
       "      <td>B334</td>\n",
       "      <td>ARG</td>\n",
       "      <td>D334</td>\n",
       "      <td>ARG</td>\n",
       "      <td>0.436</td>\n",
       "      <td>0.872</td>\n",
       "    </tr>\n",
       "    <tr>\n",
       "      <th>338</th>\n",
       "      <td>B340</td>\n",
       "      <td>ARG</td>\n",
       "      <td>D340</td>\n",
       "      <td>ARG</td>\n",
       "      <td>0.328</td>\n",
       "      <td>0.656</td>\n",
       "    </tr>\n",
       "    <tr>\n",
       "      <th>344</th>\n",
       "      <td>B346</td>\n",
       "      <td>ARG</td>\n",
       "      <td>D346</td>\n",
       "      <td>ARG</td>\n",
       "      <td>0.240</td>\n",
       "      <td>0.480</td>\n",
       "    </tr>\n",
       "    <tr>\n",
       "      <th>385</th>\n",
       "      <td>B387</td>\n",
       "      <td>ARG</td>\n",
       "      <td>D387</td>\n",
       "      <td>ARG</td>\n",
       "      <td>0.204</td>\n",
       "      <td>0.408</td>\n",
       "    </tr>\n",
       "    <tr>\n",
       "      <th>402</th>\n",
       "      <td>B404</td>\n",
       "      <td>ARG</td>\n",
       "      <td>D404</td>\n",
       "      <td>ARG</td>\n",
       "      <td>0.428</td>\n",
       "      <td>0.856</td>\n",
       "    </tr>\n",
       "    <tr>\n",
       "      <th>404</th>\n",
       "      <td>B406</td>\n",
       "      <td>ARG</td>\n",
       "      <td>D406</td>\n",
       "      <td>ARG</td>\n",
       "      <td>0.497</td>\n",
       "      <td>0.994</td>\n",
       "    </tr>\n",
       "    <tr>\n",
       "      <th>431</th>\n",
       "      <td>B433</td>\n",
       "      <td>ARG</td>\n",
       "      <td>D433</td>\n",
       "      <td>ARG</td>\n",
       "      <td>0.563</td>\n",
       "      <td>1.126</td>\n",
       "    </tr>\n",
       "    <tr>\n",
       "      <th>433</th>\n",
       "      <td>B435</td>\n",
       "      <td>ARG</td>\n",
       "      <td>D435</td>\n",
       "      <td>ARG</td>\n",
       "      <td>0.224</td>\n",
       "      <td>0.448</td>\n",
       "    </tr>\n",
       "  </tbody>\n",
       "</table>\n",
       "</div>"
      ],
      "text/plain": [
       "    PosPDB1  Aa1 PosPDB2  Aa2   RMSD  RMSD*2\n",
       "21      B21  LYS     D21  LYS  0.237   0.474\n",
       "126    B126  LYS    D126  LYS  0.184   0.368\n",
       "138    B138  LYS    D138  LYS  0.402   0.804\n",
       "149    B149  LYS    D149  LYS  0.345   0.690\n",
       "171    B171  LYS    D171  LYS  0.174   0.348\n",
       "184    B184  LYS    D184  LYS  0.456   0.912\n",
       "202    B202  LYS    D202  LYS  0.488   0.976\n",
       "210    B210  LYS    D210  LYS  0.671   1.342\n",
       "212    B212  LYS    D212  LYS  0.708   1.416\n",
       "221    B222  LYS    D222  LYS  0.414   0.828\n",
       "223    B224  LYS    D224  LYS  0.386   0.772\n",
       "270    B271  LYS    D271  LYS  0.358   0.716\n",
       "284    B285  LYS    D286  ASN  0.579   1.158\n",
       "299    B301  LYS    D301  LYS  0.339   0.678\n",
       "328    B330  LYS    D330  LYS  0.105   0.210\n",
       "340    B342  LYS    D342  LYS  0.241   0.482\n",
       "354    B356  LYS    D356  LYS  0.319   0.638\n",
       "398    B400  LYS    D400  LYS  0.567   1.134\n",
       "410    B412  LYS    D412  LYS  0.382   0.764\n",
       "428    B430  LYS    D430  LYS  0.612   1.224\n",
       "26      B26  ARG     D26  ARG  0.136   0.272\n",
       "99      B99  ARG     D99  ARG  0.107   0.214\n",
       "122    B122  ARG    D122  ARG  0.082   0.164\n",
       "123    B123  ARG    D123  ARG  0.026   0.052\n",
       "127    B127  ARG    D127  ARG  0.098   0.196\n",
       "155    B155  ARG    D155  ARG  0.438   0.876\n",
       "182    B182  ARG    D182  ARG  0.520   1.040\n",
       "194    B194  ARG    D194  ARG  0.131   0.262\n",
       "199    B199  ARG    D199  ARG  0.218   0.436\n",
       "252    B253  ARG    D253  ARG  0.418   0.836\n",
       "255    B256  ARG    D256  ARG  0.396   0.792\n",
       "262    B263  ARG    D263  ARG  0.161   0.322\n",
       "294    B296  ARG    D296  ARG  0.433   0.866\n",
       "297    B299  ARG    D299  ARG  0.399   0.798\n",
       "332    B334  ARG    D334  ARG  0.436   0.872\n",
       "338    B340  ARG    D340  ARG  0.328   0.656\n",
       "344    B346  ARG    D346  ARG  0.240   0.480\n",
       "385    B387  ARG    D387  ARG  0.204   0.408\n",
       "402    B404  ARG    D404  ARG  0.428   0.856\n",
       "404    B406  ARG    D406  ARG  0.497   0.994\n",
       "431    B433  ARG    D433  ARG  0.563   1.126\n",
       "433    B435  ARG    D435  ARG  0.224   0.448"
      ]
     },
     "execution_count": 18,
     "metadata": {},
     "output_type": "execute_result"
    }
   ],
   "source": [
    "pd.concat([tabla[tabla['Aa1'] == 'LYS'],tabla[tabla['Aa1'] == 'ARG']])"
   ]
  },
  {
   "cell_type": "markdown",
   "metadata": {},
   "source": [
    "+ Podemos, también, extraer las columnas que tiene un string dado:\n",
    "             \n",
    "\n",
    "``` python\n",
    "df[df['columna'].str.contains(\"string\")]         \n",
    "```\n",
    "**Filtra la tabla original para quedarte con la linea correspondiente a la posicion 301**                "
   ]
  },
  {
   "cell_type": "code",
   "execution_count": 19,
   "metadata": {},
   "outputs": [
    {
     "data": {
      "text/html": [
       "<div>\n",
       "<style scoped>\n",
       "    .dataframe tbody tr th:only-of-type {\n",
       "        vertical-align: middle;\n",
       "    }\n",
       "\n",
       "    .dataframe tbody tr th {\n",
       "        vertical-align: top;\n",
       "    }\n",
       "\n",
       "    .dataframe thead th {\n",
       "        text-align: right;\n",
       "    }\n",
       "</style>\n",
       "<table border=\"1\" class=\"dataframe\">\n",
       "  <thead>\n",
       "    <tr style=\"text-align: right;\">\n",
       "      <th></th>\n",
       "      <th>PosPDB1</th>\n",
       "      <th>Aa1</th>\n",
       "      <th>PosPDB2</th>\n",
       "      <th>Aa2</th>\n",
       "      <th>RMSD</th>\n",
       "      <th>RMSD*2</th>\n",
       "    </tr>\n",
       "  </thead>\n",
       "  <tbody>\n",
       "    <tr>\n",
       "      <th>299</th>\n",
       "      <td>B301</td>\n",
       "      <td>LYS</td>\n",
       "      <td>D301</td>\n",
       "      <td>LYS</td>\n",
       "      <td>0.339</td>\n",
       "      <td>0.678</td>\n",
       "    </tr>\n",
       "  </tbody>\n",
       "</table>\n",
       "</div>"
      ],
      "text/plain": [
       "    PosPDB1  Aa1 PosPDB2  Aa2   RMSD  RMSD*2\n",
       "299    B301  LYS    D301  LYS  0.339   0.678"
      ]
     },
     "execution_count": 19,
     "metadata": {},
     "output_type": "execute_result"
    }
   ],
   "source": [
    "tabla[tabla['PosPDB1'].str.contains(\"B301\")]"
   ]
  },
  {
   "cell_type": "markdown",
   "metadata": {},
   "source": [
    "Pandas nos permite hacer una estadistica básica de nuestros dartos:"
   ]
  },
  {
   "cell_type": "code",
   "execution_count": 22,
   "metadata": {},
   "outputs": [
    {
     "data": {
      "text/html": [
       "<div>\n",
       "<style scoped>\n",
       "    .dataframe tbody tr th:only-of-type {\n",
       "        vertical-align: middle;\n",
       "    }\n",
       "\n",
       "    .dataframe tbody tr th {\n",
       "        vertical-align: top;\n",
       "    }\n",
       "\n",
       "    .dataframe thead th {\n",
       "        text-align: right;\n",
       "    }\n",
       "</style>\n",
       "<table border=\"1\" class=\"dataframe\">\n",
       "  <thead>\n",
       "    <tr style=\"text-align: right;\">\n",
       "      <th></th>\n",
       "      <th>RMSD</th>\n",
       "      <th>RMSD*2</th>\n",
       "    </tr>\n",
       "  </thead>\n",
       "  <tbody>\n",
       "    <tr>\n",
       "      <th>count</th>\n",
       "      <td>435.000000</td>\n",
       "      <td>435.000000</td>\n",
       "    </tr>\n",
       "    <tr>\n",
       "      <th>mean</th>\n",
       "      <td>0.329632</td>\n",
       "      <td>0.659264</td>\n",
       "    </tr>\n",
       "    <tr>\n",
       "      <th>std</th>\n",
       "      <td>0.171118</td>\n",
       "      <td>0.342236</td>\n",
       "    </tr>\n",
       "    <tr>\n",
       "      <th>min</th>\n",
       "      <td>0.009000</td>\n",
       "      <td>0.018000</td>\n",
       "    </tr>\n",
       "    <tr>\n",
       "      <th>25%</th>\n",
       "      <td>0.210000</td>\n",
       "      <td>0.420000</td>\n",
       "    </tr>\n",
       "    <tr>\n",
       "      <th>50%</th>\n",
       "      <td>0.313000</td>\n",
       "      <td>0.626000</td>\n",
       "    </tr>\n",
       "    <tr>\n",
       "      <th>75%</th>\n",
       "      <td>0.417500</td>\n",
       "      <td>0.835000</td>\n",
       "    </tr>\n",
       "    <tr>\n",
       "      <th>max</th>\n",
       "      <td>0.969000</td>\n",
       "      <td>1.938000</td>\n",
       "    </tr>\n",
       "  </tbody>\n",
       "</table>\n",
       "</div>"
      ],
      "text/plain": [
       "             RMSD      RMSD*2\n",
       "count  435.000000  435.000000\n",
       "mean     0.329632    0.659264\n",
       "std      0.171118    0.342236\n",
       "min      0.009000    0.018000\n",
       "25%      0.210000    0.420000\n",
       "50%      0.313000    0.626000\n",
       "75%      0.417500    0.835000\n",
       "max      0.969000    1.938000"
      ]
     },
     "execution_count": 22,
     "metadata": {},
     "output_type": "execute_result"
    }
   ],
   "source": [
    "tabla.describe()"
   ]
  },
  {
   "cell_type": "code",
   "execution_count": 23,
   "metadata": {},
   "outputs": [
    {
     "data": {
      "text/plain": [
       "0.329632183908046"
      ]
     },
     "execution_count": 23,
     "metadata": {},
     "output_type": "execute_result"
    }
   ],
   "source": [
    "tabla['RMSD'].mean()"
   ]
  },
  {
   "cell_type": "code",
   "execution_count": 24,
   "metadata": {},
   "outputs": [
    {
     "data": {
      "text/plain": [
       "0.313"
      ]
     },
     "execution_count": 24,
     "metadata": {},
     "output_type": "execute_result"
    }
   ],
   "source": [
    "tabla['RMSD'].median()"
   ]
  },
  {
   "cell_type": "code",
   "execution_count": 25,
   "metadata": {},
   "outputs": [
    {
     "data": {
      "text/plain": [
       "0.9690000000000001"
      ]
     },
     "execution_count": 25,
     "metadata": {},
     "output_type": "execute_result"
    }
   ],
   "source": [
    "tabla['RMSD'].max()"
   ]
  },
  {
   "cell_type": "markdown",
   "metadata": {},
   "source": [
    "####EJERCICIO PRÁCTICO\n",
    "Agregar una columna nueva a la tabla que contenga el número de posición, extraído de la columna 'PosPDB1'."
   ]
  },
  {
   "cell_type": "markdown",
   "metadata": {},
   "source": [
    "``` python \n",
    "tabla['Position'] = tabla['PosPDB1'].str.replace('B','')\n",
    "tabla['Position'] = tabla['Position'].convert_objects(convert_numeric=True) \n",
    "```"
   ]
  },
  {
   "cell_type": "code",
   "execution_count": 46,
   "metadata": {},
   "outputs": [
    {
     "name": "stdout",
     "output_type": "stream",
     "text": [
      "    PosPDB1  Aa1 PosPDB2  Aa2   RMSD  RMSD*2 Position  control\n",
      "0        B0  ALA      D0  ALA  0.700   1.400        0    False\n",
      "1        B1  MET      D1  MET  0.373   0.746        1    False\n",
      "2        B2  ASP      D2  ASP  0.475   0.950        2    False\n",
      "3        B3  TYR      D3  TYR  0.390   0.780        3    False\n",
      "4        B4  GLN      D4  GLN  0.446   0.892        4    False\n",
      "..      ...  ...     ...  ...    ...     ...      ...      ...\n",
      "430    B432  VAL    D432  VAL  0.483   0.966      432    False\n",
      "431    B433  ARG    D433  ARG  0.563   1.126      433    False\n",
      "432    B434  GLY    D434  GLY  0.445   0.890      434    False\n",
      "433    B435  ARG    D435  ARG  0.224   0.448      435    False\n",
      "434    B436  GLY    D436  GLY  0.018   0.036      436    False\n",
      "\n",
      "[435 rows x 8 columns]\n",
      "    PosPDB1  Aa1 PosPDB2  Aa2   RMSD  RMSD*2 Position  control NuevaColumna\n",
      "0        B0  ALA      D0  ALA  0.700   1.400        0    False           B0\n",
      "1        B1  MET      D1  MET  0.373   0.746        1    False           B1\n",
      "2        B2  ASP      D2  ASP  0.475   0.950        2    False           B2\n",
      "3        B3  TYR      D3  TYR  0.390   0.780        3    False           B3\n",
      "4        B4  GLN      D4  GLN  0.446   0.892        4    False           B4\n",
      "..      ...  ...     ...  ...    ...     ...      ...      ...          ...\n",
      "430    B432  VAL    D432  VAL  0.483   0.966      432    False         B432\n",
      "431    B433  ARG    D433  ARG  0.563   1.126      433    False         B433\n",
      "432    B434  GLY    D434  GLY  0.445   0.890      434    False         B434\n",
      "433    B435  ARG    D435  ARG  0.224   0.448      435    False         B435\n",
      "434    B436  GLY    D436  GLY  0.018   0.036      436    False         B436\n",
      "\n",
      "[435 rows x 9 columns]\n"
     ]
    }
   ],
   "source": [
    "#**Solución Propuesta**\n",
    "print(tabla) # Imprimo la tabla original\n",
    "tabla['NuevaColumna'] = tabla['PosPDB1']\n",
    "print(tabla)\n",
    "#tabla['Position'] = tabla['Position'].convert_objects(convert_numeric=True) "
   ]
  },
  {
   "cell_type": "markdown",
   "metadata": {},
   "source": [
    "**Así mismo nos permite hacer algunos gráficos (no muy lindos). Por ejemplo podemos graficar la distribución de los RMSD:**"
   ]
  },
  {
   "cell_type": "code",
   "execution_count": 47,
   "metadata": {},
   "outputs": [
    {
     "name": "stdout",
     "output_type": "stream",
     "text": [
      "Populating the interactive namespace from numpy and matplotlib\n"
     ]
    },
    {
     "data": {
      "image/png": "[encoded data removed]",
      "text/plain": [
       "<Figure size 432x288 with 1 Axes>"
      ]
     },
     "metadata": {
      "needs_background": "light"
     },
     "output_type": "display_data"
    }
   ],
   "source": [
    "import matplotlib.pyplot as plt \n",
    "#Esto nos permite ver el grafico aqui mismo y no en una ventana extra\n",
    "%pylab inline\n",
    "plt.figure()\n",
    "tabla.boxplot('RMSD')\n",
    "plt.show()"
   ]
  },
  {
   "cell_type": "markdown",
   "metadata": {},
   "source": [
    "**Si quisieramos guardar el gráfico en un archivo debemos cambiar el plt.show() por:**\n",
    "\n",
    "``` python\n",
    "        plt.savefig('path_hacia_donde_lo_queremos/plot.png')\n",
    "```\n",
    "                \n",
    "                \n",
    "**Pandas nos permite agrupar los datos de nuestro dataFrame en base a los valores de una columna: por ejemplo si generamos una columna 'control' donde checkeamos si los residuos de esa posición son LYS o no, podemos saber la media de RMSD de las LYS respecto de las de los demas aminoácidos **"
   ]
  },
  {
   "cell_type": "code",
   "execution_count": 48,
   "metadata": {},
   "outputs": [
    {
     "data": {
      "text/html": [
       "<div>\n",
       "<style scoped>\n",
       "    .dataframe tbody tr th:only-of-type {\n",
       "        vertical-align: middle;\n",
       "    }\n",
       "\n",
       "    .dataframe tbody tr th {\n",
       "        vertical-align: top;\n",
       "    }\n",
       "\n",
       "    .dataframe thead th {\n",
       "        text-align: right;\n",
       "    }\n",
       "</style>\n",
       "<table border=\"1\" class=\"dataframe\">\n",
       "  <thead>\n",
       "    <tr style=\"text-align: right;\">\n",
       "      <th></th>\n",
       "      <th>PosPDB1</th>\n",
       "      <th>Aa1</th>\n",
       "      <th>PosPDB2</th>\n",
       "      <th>Aa2</th>\n",
       "      <th>RMSD</th>\n",
       "      <th>RMSD*2</th>\n",
       "      <th>Position</th>\n",
       "      <th>control</th>\n",
       "      <th>NuevaColumna</th>\n",
       "    </tr>\n",
       "  </thead>\n",
       "  <tbody>\n",
       "    <tr>\n",
       "      <th>0</th>\n",
       "      <td>B0</td>\n",
       "      <td>ALA</td>\n",
       "      <td>D0</td>\n",
       "      <td>ALA</td>\n",
       "      <td>0.700</td>\n",
       "      <td>1.400</td>\n",
       "      <td>0</td>\n",
       "      <td>False</td>\n",
       "      <td>B0</td>\n",
       "    </tr>\n",
       "    <tr>\n",
       "      <th>1</th>\n",
       "      <td>B1</td>\n",
       "      <td>MET</td>\n",
       "      <td>D1</td>\n",
       "      <td>MET</td>\n",
       "      <td>0.373</td>\n",
       "      <td>0.746</td>\n",
       "      <td>1</td>\n",
       "      <td>False</td>\n",
       "      <td>B1</td>\n",
       "    </tr>\n",
       "  </tbody>\n",
       "</table>\n",
       "</div>"
      ],
      "text/plain": [
       "  PosPDB1  Aa1 PosPDB2  Aa2   RMSD  RMSD*2 Position  control NuevaColumna\n",
       "0      B0  ALA      D0  ALA  0.700   1.400        0    False           B0\n",
       "1      B1  MET      D1  MET  0.373   0.746        1    False           B1"
      ]
     },
     "execution_count": 48,
     "metadata": {},
     "output_type": "execute_result"
    }
   ],
   "source": [
    "tabla['control'] = tabla['Aa1'] == 'LYS'\n",
    "tabla.head(2)"
   ]
  },
  {
   "cell_type": "code",
   "execution_count": 49,
   "metadata": {},
   "outputs": [
    {
     "data": {
      "text/plain": [
       "control\n",
       "False    0.32632\n",
       "True     0.39835\n",
       "Name: RMSD, dtype: float64"
      ]
     },
     "execution_count": 49,
     "metadata": {},
     "output_type": "execute_result"
    }
   ],
   "source": [
    "tabla['RMSD'].groupby([tabla['control']]).mean()"
   ]
  },
  {
   "cell_type": "markdown",
   "metadata": {},
   "source": [
    "##Si hay pobreza, que no se note! /Trabajando con faltante de datos\n",
    "Cuando nustras tablas tienen faltantes de datos Pandas nos permite trabajar facilmente con ello. Salgamos un poco de nuestro ejemplo concreto y usemo un ejemplo genérico:"
   ]
  },
  {
   "cell_type": "code",
   "execution_count": 50,
   "metadata": {},
   "outputs": [],
   "source": [
    "import numpy as np\n",
    "#Creamos una tabla con valores numéricos al azar, con 5 rows (a,c,e,f y h) y 3 columnas (one, two, three)\n",
    "df = pd.DataFrame(np.random.randn(5, 3), index=['a', 'c', 'e', 'f', 'h'],columns=['one', 'two', 'three'])"
   ]
  },
  {
   "cell_type": "code",
   "execution_count": 51,
   "metadata": {},
   "outputs": [
    {
     "data": {
      "text/html": [
       "<div>\n",
       "<style scoped>\n",
       "    .dataframe tbody tr th:only-of-type {\n",
       "        vertical-align: middle;\n",
       "    }\n",
       "\n",
       "    .dataframe tbody tr th {\n",
       "        vertical-align: top;\n",
       "    }\n",
       "\n",
       "    .dataframe thead th {\n",
       "        text-align: right;\n",
       "    }\n",
       "</style>\n",
       "<table border=\"1\" class=\"dataframe\">\n",
       "  <thead>\n",
       "    <tr style=\"text-align: right;\">\n",
       "      <th></th>\n",
       "      <th>one</th>\n",
       "      <th>two</th>\n",
       "      <th>three</th>\n",
       "    </tr>\n",
       "  </thead>\n",
       "  <tbody>\n",
       "    <tr>\n",
       "      <th>a</th>\n",
       "      <td>0.394562</td>\n",
       "      <td>0.242956</td>\n",
       "      <td>2.291767</td>\n",
       "    </tr>\n",
       "    <tr>\n",
       "      <th>b</th>\n",
       "      <td>NaN</td>\n",
       "      <td>NaN</td>\n",
       "      <td>NaN</td>\n",
       "    </tr>\n",
       "    <tr>\n",
       "      <th>c</th>\n",
       "      <td>-1.669052</td>\n",
       "      <td>-1.089526</td>\n",
       "      <td>-0.774285</td>\n",
       "    </tr>\n",
       "    <tr>\n",
       "      <th>d</th>\n",
       "      <td>NaN</td>\n",
       "      <td>NaN</td>\n",
       "      <td>NaN</td>\n",
       "    </tr>\n",
       "    <tr>\n",
       "      <th>e</th>\n",
       "      <td>-1.578591</td>\n",
       "      <td>1.647301</td>\n",
       "      <td>-0.467955</td>\n",
       "    </tr>\n",
       "    <tr>\n",
       "      <th>f</th>\n",
       "      <td>-1.144997</td>\n",
       "      <td>-0.783743</td>\n",
       "      <td>0.212391</td>\n",
       "    </tr>\n",
       "    <tr>\n",
       "      <th>g</th>\n",
       "      <td>NaN</td>\n",
       "      <td>NaN</td>\n",
       "      <td>NaN</td>\n",
       "    </tr>\n",
       "    <tr>\n",
       "      <th>h</th>\n",
       "      <td>0.751687</td>\n",
       "      <td>0.634958</td>\n",
       "      <td>1.028335</td>\n",
       "    </tr>\n",
       "  </tbody>\n",
       "</table>\n",
       "</div>"
      ],
      "text/plain": [
       "        one       two     three\n",
       "a  0.394562  0.242956  2.291767\n",
       "b       NaN       NaN       NaN\n",
       "c -1.669052 -1.089526 -0.774285\n",
       "d       NaN       NaN       NaN\n",
       "e -1.578591  1.647301 -0.467955\n",
       "f -1.144997 -0.783743  0.212391\n",
       "g       NaN       NaN       NaN\n",
       "h  0.751687  0.634958  1.028335"
      ]
     },
     "execution_count": 51,
     "metadata": {},
     "output_type": "execute_result"
    }
   ],
   "source": [
    "#Aqui reindexamos la tabla de modo que ahora nos quedan datos faltantes\n",
    "df2 = df.reindex(['a', 'b', 'c', 'd', 'e', 'f', 'g', 'h'])\n",
    "df2"
   ]
  },
  {
   "cell_type": "markdown",
   "metadata": {},
   "source": [
    "Como vemos los datos faltantes Pandas los muestra como 'NaN'. Debemos tener en cuenta que:\n",
    "        - Al sumar datos, los valores NA (faltantes) se tratarán como cero\n",
    "        - Si los datos son todos NA, el resultado será NA\n",
    "        - Los métodos como cumsum y cumprod ignoran los valores de NA, pero los preservan en las matrices resultantes\n",
    "        - Al agrupar sobre un DataFrame que contiene valores NA (con GroupBy), estos se excluyen automáticamente\n",
    "        \n",
    "**¿Cuál es el valor promedio de los valores de la columna 'one'?**"
   ]
  },
  {
   "cell_type": "code",
   "execution_count": 34,
   "metadata": {},
   "outputs": [
    {
     "data": {
      "text/plain": [
       "0.46854975956676775"
      ]
     },
     "execution_count": 34,
     "metadata": {},
     "output_type": "execute_result"
    }
   ],
   "source": [
    "df['one'].cumsum()[-1]/len(df)"
   ]
  },
  {
   "cell_type": "markdown",
   "metadata": {},
   "source": [
    "De todos modos Pandas cuenta con una función qu enos permite rellenar los valores missing con lo que deseemos (puede ser un int como 0 o un string como 'ND'). Por ejemplo podemos rellenar con ceros las celdas faltantes:\n",
    "\n",
    "``` python\n",
    "        df2.fillna(0)\n",
    "```\n",
    "\n",
    "**Rellená los valores missing con ND y filtrá el DataFrame de modo que solo se vean las lineas con datos**"
   ]
  },
  {
   "cell_type": "code",
   "execution_count": 35,
   "metadata": {},
   "outputs": [
    {
     "data": {
      "text/html": [
       "<div>\n",
       "<style scoped>\n",
       "    .dataframe tbody tr th:only-of-type {\n",
       "        vertical-align: middle;\n",
       "    }\n",
       "\n",
       "    .dataframe tbody tr th {\n",
       "        vertical-align: top;\n",
       "    }\n",
       "\n",
       "    .dataframe thead th {\n",
       "        text-align: right;\n",
       "    }\n",
       "</style>\n",
       "<table border=\"1\" class=\"dataframe\">\n",
       "  <thead>\n",
       "    <tr style=\"text-align: right;\">\n",
       "      <th></th>\n",
       "      <th>one</th>\n",
       "      <th>two</th>\n",
       "      <th>three</th>\n",
       "    </tr>\n",
       "  </thead>\n",
       "  <tbody>\n",
       "    <tr>\n",
       "      <th>a</th>\n",
       "      <td>1.5494</td>\n",
       "      <td>-0.0942398</td>\n",
       "      <td>-1.06932</td>\n",
       "    </tr>\n",
       "    <tr>\n",
       "      <th>c</th>\n",
       "      <td>1.09693</td>\n",
       "      <td>0.941479</td>\n",
       "      <td>0.387351</td>\n",
       "    </tr>\n",
       "    <tr>\n",
       "      <th>e</th>\n",
       "      <td>0.309429</td>\n",
       "      <td>-0.666699</td>\n",
       "      <td>0.0827772</td>\n",
       "    </tr>\n",
       "    <tr>\n",
       "      <th>f</th>\n",
       "      <td>-1.21343</td>\n",
       "      <td>0.272443</td>\n",
       "      <td>1.82539</td>\n",
       "    </tr>\n",
       "    <tr>\n",
       "      <th>h</th>\n",
       "      <td>0.600421</td>\n",
       "      <td>0.0754905</td>\n",
       "      <td>-0.299208</td>\n",
       "    </tr>\n",
       "  </tbody>\n",
       "</table>\n",
       "</div>"
      ],
      "text/plain": [
       "        one        two      three\n",
       "a    1.5494 -0.0942398   -1.06932\n",
       "c   1.09693   0.941479   0.387351\n",
       "e  0.309429  -0.666699  0.0827772\n",
       "f  -1.21343   0.272443    1.82539\n",
       "h  0.600421  0.0754905  -0.299208"
      ]
     },
     "execution_count": 35,
     "metadata": {},
     "output_type": "execute_result"
    }
   ],
   "source": [
    "df3 = df2.fillna('ND')\n",
    "df3[df3['one'] != 'ND']"
   ]
  },
  {
   "cell_type": "markdown",
   "metadata": {},
   "source": [
    "##Graficos bien cool!"
   ]
  },
  {
   "cell_type": "markdown",
   "metadata": {},
   "source": [
    "Seaborn es una librería que nos permite hacer todo tipo de gráficos, muy pero muy lindos. Lo mejor de todo es que se complementa con Pandas y nos permite graficar nuestro DataFrame sin reestructuración previa de los datos."
   ]
  },
  {
   "cell_type": "code",
   "execution_count": 36,
   "metadata": {},
   "outputs": [
    {
     "name": "stdout",
     "output_type": "stream",
     "text": [
      "Populating the interactive namespace from numpy and matplotlib\n"
     ]
    }
   ],
   "source": [
    "import seaborn as sns\n",
    "import matplotlib.pyplot as plt\n",
    "%pylab inline\n",
    "matplotlib.style.use('ggplot')"
   ]
  },
  {
   "cell_type": "code",
   "execution_count": 37,
   "metadata": {},
   "outputs": [
    {
     "data": {
      "text/plain": [
       "<matplotlib.axes._subplots.AxesSubplot at 0x7fb84bb8eed0>"
      ]
     },
     "execution_count": 37,
     "metadata": {},
     "output_type": "execute_result"
    },
    {
     "data": {
      "image/png": "[encoded data removed]",
      "text/plain": [
       "<Figure size 432x288 with 1 Axes>"
      ]
     },
     "metadata": {},
     "output_type": "display_data"
    }
   ],
   "source": [
    "#Con set podemos elegir el estilo del grafico y las paletas\n",
    "sns.set(style=\"whitegrid\", palette=\"Paired\")\n",
    "sns.boxplot(tabla[\"RMSD\"])"
   ]
  },
  {
   "cell_type": "markdown",
   "metadata": {},
   "source": [
    "**Seaborn posee estilos o temas predeterminados, así como paletas de colores. De todos modos los colores de matplot pueden ser utilizados.**\n",
    "\n",
    "Codigos de colores: https://matplotlib.org/examples/color/named_colors.html\n",
    "\n",
    "Paletas de seaborn: https://seaborn.pydata.org/tutorial/color_palettes.html\n",
    "\n",
    "Estilos de seaborn: https://seaborn.pydata.org/tutorial/aesthetics.html"
   ]
  },
  {
   "cell_type": "code",
   "execution_count": 38,
   "metadata": {},
   "outputs": [
    {
     "data": {
      "text/plain": [
       "Text(0.5, 0, 'RMSD')"
      ]
     },
     "execution_count": 38,
     "metadata": {},
     "output_type": "execute_result"
    },
    {
     "data": {
      "image/png": "[encoded data removed]",
      "text/plain": [
       "<Figure size 432x288 with 1 Axes>"
      ]
     },
     "metadata": {},
     "output_type": "display_data"
    }
   ],
   "source": [
    "sns.despine(left=True) \n",
    "#Seteamos la paleta de colores y el estilo\n",
    "sns.set(style=\"darkgrid\")\n",
    "ax = sns.swarmplot(x=\"RMSD\", data=tabla, color=\".25\")\n",
    "#Podemos setear el tamaño de letra de \n",
    "ax.set_xlabel('RMSD', fontsize=12)"
   ]
  },
  {
   "cell_type": "code",
   "execution_count": 39,
   "metadata": {},
   "outputs": [
    {
     "data": {
      "text/plain": [
       "Text(0.5, 0, 'RMSD')"
      ]
     },
     "execution_count": 39,
     "metadata": {},
     "output_type": "execute_result"
    },
    {
     "data": {
      "image/png": "[encoded data removed]",
      "text/plain": [
       "<Figure size 432x288 with 1 Axes>"
      ]
     },
     "metadata": {},
     "output_type": "display_data"
    }
   ],
   "source": [
    "sns.despine(left=True) \n",
    "sns.set(style=\"whitegrid\", palette=\"husl\")\n",
    "ax = sns.boxplot(x=\"RMSD\", data=tabla)\n",
    "ax = sns.swarmplot(x=\"RMSD\", data=tabla, color=\".25\")\n",
    "#Podemos setear el tamaño de letra de \n",
    "ax.set_xlabel('RMSD', fontsize=12)"
   ]
  },
  {
   "cell_type": "code",
   "execution_count": 40,
   "metadata": {},
   "outputs": [
    {
     "data": {
      "text/plain": [
       "Text(0.5, 0, 'RMSD')"
      ]
     },
     "execution_count": 40,
     "metadata": {},
     "output_type": "execute_result"
    },
    {
     "data": {
      "image/png": "[encoded data removed]",
      "text/plain": [
       "<Figure size 432x288 with 1 Axes>"
      ]
     },
     "metadata": {},
     "output_type": "display_data"
    }
   ],
   "source": [
    "sns.despine(left=True) \n",
    "sns.set(style=\"ticks\", palette=\"Set2\")\n",
    "ax = sns.distplot(tabla[\"RMSD\"])\n",
    "#Podemos setear el tamaño de letra de \n",
    "ax.set_xlabel('RMSD', fontsize=12)"
   ]
  },
  {
   "cell_type": "code",
   "execution_count": 41,
   "metadata": {},
   "outputs": [
    {
     "data": {
      "text/plain": [
       "Text(0.5, 0, 'RMSD')"
      ]
     },
     "execution_count": 41,
     "metadata": {},
     "output_type": "execute_result"
    },
    {
     "data": {
      "image/png": "[encoded data removed]",
      "text/plain": [
       "<Figure size 432x288 with 1 Axes>"
      ]
     },
     "metadata": {},
     "output_type": "display_data"
    }
   ],
   "source": [
    "sns.despine(left=True) \n",
    "sns.set(style=\"ticks\", palette=\"deep\")\n",
    "ax = sns.distplot(tabla.RMSD, rug=True, hist=False)\n",
    "#Podemos setear el tamaño de letra de \n",
    "ax.set_xlabel('RMSD', fontsize=12)"
   ]
  },
  {
   "cell_type": "markdown",
   "metadata": {},
   "source": [
    "**¿Te animás aseparar el dataFrame en dos 'LYS' y el resto y graficar  estas dos poblaciones?**"
   ]
  },
  {
   "cell_type": "code",
   "execution_count": 42,
   "metadata": {},
   "outputs": [
    {
     "data": {
      "image/png": "[encoded data removed]",
      "text/plain": [
       "<Figure size 432x288 with 1 Axes>"
      ]
     },
     "metadata": {},
     "output_type": "display_data"
    }
   ],
   "source": [
    "lys = tabla[tabla['Aa1'] == 'LYS']\n",
    "notlis = tabla[tabla['Aa1'] != 'LYS']\n",
    "\n",
    "objects = ('lys', 'notlys')\n",
    "y_pos = np.arange(len(objects))\n",
    "performance = [len(lys),len(notlis)]\n",
    "\n",
    "plt.bar(y_pos, performance, align='center', alpha=0.5)\n",
    "plt.xticks(y_pos, objects)\n",
    "plt.ylabel('cantidad')\n",
    "plt.title('Dos poblaciones')\n",
    "\n",
    "plt.show()"
   ]
  }
 ],
 "metadata": {
  "kernelspec": {
   "display_name": "Python 3",
   "language": "python",
   "name": "python3"
  },
  "language_info": {
   "codemirror_mode": {
    "name": "ipython",
    "version": 3
   },
   "file_extension": ".py",
   "mimetype": "text/x-python",
   "name": "python",
   "nbconvert_exporter": "python",
   "pygments_lexer": "ipython3",
   "version": "3.7.6"
  }
 },
 "nbformat": 4,
 "nbformat_minor": 1
}
