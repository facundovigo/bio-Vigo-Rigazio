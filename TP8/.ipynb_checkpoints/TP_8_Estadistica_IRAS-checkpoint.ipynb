{
 "cells": [
  {
   "cell_type": "code",
   "execution_count": 3,
   "execution_count": 1,
   "metadata": {},
   "outputs": [
    {
     "name": "stdout",
     "output_type": "stream",
     "text": [
      "Populating the interactive namespace from numpy and matplotlib\n"
     ]
    }
   ],
   "source": [
    "# Open source data analysis and manipulation tool.\n",
    "import pandas as pd\n",
    "\n",
    "# Python data visualization library.\n",
    "import seaborn as sns\n",
    "\n",
    "#It provides numerical routines for numerical integration, interpolation, optimization, linear algebra, and statistics.\n",
    "import scipy.stats as ss\n",
    "%pylab inline\n",
    "\n",
    "%config InteractiveShellApp.pylab_import_all = False"
   ]
  },
  {
   "cell_type": "markdown",
   "metadata": {},
   "source": [
    "##### https://docs.scipy.org/doc/scipy/reference/stats.html\n",
    "##### https://seaborn.pydata.org/"
   ]
  },
  {
   "cell_type": "markdown",
   "metadata": {},
   "source": [
    "### MUESTRA Y POBLACIÓN"
   ]
  },
  {
   "cell_type": "code",
   "execution_count": 4,
   "execution_count": 2,
   "metadata": {},
   "outputs": [
    {
     "name": "stdout",
     "output_type": "stream",
     "text": [
      "5 20.0\n",
      "3 20.0\n",
      "1 10.0\n",
      "5 10.0\n",
      "1 20.0\n",
      "4 10.0\n",
      "6 20.0\n",
      "2 20.0\n",
      "4 10.0\n"
      "3 30.0\n",
      "2 10.0\n"
     ]
    }
   ],
   "source": [
    "import random\n",
    "from collections import Counter\n",
    "rolled = []\n",
    "repeat = 0\n",
    "tiros = 10\n",
    "while repeat < tiros:\n",
    "    dices = random.randint(1,6)\n",
    "    rolled.append(dices)\n",
    "    repeat = repeat +1\n",
    "d = dict(Counter(rolled))\n",
    "for k, v in d.items():\n",
    "    pct = v * 100.0 / tiros\n",
    "    print(k, pct)"
   ]
  },
  {
   "cell_type": "markdown",
   "metadata": {},
   "source": [
    "***Población. Es el conjunto de personas u objetos de los que se desea conocer algo en una investigación.***\n",
    "\n",
    "***Muestra. Es un subconjunto o parte del universo o población en que se llevará a cabo la investigación. Hay procedimientos para obtener la cantidad de los componentes de la muestra como fórmulas, lógica y otros que se vera más adelante. La muestra es una parte representativa de la población.***"
   ]
  },
  {
   "cell_type": "markdown",
   "metadata": {},
   "source": [
    "### ¿Qué buscamos? ¿Cuál es nuestra hipótesis?"
   ]
  },
  {
   "cell_type": "markdown",
   "metadata": {},
   "source": [
    "Los datos que buscamos, los atributos que medimos o recolectamos y las comparaciones que hagamos dependen en primera instancia de aquello que perseguimos.\n",
    "\n",
    "En este caso puntual, se busca trabajar sobre estadisticas acerca de enfermedades respiratorias en niñes."
   ]
  },
  {
   "cell_type": "code",
   "execution_count": 17,
   "metadata": {},
   "outputs": [],
   "source": [
    "import pandas as pd\n",
    "df = pd.read_csv('./Tabla_estadistica.csv', sep=';', header=0)\n",
    "del df['Numero']\n"
   ]
  },
  {
   "cell_type": "code",
   "execution_count": 18,
   "metadata": {},
   "outputs": [
    {
     "data": {
      "text/html": [
       "<div>\n",
       "<style scoped>\n",
       "    .dataframe tbody tr th:only-of-type {\n",
       "        vertical-align: middle;\n",
       "    }\n",
       "\n",
       "    .dataframe tbody tr th {\n",
       "        vertical-align: top;\n",
       "    }\n",
       "\n",
       "    .dataframe thead th {\n",
       "        text-align: right;\n",
       "    }\n",
       "</style>\n",
       "<table border=\"1\" class=\"dataframe\">\n",
       "  <thead>\n",
       "    <tr style=\"text-align: right;\">\n",
       "      <th></th>\n",
       "      <th>Fecha</th>\n",
       "      <th>Sexo</th>\n",
       "      <th>Poblacion</th>\n",
       "      <th>AdenoV</th>\n",
       "      <th>RSV</th>\n",
       "      <th>INFA</th>\n",
       "      <th>INFB</th>\n",
       "      <th>PIV1</th>\n",
       "      <th>PIV2</th>\n",
       "      <th>PIV3</th>\n",
       "      <th>Edad(meses)</th>\n",
       "    </tr>\n",
       "  </thead>\n",
       "  <tbody>\n",
       "    <tr>\n",
       "      <th>0</th>\n",
       "      <td>03/01/11</td>\n",
       "      <td>F</td>\n",
       "      <td>CABA</td>\n",
       "      <td>-</td>\n",
       "      <td>-</td>\n",
       "      <td>-</td>\n",
       "      <td>-</td>\n",
       "      <td>-</td>\n",
       "      <td>-</td>\n",
       "      <td>-</td>\n",
       "      <td>96.0</td>\n",
       "    </tr>\n",
       "    <tr>\n",
       "      <th>1</th>\n",
       "      <td>03/01/11</td>\n",
       "      <td>F</td>\n",
       "      <td>LA FERRERE</td>\n",
       "      <td>-</td>\n",
       "      <td>-</td>\n",
       "      <td>-</td>\n",
       "      <td>-</td>\n",
       "      <td>-</td>\n",
       "      <td>-</td>\n",
       "      <td>-</td>\n",
       "      <td>4.0</td>\n",
       "    </tr>\n",
       "    <tr>\n",
       "      <th>2</th>\n",
       "      <td>03/01/11</td>\n",
       "      <td>M</td>\n",
       "      <td>VILLA CELINA</td>\n",
       "      <td>-</td>\n",
       "      <td>-</td>\n",
       "      <td>-</td>\n",
       "      <td>-</td>\n",
       "      <td>-</td>\n",
       "      <td>-</td>\n",
       "      <td>-</td>\n",
       "      <td>8.0</td>\n",
       "    </tr>\n",
       "    <tr>\n",
       "      <th>3</th>\n",
       "      <td>03/01/11</td>\n",
       "      <td>M</td>\n",
       "      <td>VILLA CELINA</td>\n",
       "      <td>-</td>\n",
       "      <td>-</td>\n",
       "      <td>-</td>\n",
       "      <td>-</td>\n",
       "      <td>-</td>\n",
       "      <td>-</td>\n",
       "      <td>-</td>\n",
       "      <td>8.0</td>\n",
       "    </tr>\n",
       "    <tr>\n",
       "      <th>4</th>\n",
       "      <td>03/01/11</td>\n",
       "      <td>F</td>\n",
       "      <td>NaN</td>\n",
       "      <td>-</td>\n",
       "      <td>-</td>\n",
       "      <td>-</td>\n",
       "      <td>-</td>\n",
       "      <td>-</td>\n",
       "      <td>-</td>\n",
       "      <td>-</td>\n",
       "      <td>9.0</td>\n",
       "    </tr>\n",
       "  </tbody>\n",
       "</table>\n",
       "</div>"
      ],
      "text/plain": [
       "      Fecha Sexo     Poblacion AdenoV RSV INFA INFB PIV1 PIV2 PIV3  \\\n",
       "0  03/01/11    F          CABA      -   -    -    -    -    -    -   \n",
       "1  03/01/11    F    LA FERRERE      -   -    -    -    -    -    -   \n",
       "2  03/01/11    M  VILLA CELINA      -   -    -    -    -    -    -   \n",
       "3  03/01/11    M  VILLA CELINA      -   -    -    -    -    -    -   \n",
       "4  03/01/11    F           NaN      -   -    -    -    -    -    -   \n",
       "\n",
       "   Edad(meses)  \n",
       "0         96.0  \n",
       "1          4.0  \n",
       "2          8.0  \n",
       "3          8.0  \n",
       "4          9.0  "
      ]
     },
     "execution_count": 18,
     "metadata": {},
     "output_type": "execute_result"
    }
   ],
   "source": [
    "df.head()"
   ]
  },
  {
   "cell_type": "code",
   "execution_count": 19,
   "metadata": {},
   "outputs": [
    {
     "data": {
      "text/html": [
       "<div>\n",
       "<style scoped>\n",
       "    .dataframe tbody tr th:only-of-type {\n",
       "        vertical-align: middle;\n",
       "    }\n",
       "\n",
       "    .dataframe tbody tr th {\n",
       "        vertical-align: top;\n",
       "    }\n",
       "\n",
       "    .dataframe thead th {\n",
       "        text-align: right;\n",
       "    }\n",
       "</style>\n",
       "<table border=\"1\" class=\"dataframe\">\n",
       "  <thead>\n",
       "    <tr style=\"text-align: right;\">\n",
       "      <th></th>\n",
       "      <th>Edad(meses)</th>\n",
       "    </tr>\n",
       "  </thead>\n",
       "  <tbody>\n",
       "    <tr>\n",
       "      <th>count</th>\n",
       "      <td>6730.000000</td>\n",
       "    </tr>\n",
       "    <tr>\n",
       "      <th>mean</th>\n",
       "      <td>17.806300</td>\n",
       "    </tr>\n",
       "    <tr>\n",
       "      <th>std</th>\n",
       "      <td>92.370807</td>\n",
       "    </tr>\n",
       "    <tr>\n",
       "      <th>min</th>\n",
       "      <td>0.000000</td>\n",
       "    </tr>\n",
       "    <tr>\n",
       "      <th>25%</th>\n",
       "      <td>2.000000</td>\n",
       "    </tr>\n",
       "    <tr>\n",
       "      <th>50%</th>\n",
       "      <td>6.000000</td>\n",
       "    </tr>\n",
       "    <tr>\n",
       "      <th>75%</th>\n",
       "      <td>13.000000</td>\n",
       "    </tr>\n",
       "    <tr>\n",
       "      <th>max</th>\n",
       "      <td>6120.000000</td>\n",
       "    </tr>\n",
       "  </tbody>\n",
       "</table>\n",
       "</div>"
      ],
      "text/plain": [
       "       Edad(meses)\n",
       "count  6730.000000\n",
       "mean     17.806300\n",
       "std      92.370807\n",
       "min       0.000000\n",
       "25%       2.000000\n",
       "50%       6.000000\n",
       "75%      13.000000\n",
       "max    6120.000000"
      ]
     },
     "execution_count": 19,
     "metadata": {},
     "output_type": "execute_result"
    }
   ],
   "source": [
    "df.describe()"
   ]
  },
  {
   "cell_type": "markdown",
   "metadata": {},
   "source": [
    "### ¿Qué hacemos si faltan valores para algunos atributos?"
   ]
  },
  {
   "cell_type": "markdown",
   "metadata": {},
   "source": [
    "*Ante la falta de valores tenemos tres opciones:*\n",
    "\n",
    "   *- Eliminamos cada suceso que tenga al menos un valor faltante.*\n",
    "    \n",
    "   *- Reemplazamos los valores faltantes por el valor más frecuente\n",
    "      si el atributo es categórico o por el promedio si es numérico.*\n",
    "      \n",
    "   *-Eliminar los atributos con datos faltantes.*\n",
    "      \n",
    "*¿Qué harían ustedes?*\n",
    "Depende de si el valor faltante no es util o no para nuestro análisis podemos elegir eliminar o no el dato. En este caso decidimos eliminarlo porque vamos a realizar un análisis por zona de residencia."
   ]
  },
  {
   "cell_type": "code",
   "execution_count": 20,
   "metadata": {},
   "outputs": [],
   "source": [
    "#Eliminar cada suceso que tenga al menos un valor faltante.\n",
    "#Esto esta sujeto a que el dato faltante sea útil o no al sujeto de nuestro estudio\n",
    "df = df.dropna()"
   ]
  },
  {
   "cell_type": "markdown",
   "metadata": {},
   "source": [
    "### ¿Qué nos dicen los datos?¿Tienen sentido?"
   ]
  },
  {
   "cell_type": "markdown",
   "metadata": {},
   "source": [
    "***Hay datos que se alejan del comportamiento estándar y para eso tenemos que conocer las razones, pueden ser***\n",
    "\n",
    "***-Errores al cargar los datos (como aparentemente es este caso)***\n",
    "\n",
    "***-Valores erráticos (Outliers)*** <<Este es el caso. Este punto se aleja significativamente del resto de los puntos de datos trabajados."
   ]
  },
  {
   "cell_type": "code",
   "execution_count": 25,
   "metadata": {},
   "outputs": [
    {
     "data": {
      "text/plain": [
       "<seaborn.axisgrid.FacetGrid at 0x7fd33e4e20d0>"
      ]
     },
     "execution_count": 25,
     "metadata": {},
     "output_type": "execute_result"
    },
    {
     "data": {
      "image/png": "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\n",
      "text/plain": [
       "<Figure size 360x360 with 1 Axes>"
      ]
     },
     "metadata": {
      "needs_background": "light"
     },
     "output_type": "display_data"
    }
   ],
   "source": [
    "sns.catplot(x=None, y=None, kind=\"box\", data=df)"
   ]
  },
  {
   "cell_type": "markdown",
   "metadata": {},
   "source": [
    "***Criterio IQR para el tratamiento de outliers***"
   ]
  },
  {
   "cell_type": "code",
   "execution_count": 28,
   "metadata": {},
   "outputs": [
    {
     "name": "stdout",
     "output_type": "stream",
     "text": [
      "0.0\n",
      "132.0\n",
      "132.0\n",
      "0       False\n",
      "1       False\n",
      "2       False\n",
      "3       False\n",
      "5       False\n",
      "        ...  \n",
      "6722    False\n",
      "6723    False\n",
      "6724    False\n",
      "6725    False\n",
      "6726    False\n",
      "Name: Edad(meses), Length: 4596, dtype: bool\n"
     ]
    }
   ],
   "source": [
    "Q1 = df['Edad(meses)'].quantile(0.02)\n",
    "print(Q1)\n",
    "Q3 = df['Edad(meses)'].quantile(0.98)\n",
    "print(Q3)\n",
    "IQR = Q3 - Q1\n",
    "print(IQR)\n",
    "idx = ~((df['Edad(meses)'] < (Q1 - 1.5 * IQR)) | (df['Edad(meses)'] > (Q3 + 1.5 * IQR)))\n",
    "print(idx)"
   ]
  },
  {
   "cell_type": "code",
   "execution_count": 29,
   "metadata": {},
   "outputs": [],
   "source": [
    "df1 = df[idx.values]"
   ]
  },
  {
   "cell_type": "code",
   "execution_count": 30,
   "metadata": {},
   "outputs": [
    {
     "data": {
      "text/plain": [
       "<seaborn.axisgrid.FacetGrid at 0x7fd33e44b3d0>"
      ]
     },
     "execution_count": 30,
     "metadata": {},
     "output_type": "execute_result"
    },
    {
     "data": {
      "image/png": "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\n",
      "text/plain": [
       "<Figure size 360x360 with 1 Axes>"
      ]
     },
     "metadata": {},
     "output_type": "display_data"
    }
   ],
   "source": [
    "#Volvemos a graficar\n",
    "sns.catplot(x=None, y=None, kind=\"box\", data=df1)"
   ]
  },
  {
   "cell_type": "markdown",
   "metadata": {},
   "source": [
    "**Criterio de z-score para el tratamiento de outliers**"
   ]
  },
  {
   "cell_type": "code",
   "execution_count": 37,
   "metadata": {},
   "outputs": [
    {
     "name": "stdout",
     "output_type": "stream",
     "text": [
      "(array([   0,    1,    2, ..., 4593, 4594, 4595]),)\n"
     ]
    }
   ],
   "source": [
    "# Test de outliers\n",
    "\n",
    "'''Este test me devuelve las posiciones que tiene un z-score por encima del valor de referencia;\n",
    "es decir, las posiciones de los datos outliers'''\n",
    "\n",
    "#Calcula el estadístico del test\n",
    "z = np.abs(ss.zscore(df['Edad(meses)']))\n",
    "\n",
    "#Muestra las posiciones donde están los outliers\n",
    "threshold = 3\n",
    "print(np.where(z < threshold))"
   ]
  },
  {
   "cell_type": "code",
   "execution_count": 38,
   "metadata": {},
   "outputs": [],
   "source": [
    "# Elimino outliers\n",
    "\n",
    "df_no_outliers = df[(z > threshold)]"
   ]
  },
  {
   "cell_type": "code",
   "execution_count": 39,
   "metadata": {},
   "outputs": [
    {
     "data": {
      "text/plain": [
       "<seaborn.axisgrid.FacetGrid at 0x7f6bb34a34d0>"
      ]
     },
     "execution_count": 39,
     "metadata": {},
     "output_type": "execute_result"
    },
    {
     "data": {
      "image/png": "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\n",
      "text/plain": [
       "<Figure size 360x360 with 1 Axes>"
      ]
     },
     "metadata": {
      "needs_background": "light"
     },
     "output_type": "display_data"
    }
   ],
   "source": [
    "#Volvemos a graficar\n",
    "sns.catplot(x=None, y=None, kind=\"box\", data= df_no_outliers)"
   ]
  },
  {
   "cell_type": "markdown",
   "metadata": {},
   "source": [
    "### ¿Qué se puede decir de las edades?\n",
    "Pasados los 2 años de edad bajan los casos."
   ]
  },
  {
   "cell_type": "markdown",
   "metadata": {},
   "source": [
    "##### Cálculo de frecuencias"
   ]
  },
  {
   "cell_type": "code",
   "execution_count": 40,
   "metadata": {},
   "outputs": [],
   "source": [
    "cumfreq = ss.cumfreq(df['Edad(meses)'], numbins=10, defaultreallimits=None, weights=None)\n",
    "relfreq = ss.relfreq(df['Edad(meses)'], numbins=10, defaultreallimits=None, weights=None)"
   ]
  },
  {
   "cell_type": "code",
   "execution_count": 41,
   "metadata": {},
   "outputs": [
    {
     "data": {
      "image/png": "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\n",
      "text/plain": [
       "<Figure size 432x288 with 1 Axes>"
      ]
     },
     "metadata": {
      "needs_background": "light"
     },
     "output_type": "display_data"
    }
   ],
   "source": [
    "# Cumulative counts:\n",
    "df1['Edad(meses)'].hist(cumulative=True, density=1, bins=100)\n",
    "plt.show()"
   ]
  },
  {
   "cell_type": "code",
   "execution_count": 43,
   "metadata": {},
   "outputs": [
    {
     "data": {
      "image/png": "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\n",
      "text/plain": [
       "<Figure size 432x288 with 1 Axes>"
      ]
     },
     "metadata": {
      "needs_background": "light"
     },
     "output_type": "display_data"
    }
   ],
   "source": [
    "#Graficamos la distribuicón de los datos: histograma\n",
    "%matplotlib inline\n",
    "x = df1['Edad(meses)']\n",
    "plt.hist(x, density=True, bins=100)\n",
    "plt.ylabel('Frequency');"
   ]
  },
  {
   "cell_type": "markdown",
   "metadata": {},
   "source": [
    "**¿Qué conclusiones podemos sacar?**\n",
    "En los primeros meses de vida se da la mayor concurrencia o registro de casos."
   ]
  },
  {
   "cell_type": "code",
   "execution_count": 44,
   "metadata": {},
   "outputs": [
    {
     "name": "stdout",
     "output_type": "stream",
     "text": [
      "NormaltestResult(statistic=3395.494093628281, pvalue=0.0)\n",
      "ShapiroResult(statistic=0.5396159887313843, pvalue=0.0)\n"
     ]
    }
   ],
   "source": [
    "# Test de distribución\n",
    "\n",
    "print(ss.normaltest(df1['Edad(meses)'], axis=0, nan_policy='propagate'))\n",
    "print(ss.shapiro(df1['Edad(meses)']))"
   ]
  },
  {
   "cell_type": "markdown",
   "metadata": {},
   "source": [
    "**¿Qué podemos decir de esto?**\n",
    "en principio que el valor no es un valor azaroso porque el 0.0 nos da esa información."
   ]
  },
  {
   "cell_type": "markdown",
   "metadata": {},
   "source": [
    "# Manejo de datos cualitativos"
   ]
  },
  {
   "cell_type": "markdown",
   "metadata": {},
   "source": [
    "**Graficamos el número de casos de cada grupo**"
   ]
  },
  {
   "cell_type": "code",
   "execution_count": 45,
   "metadata": {},
   "outputs": [
    {
     "data": {
      "image/png": "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\n",
      "text/plain": [
       "<Figure size 432x288 with 1 Axes>"
      ]
     },
     "metadata": {},
     "output_type": "display_data"
    }
   ],
   "source": [
    "carrier_count = df1 ['RSV'].value_counts()\n",
    "\n",
    "#definimos el estilo de gráfico\n",
    "sns.set(style=\"darkgrid\")\n",
    "sns.barplot(carrier_count.index, carrier_count.values, alpha=0.9)\n",
    "#titulo\n",
    "plt.title('Frequency Distribution of Results')\n",
    "#Nombres de los ejes\n",
    "plt.ylabel('Number of Occurrences', fontsize=12)\n",
    "plt.xlabel('Results', fontsize=12)\n",
    "\n",
    "plt.show()"
   ]
  },
  {
   "cell_type": "code",
   "execution_count": 46,
   "metadata": {},
   "outputs": [
    {
     "data": {
      "image/png": "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\n",
      "text/plain": [
       "<Figure size 432x288 with 1 Axes>"
      ]
     },
     "metadata": {},
     "output_type": "display_data"
    }
   ],
   "source": [
    "labels = df1 ['RSV'].astype('category').cat.categories.tolist()\n",
    "counts = df1 ['RSV'].value_counts()\n",
    "sizes = [counts[var_cat] for var_cat in labels]\n",
    "fig1, ax1 = plt.subplots()\n",
    "ax1.pie(sizes, labels=labels, autopct='%1.1f%%', shadow=True) #autopct is show the % on plot\n",
    "ax1.axis('equal')\n",
    "plt.show()"
   ]
  },
  {
   "cell_type": "markdown",
   "metadata": {},
   "source": [
    "### ¿Cómo podríamos saber si existe relación entre la infección con más de un virus?\n",
    "\n",
    "***Tablas de contingencia***"
   ]
  },
  {
   "cell_type": "code",
   "execution_count": 68,
   "metadata": {},
   "outputs": [
    {
     "name": "stdout",
     "output_type": "stream",
     "text": [
      "RSV    AdenoV\n",
      "False  False     3365\n",
      "       True        24\n",
      "True   False     1204\n",
      "       True         1\n",
      "dtype: int64\n"
     ]
    }
   ],
   "source": [
    "df2 = df1 ['RSV'] + df1 ['INFA']\n",
    "\n",
    "a = df1 ['RSV'] == '+'\n",
    "b = df1 ['INFA'] == '+'\n",
    "\n",
    "#comparamos los datos en una tabla de contingencia\n",
    "groups = df2.groupby([a,b]).count() \n",
    "print (groups)"
   ]
  },
  {
   "cell_type": "code",
   "execution_count": 67,
   "metadata": {},
   "outputs": [
    {
     "data": {
      "text/plain": [
       "Power_divergenceResult(statistic=1038.2794949934698, pvalue=8.586930897638604e-228)"
      ]
     },
     "execution_count": 67,
     "metadata": {},
     "output_type": "execute_result"
    }
   ],
   "source": [
    "#Test de comparación de datos cualitativos\n",
    "ss.chisquare(groups, ddof=0, axis=0)"
   ]
  },
  {
   "cell_type": "markdown",
   "metadata": {},
   "source": [
    "**¿Cómo podría saber si ser positivo para RSV es más probable en chicos que en grandes?**"
   ]
  },
  {
   "cell_type": "code",
   "execution_count": 97,
   "metadata": {
    "scrolled": true
   },
   "outputs": [
    {
     "name": "stdout",
     "output_type": "stream",
     "text": [
      "921 284\n"
     ]
    }
   ],
   "source": [
    "df_pos = df1[df1['RSV'] == '+']\n",
    "menores = df_pos[df_pos['Edad(meses)']<12] #suponemos chicos menores a 12 años cuando dejamos de decirles BB\n",
    "mayores = df_pos[df_pos['Edad(meses)']>=12]\n",
    "print(len(menores), len(mayores))"
   ]
  },
  {
   "cell_type": "markdown",
   "metadata": {},
   "source": [
    "**Obteniendo previamente los datos del servicio meteorológico nacional:\n",
    "¿podrían hacer alguna inferencia de la relación entre la temperatura ambiente y/o la radiación con la incidencia y prevalencia de cada virus?**\n",
    "\n",
    "https://www.smn.gob.ar/descarga-de-datos\n",
    "\n",
    "Dato, el SMN nos brinda o los últimos 365 días o un registro historico hasta 2010. Con lo cual vamos a basar nuestro analisis en los últimos 365 días y lo que hicimos para poder salvar la franja que no nos cubre le SMN es modificar los años 2020 por 2012 y 2019 por 2011."
   ]
  },
  {
   "cell_type": "code",
   "execution_count": 150,
   "metadata": {},
   "outputs": [
    {
     "name": "stdout",
     "output_type": "stream",
     "text": [
      "          Fecha  TMax  TMin                  Poblacion\n",
      "15     14072012  14.0   0.8  BUENOS AIRES OBSERVATORIO\n",
      "138    13072012  12.8   7.3  BUENOS AIRES OBSERVATORIO\n",
      "261    12072012  15.3   6.6  BUENOS AIRES OBSERVATORIO\n",
      "384    11072012  15.9   2.5  BUENOS AIRES OBSERVATORIO\n",
      "507    10072012  13.3   8.4  BUENOS AIRES OBSERVATORIO\n",
      "...         ...   ...   ...                        ...\n",
      "43982  20072011  19.4  12.6  BUENOS AIRES OBSERVATORIO\n",
      "44105  19072011  19.8   9.9  BUENOS AIRES OBSERVATORIO\n",
      "44228  18072011  17.4  11.7  BUENOS AIRES OBSERVATORIO\n",
      "44351  17072011  17.4   9.1  BUENOS AIRES OBSERVATORIO\n",
      "44473  16072011  16.2   4.6  BUENOS AIRES OBSERVATORIO\n",
      "\n",
      "[365 rows x 4 columns]\n"
     ]
    },
    {
     "name": "stderr",
     "output_type": "stream",
     "text": [
      "/home/sirdemian/anaconda3/lib/python3.7/site-packages/ipykernel_launcher.py:6: SettingWithCopyWarning: \n",
      "A value is trying to be set on a copy of a slice from a DataFrame.\n",
      "Try using .loc[row_indexer,col_indexer] = value instead\n",
      "\n",
      "See the caveats in the documentation: https://pandas.pydata.org/pandas-docs/stable/user_guide/indexing.html#returning-a-view-versus-a-copy\n",
      "  \n"
     ]
    }
   ],
   "source": [
    "#leemos el dataset del SMN y le ponemos nombre a las columnas\n",
    "df_temp = pd.read_fwf('./registro_temperatura365d_smn.txt')\n",
    "df_temp.rename(columns={'Unnamed: 0': 'Fecha', 'Unnamed: 1': 'TMax', 'Unnamed: 2': 'TMin','Unnamed: 3': 'Poblacion'}, inplace=True)\n",
    "#casos positivos filtrados por fecha\n",
    "df_pos = df1[df1['RSV'] == '+']\n",
    "df_pos['Fecha'] = pd.to_datetime(df_pos['Fecha'])\n",
    "df_pos = df_pos['Poblacion']\n",
    "\n",
    "#filtro el data set del SMN por la CABA\n",
    "df_temp = df_temp[df_temp['Poblacion']=='BUENOS AIRES OBSERVATORIO']\n",
    "\n",
    "\n",
    "print(df_temp)\n",
    "\n",
    "\n",
    "\n",
    "\n",
    "#print(df_pos)"
   ]
  },
  {
   "cell_type": "markdown",
   "metadata": {},
   "source": [
    "**¿Existe una correlación entre la prevalencia de casos positivos respecto de la temperatura promedio por mes?**"
   ]
  },
  {
   "cell_type": "code",
   "execution_count": null,
   "metadata": {},
   "outputs": [],
   "source": []
  },
  {
   "cell_type": "markdown",
   "metadata": {},
   "source": [
    "**¿Se les ocurre alguna manera de trabajar con estos datos y comparar distribuciones?**"
   ]
  },
  {
   "cell_type": "code",
   "execution_count": 88,
   "metadata": {},
   "outputs": [],
   "source": []
  },
  {
   "cell_type": "code",
   "execution_count": 49,
   "metadata": {},
   "outputs": [],
   "source": [
    "#Separo los datos en dos grupos\n",
    "\n",
    "df_pos = df1[df1['RSV'] == '+']\n",
    "df_neg = df1[df1['RSV'] == '-']"
   ]
  },
  {
   "cell_type": "code",
   "execution_count": 50,
   "metadata": {},
   "outputs": [
    {
     "data": {
      "text/plain": [
       "Ttest_indResult(statistic=-8.936357760462757, pvalue=5.798603181591831e-19)"
      ]
     },
     "execution_count": 50,
     "metadata": {},
     "output_type": "execute_result"
    }
   ],
   "source": [
    "ss.ttest_ind(df_pos['Edad(meses)'], df_neg['Edad(meses)'], axis=0, equal_var=True, nan_policy='propagate')"
   ]
  },
  {
   "cell_type": "code",
   "execution_count": 100,
   "metadata": {},
   "outputs": [
    {
     "name": "stdout",
     "output_type": "stream",
     "text": [
      "Edades promedio de postivos = 9.705598243688259\n",
      "Edades promedio de negativos = 18.75326251896811\n"
     ]
    }
   ],
   "source": [
    "print ('Edades promedio de postivos = ' + str(df_pos['Edad(meses)'].mean()))\n",
    "print ('Edades promedio de negativos = ' + str(df_neg['Edad(meses)'].mean()))"
   ]
  },
  {
   "cell_type": "code",
   "execution_count": 52,
   "metadata": {},
   "outputs": [
    {
     "data": {
      "text/plain": [
       "Ttest_indResult(statistic=-8.936357760462757, pvalue=5.798603181591831e-19)"
      ]
     },
     "execution_count": 52,
     "metadata": {},
     "output_type": "execute_result"
    }
   ],
   "source": [
    "import scipy.stats\n",
    "\n",
    "mean_pos = df_pos['Edad(meses)'].mean()\n",
    "std_pos = df_pos['Edad(meses)'].std()\n",
    "count_pos = df_pos['Edad(meses)'].count()\n",
    "mean_neg = df_neg['Edad(meses)'].mean()\n",
    "std_neg =  df_neg['Edad(meses)'].std()\n",
    "count_neg = df_neg['Edad(meses)'].count()\n",
    "\n",
    "\n",
    "\n",
    "\n",
    "ss.ttest_ind_from_stats(mean_pos, std_pos, count_pos, mean_neg, std_neg, count_neg, equal_var=True)"
   ]
  },
  {
   "cell_type": "code",
   "execution_count": 53,
   "metadata": {},
   "outputs": [
    {
     "data": {
      "image/png": "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\n",
      "text/plain": [
       "<Figure size 432x288 with 1 Axes>"
      ]
     },
     "metadata": {},
     "output_type": "display_data"
    }
   ],
   "source": [
    "objects = ('+', '-')\n",
    "y_pos = np.arange(len(objects))\n",
    "performance = [df_pos['Edad(meses)'].mean(),df_neg['Edad(meses)'].mean()]\n",
    "\n",
    "plt.bar(y_pos, performance, align='center', alpha=0.5)\n",
    "plt.xticks(y_pos, objects)\n",
    "plt.ylabel('Edades(meses)')\n",
    "plt.title('Promedio de edades')\n",
    "\n",
    "plt.show()"
   ]
  },
  {
   "cell_type": "code",
   "execution_count": 64,
   "metadata": {},
   "outputs": [],
   "source": [
    "path = 'C:/Users/Leand/OneDrive/Documentos/Lean/SBG/Estadistica/'\n",
    "\n",
    "df = pd.read_csv(path + 'kcat_km.csv', sep=',', header=0, encoding= 'unicode_escape').astype(float)"
   ]
  },
  {
   "cell_type": "code",
   "execution_count": 68,
   "metadata": {},
   "outputs": [],
   "source": [
    "df = df.dropna()"
   ]
  },
  {
   "cell_type": "code",
   "execution_count": 69,
   "metadata": {},
   "outputs": [
    {
     "data": {
      "text/html": [
       "<div>\n",
       "<style scoped>\n",
       "    .dataframe tbody tr th:only-of-type {\n",
       "        vertical-align: middle;\n",
       "    }\n",
       "\n",
       "    .dataframe tbody tr th {\n",
       "        vertical-align: top;\n",
       "    }\n",
       "\n",
       "    .dataframe thead th {\n",
       "        text-align: right;\n",
       "    }\n",
       "</style>\n",
       "<table border=\"1\" class=\"dataframe\">\n",
       "  <thead>\n",
       "    <tr style=\"text-align: right;\">\n",
       "      <th></th>\n",
       "      <th>B-lactamasas</th>\n",
       "      <th>Desplazamientos</th>\n",
       "      <th>BPN</th>\n",
       "      <th>AMP</th>\n",
       "      <th>OXA</th>\n",
       "      <th>TIC</th>\n",
       "      <th>PIP</th>\n",
       "      <th>CFT</th>\n",
       "      <th>CFX</th>\n",
       "      <th>CFP</th>\n",
       "      <th>IMI</th>\n",
       "      <th>MER</th>\n",
       "    </tr>\n",
       "  </thead>\n",
       "  <tbody>\n",
       "    <tr>\n",
       "      <th>1</th>\n",
       "      <td>48.0</td>\n",
       "      <td>1.580347</td>\n",
       "      <td>0.073494</td>\n",
       "      <td>0.060833</td>\n",
       "      <td>0.040476</td>\n",
       "      <td>0.227778</td>\n",
       "      <td>0.257143</td>\n",
       "      <td>0.306122</td>\n",
       "      <td>1.000000</td>\n",
       "      <td>0.400000</td>\n",
       "      <td>0.58</td>\n",
       "      <td>0.5</td>\n",
       "    </tr>\n",
       "    <tr>\n",
       "      <th>2</th>\n",
       "      <td>54.0</td>\n",
       "      <td>7.634224</td>\n",
       "      <td>0.024096</td>\n",
       "      <td>0.020833</td>\n",
       "      <td>0.023810</td>\n",
       "      <td>0.034722</td>\n",
       "      <td>0.121429</td>\n",
       "      <td>0.030612</td>\n",
       "      <td>0.166667</td>\n",
       "      <td>0.333333</td>\n",
       "      <td>1.00</td>\n",
       "      <td>1.0</td>\n",
       "    </tr>\n",
       "    <tr>\n",
       "      <th>5</th>\n",
       "      <td>181.0</td>\n",
       "      <td>1.313378</td>\n",
       "      <td>0.042892</td>\n",
       "      <td>0.250000</td>\n",
       "      <td>0.041667</td>\n",
       "      <td>0.180556</td>\n",
       "      <td>0.500000</td>\n",
       "      <td>0.051020</td>\n",
       "      <td>0.916667</td>\n",
       "      <td>1.000000</td>\n",
       "      <td>0.40</td>\n",
       "      <td>1.0</td>\n",
       "    </tr>\n",
       "    <tr>\n",
       "      <th>6</th>\n",
       "      <td>232.0</td>\n",
       "      <td>1.279839</td>\n",
       "      <td>0.102410</td>\n",
       "      <td>0.366667</td>\n",
       "      <td>0.114286</td>\n",
       "      <td>1.000000</td>\n",
       "      <td>1.000000</td>\n",
       "      <td>0.102041</td>\n",
       "      <td>0.500000</td>\n",
       "      <td>0.666667</td>\n",
       "      <td>0.12</td>\n",
       "      <td>1.0</td>\n",
       "    </tr>\n",
       "  </tbody>\n",
       "</table>\n",
       "</div>"
      ],
      "text/plain": [
       "   B-lactamasas  Desplazamientos       BPN       AMP       OXA       TIC  \\\n",
       "1          48.0         1.580347  0.073494  0.060833  0.040476  0.227778   \n",
       "2          54.0         7.634224  0.024096  0.020833  0.023810  0.034722   \n",
       "5         181.0         1.313378  0.042892  0.250000  0.041667  0.180556   \n",
       "6         232.0         1.279839  0.102410  0.366667  0.114286  1.000000   \n",
       "\n",
       "        PIP       CFT       CFX       CFP   IMI  MER  \n",
       "1  0.257143  0.306122  1.000000  0.400000  0.58  0.5  \n",
       "2  0.121429  0.030612  0.166667  0.333333  1.00  1.0  \n",
       "5  0.500000  0.051020  0.916667  1.000000  0.40  1.0  \n",
       "6  1.000000  0.102041  0.500000  0.666667  0.12  1.0  "
      ]
     },
     "execution_count": 69,
     "metadata": {},
     "output_type": "execute_result"
    }
   ],
   "source": [
    "df"
   ]
  },
  {
   "cell_type": "code",
   "execution_count": 75,
   "metadata": {},
   "outputs": [
    {
     "data": {
      "text/plain": [
       "(0.856594759526107, 0.14340524047389303)"
      ]
     },
     "execution_count": 75,
     "metadata": {},
     "output_type": "execute_result"
    }
   ],
   "source": [
    "import scipy.stats\n",
    "\n",
    "x = df['AMP'][:]\n",
    "y = df ['OXA'][:]\n",
    "scipy.stats.pearsonr(x, y)"
   ]
  },
  {
   "cell_type": "code",
   "execution_count": 76,
   "metadata": {},
   "outputs": [
    {
     "data": {
      "image/png": "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\n",
      "text/plain": [
       "<Figure size 432x288 with 1 Axes>"
      ]
     },
     "metadata": {},
     "output_type": "display_data"
    }
   ],
   "source": [
    "# plot\n",
    "matplotlib.pyplot.scatter(x,y)\n",
    "\n",
    "matplotlib.pyplot.show()"
   ]
  },
  {
   "cell_type": "code",
   "execution_count": null,
   "metadata": {},
   "outputs": [],
   "source": []
  }
 ],
 "metadata": {
  "kernelspec": {
   "display_name": "Python 3",
   "language": "python",
   "name": "python3"
  },
  "language_info": {
   "codemirror_mode": {
    "name": "ipython",
    "version": 3
   },
   "file_extension": ".py",
   "mimetype": "text/x-python",
   "name": "python",
   "nbconvert_exporter": "python",
   "pygments_lexer": "ipython3",
   "version": "3.7.6"
  }
 },
 "nbformat": 4,
 "nbformat_minor": 4
}
