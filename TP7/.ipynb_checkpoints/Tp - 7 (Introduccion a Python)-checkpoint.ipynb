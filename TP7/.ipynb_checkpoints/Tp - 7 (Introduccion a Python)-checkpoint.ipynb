{
 "cells": [
  {
   "cell_type": "code",
   "execution_count": 3,
   "metadata": {},
   "outputs": [],
   "source": [
    "#Reto II\n",
    "#Crea una variable llamada doble que sea el doble de la suma entre a y b.\n",
    "\n",
    "a = 3\n",
    "b = 5\n",
    "\n",
    "doble = (a + b)*2\n",
    "\n",
    "assert doble == 16, \"Deberia ser 16\""
   ]
  },
  {
   "cell_type": "code",
   "execution_count": 7,
   "metadata": {},
   "outputs": [],
   "source": [
    "#Reto III\n",
    "#Digamos que el AND no es mas que un mensaje en clave, que debe sewr decifado o interpretado para la sintexis de proteina. \n",
    "#El mensaje esta escrita como una secuencia determinada de 4 nucleotidos distintos representados por la letra A,T, C y G.\n",
    "#Dentro de la celula, el mensaje es transportado por otra molecula, el ARN, muy similar al ADN pero con U en vez de T. \n",
    "#En este mensaje, cada triplete o grupo de 3 letras del ARN, se denomina codón, y cada aminoacido de las proteinas esta \n",
    "#codificado por uno o varios codones. Así por jemplo, el codón \"AUG\", codifica para el aminoacido Metionina, \n",
    "#el codón \"AAA\" para Lisina, el codón \"CUA\" para Leucina, etc. \n",
    "#¿Podrias escribir una cadena de ARN que codifique para el peptido, una cadena corta de aminoacidos, MET-LIS-LIS-LIS-LEU-LEU-MET. \n",
    "#combinando las variables met = AUG, lis = AAA, y leu = CUA. Utilizando operadores matematicos?\n",
    "\n",
    "met = 'AUG'\n",
    "lis = 'AAA'\n",
    "leu = 'CUA'\n",
    "\n",
    "peptido = met + lis*3 + leu*2 + met #ARN\n",
    "resultado_esperado = 'AUGAAAAAAAAACUACUAAUG'\n",
    "\n",
    "assert peptido == resultado_esperado, f\"El resultado deberia ser: {resultado_esperado}\""
   ]
  },
  {
   "cell_type": "code",
   "execution_count": 16,
   "metadata": {},
   "outputs": [],
   "source": [
    "#RETO IV: \n",
    "#¿Cadenas?¿letras? Si hablamos de cadenas y letras en Biología, lo\n",
    "#primero que se nos viene a la cabeza son las macromoléculas. Como bien\n",
    "#sabemos, el ADN es un mensaje en clave que guía la síntesis de proteínas. Este\n",
    "#mensaje está escrito por una secuencia determinada de 4 nucleótidos distintos\n",
    "#representados por las letras A, T, G y C. El contenido de C y G (es decir el\n",
    "#porcentaje de CG) presente en el ADN de un organismo es una característica\n",
    "#distintiva: por ejemplo las ​ Actinobacterias ​ tienen un contenido\n",
    "#característicamente más alto de CG que otros organismos. Ahora, contar la\n",
    "#cantidad de C y G en una cadena de ADN larguísima a mano puede ser un\n",
    "#verdadero tedio ¿Podrías crear un programa que calcule el porcentaje de C y G\n",
    "#de una cadena dada de ADN?\n",
    "\n",
    "cadena_ejemplo = \"TGATAAGAGTACCCAGAATAAAATGAATAACTTTTTAAAGACAAAATC\"\\\n",
    "\"CTCTGTTATAATATTGCTAAAATTATTCAGAGTAATATTGTGGATTAAA\"\\\n",
    "\"GCCACAATAAGATTTATAATCTTAAATGATGGGACTACCATCCTTACT\"\\\n",
    "\"CTCTCCATTTCAAGGCTGACGATAAGGAGACCTGCTTTGCCGAGGAG\"\\\n",
    "\"GTACTACAGTTCTCTTCACAAACAATTGTCTTACAAAATGAATAAAAC\"\\\n",
    "\"AGCACTTTGTTTTTATCTCCTGCTTTTAATATGTCCAGTATTCATTTTT\"\\\n",
    "\"GCATGTTTGGTTAGGCTAGGGCTTAGGGATTTATATATCAAAGGAGGC\"\\\n",
    "\"TTTGTACATGTGGGACAGGGATCTTATTTTAGATTTATATATCAAAGG\"\\\n",
    "\"AGGCTTTGTACATGTGGGACAGGGATCTTATTTTACAAACAATTGTCT\"\\\n",
    "\"TACAAAATGAATAAAACAGCACTTTGTTTTTATCTCCTGCTCTATTGTG\"\\\n",
    "\"CCATACTGTTGAATGTTTATAATGCATGTTCTGTTTCCAAATTTCATGA\"\\\n",
    "\"AATCAAAACATTAATTTATTTAAACATTTACTTGAAATGTTCACAAACA\"\\\n",
    "\"ATTGTCTTACAAAATGAATAAAACAGCACTTTGTTTTTATCTCCTGCTT\"\\\n",
    "\"TTAATATGTCCAGTATTCATTTTTGCATGTTTGGTTAGGCTAGGGCTTA\"\\\n",
    "\"GGGATTTATATATCAAAGGAGGCTTTGTACATGTGGGACAGGGATCTT\"\\\n",
    "\"ATTTTAGATTTATATATCAAAGGAGGCTTTGTACATGTGGGACAGGGA\"\\\n",
    "\"CTTATTTTACAAACAATTGTCTTACAAAATGAATAAAACAGCACTTTG\"\\\n",
    "\"TTTTTATCTCCTGCTCTATTGTGCCATACTGTTGAATGTTTATAATGCA\"\\\n",
    "\"TGTTCTGTTTCCAAATTTCATGAAATCAAAACATTAATTTATTTAAACA\"\\\n",
    "\"TTTACTTGAAATGTGGTGGTTTGTGATTTAGTTGATTTTATAGGCTAGT\"\\\n",
    "\"GGGAGAATTTACATTCAAATGTCTAAATCACTTAAAATTTCCCTTTATG\"\\\n",
    "\"GCCTGACAGTAACTTTTTTTTATTCATTTGGGGACAACTATGTCCGTG\"\\\n",
    "\"AGCTTCCATCCAGAGATTATAGTAGTAAATTGTAATTAAAGGATATGA\"\\\n",
    "\"TGCACGTGAAATCACTTTGCAATCAT\"\n",
    "\n",
    "def calcular_porcentaje(una_lista_de_caracteres, una_secuencia):\n",
    "    caracteres_totales = len(una_secuencia)\n",
    "    ocurrencias = sum(caracter in una_lista_de_caracteres for caracter in una_secuencia)\n",
    "    return ocurrencias * 100 / caracteres_totales\n",
    "        \n",
    "    \n",
    "porcentaje_CG = calcular_porcentaje(['C', 'G'], cadena_ejemplo)\n",
    "\n",
    "assert calcular_porcentaje(['Z'], cadena_ejemplo) == 0, f\"El resultado deberia ser 0\"\n",
    "assert porcentaje_CG == 31.842105263157894, f\"El resultado deberia ser 31.842105263157894\""
   ]
  },
  {
   "cell_type": "code",
   "execution_count": null,
   "metadata": {},
   "outputs": [],
   "source": [
    "#RETO V: \n",
    "#La Asombrosa Maravillosa es nuestra valiente superheroína. Sus\n",
    "#poderes son producto de mutaciones en un gen muy común, cuya secuencia en la\n",
    "#mayoría de las personas es 'ATGGAACTTGCAATCGAAGTTGGC'. A diferencia\n",
    "#de nosotros, el gen mutado de la Asombrosa Maravillosa incluye la secuencia\n",
    "#'GTTTGTGGTTG' en su interior.\n",
    "#La Asombrosa Maravillosa adquirió sus poderes al beber Jugo Vencido. El primer\n",
    "#sorbo de esta poción prohibida causa el cambio de todas las citosinas (C) por\n",
    "#timinas (T). El siguiente sorbo cambia todas las adeninas (A) por guaninas (G). El\n",
    "#tercer sorbo cambia las citosinas (C) por adeninas (A). El cuarto sorbo... puede ser\n",
    "#mortal.\n",
    "#¿Podés escribir un programa que nos diga cuántos sorbos de Jugo Vencido debe\n",
    "#beber un portador del gen normal, para ganar los poderes de la Asombrosa Maravillosa?"
   ]
  }
 ],
 "metadata": {
  "kernelspec": {
   "display_name": "Python 3",
   "language": "python",
   "name": "python3"
  },
  "language_info": {
   "codemirror_mode": {
    "name": "ipython",
    "version": 3
   },
   "file_extension": ".py",
   "mimetype": "text/x-python",
   "name": "python",
   "nbconvert_exporter": "python",
   "pygments_lexer": "ipython3",
   "version": "3.7.3"
  }
 },
 "nbformat": 4,
 "nbformat_minor": 2
}
