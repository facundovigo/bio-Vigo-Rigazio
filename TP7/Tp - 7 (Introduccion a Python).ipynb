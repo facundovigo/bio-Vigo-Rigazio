{
 "cells": [
  {
   "cell_type": "code",
   "execution_count": 1,
   "metadata": {},
   "outputs": [],
   "source": [
    "#Reto II\n",
    "#Crea una variable llamada doble que sea el doble de la suma entre a y b.\n",
    "\n",
    "a = 3\n",
    "b = 5\n",
    "\n",
    "doble = (a + b)*2\n",
    "\n",
    "assert doble == 16, \"Deberia ser 16\""
   ]
  },
  {
   "cell_type": "code",
   "execution_count": 2,
   "metadata": {},
   "outputs": [],
   "source": [
    "#Reto III\n",
    "#Digamos que el AND no es mas que un mensaje en clave, que debe sewr decifado o interpretado para la sintexis de proteina. \n",
    "#El mensaje esta escrita como una secuencia determinada de 4 nucleotidos distintos representados por la letra A,T, C y G.\n",
    "#Dentro de la celula, el mensaje es transportado por otra molecula, el ARN, muy similar al ADN pero con U en vez de T. \n",
    "#En este mensaje, cada triplete o grupo de 3 letras del ARN, se denomina codón, y cada aminoacido de las proteinas esta \n",
    "#codificado por uno o varios codones. Así por jemplo, el codón \"AUG\", codifica para el aminoacido Metionina, \n",
    "#el codón \"AAA\" para Lisina, el codón \"CUA\" para Leucina, etc. \n",
    "#¿Podrias escribir una cadena de ARN que codifique para el peptido, una cadena corta de aminoacidos, MET-LIS-LIS-LIS-LEU-LEU-MET. \n",
    "#combinando las variables met = AUG, lis = AAA, y leu = CUA. Utilizando operadores matematicos?\n",
    "\n",
    "met = 'AUG'\n",
    "lis = 'AAA'\n",
    "leu = 'CUA'\n",
    "\n",
    "peptido = met + lis*3 + leu*2 + met #ARN\n",
    "resultado_esperado = 'AUGAAAAAAAAACUACUAAUG'\n",
    "\n",
    "assert peptido == resultado_esperado, f\"El resultado deberia ser: {resultado_esperado}\""
   ]
  },
  {
   "cell_type": "code",
   "execution_count": 3,
   "metadata": {},
   "outputs": [],
   "source": [
    "#RETO IV: \n",
    "#¿Cadenas?¿letras? Si hablamos de cadenas y letras en Biología, lo\n",
    "#primero que se nos viene a la cabeza son las macromoléculas. Como bien\n",
    "#sabemos, el ADN es un mensaje en clave que guía la síntesis de proteínas. Este\n",
    "#mensaje está escrito por una secuencia determinada de 4 nucleótidos distintos\n",
    "#representados por las letras A, T, G y C. El contenido de C y G (es decir el\n",
    "#porcentaje de CG) presente en el ADN de un organismo es una característica\n",
    "#distintiva: por ejemplo las ​ Actinobacterias ​ tienen un contenido\n",
    "#característicamente más alto de CG que otros organismos. Ahora, contar la\n",
    "#cantidad de C y G en una cadena de ADN larguísima a mano puede ser un\n",
    "#verdadero tedio ¿Podrías crear un programa que calcule el porcentaje de C y G\n",
    "#de una cadena dada de ADN?\n",
    "\n",
    "cadena_ejemplo = \"TGATAAGAGTACCCAGAATAAAATGAATAACTTTTTAAAGACAAAATC\"\\\n",
    "\"CTCTGTTATAATATTGCTAAAATTATTCAGAGTAATATTGTGGATTAAA\"\\\n",
    "\"GCCACAATAAGATTTATAATCTTAAATGATGGGACTACCATCCTTACT\"\\\n",
    "\"CTCTCCATTTCAAGGCTGACGATAAGGAGACCTGCTTTGCCGAGGAG\"\\\n",
    "\"GTACTACAGTTCTCTTCACAAACAATTGTCTTACAAAATGAATAAAAC\"\\\n",
    "\"AGCACTTTGTTTTTATCTCCTGCTTTTAATATGTCCAGTATTCATTTTT\"\\\n",
    "\"GCATGTTTGGTTAGGCTAGGGCTTAGGGATTTATATATCAAAGGAGGC\"\\\n",
    "\"TTTGTACATGTGGGACAGGGATCTTATTTTAGATTTATATATCAAAGG\"\\\n",
    "\"AGGCTTTGTACATGTGGGACAGGGATCTTATTTTACAAACAATTGTCT\"\\\n",
    "\"TACAAAATGAATAAAACAGCACTTTGTTTTTATCTCCTGCTCTATTGTG\"\\\n",
    "\"CCATACTGTTGAATGTTTATAATGCATGTTCTGTTTCCAAATTTCATGA\"\\\n",
    "\"AATCAAAACATTAATTTATTTAAACATTTACTTGAAATGTTCACAAACA\"\\\n",
    "\"ATTGTCTTACAAAATGAATAAAACAGCACTTTGTTTTTATCTCCTGCTT\"\\\n",
    "\"TTAATATGTCCAGTATTCATTTTTGCATGTTTGGTTAGGCTAGGGCTTA\"\\\n",
    "\"GGGATTTATATATCAAAGGAGGCTTTGTACATGTGGGACAGGGATCTT\"\\\n",
    "\"ATTTTAGATTTATATATCAAAGGAGGCTTTGTACATGTGGGACAGGGA\"\\\n",
    "\"CTTATTTTACAAACAATTGTCTTACAAAATGAATAAAACAGCACTTTG\"\\\n",
    "\"TTTTTATCTCCTGCTCTATTGTGCCATACTGTTGAATGTTTATAATGCA\"\\\n",
    "\"TGTTCTGTTTCCAAATTTCATGAAATCAAAACATTAATTTATTTAAACA\"\\\n",
    "\"TTTACTTGAAATGTGGTGGTTTGTGATTTAGTTGATTTTATAGGCTAGT\"\\\n",
    "\"GGGAGAATTTACATTCAAATGTCTAAATCACTTAAAATTTCCCTTTATG\"\\\n",
    "\"GCCTGACAGTAACTTTTTTTTATTCATTTGGGGACAACTATGTCCGTG\"\\\n",
    "\"AGCTTCCATCCAGAGATTATAGTAGTAAATTGTAATTAAAGGATATGA\"\\\n",
    "\"TGCACGTGAAATCACTTTGCAATCAT\"\n",
    "\n",
    "def calcular_porcentaje(una_lista_de_caracteres, una_secuencia):\n",
    "    caracteres_totales = len(una_secuencia)\n",
    "    ocurrencias = sum(caracter in una_lista_de_caracteres for caracter in una_secuencia)\n",
    "    return ocurrencias * 100 / caracteres_totales\n",
    "        \n",
    "    \n",
    "porcentaje_CG = calcular_porcentaje(['C', 'G'], cadena_ejemplo)\n",
    "\n",
    "assert calcular_porcentaje(['Z'], cadena_ejemplo) == 0, f\"El resultado deberia ser 0\"\n",
    "assert porcentaje_CG == 31.842105263157894, f\"El resultado deberia ser 31.842105263157894\""
   ]
  },
  {
   "cell_type": "code",
   "execution_count": 10,
   "metadata": {},
   "outputs": [],
   "source": [
    "#RETO V: \n",
    "#La Asombrosa Maravillosa es nuestra valiente superheroína. Sus\n",
    "#poderes son producto de mutaciones en un gen muy común, cuya secuencia en la\n",
    "#mayoría de las personas es 'ATGGAACTTGCAATCGAAGTTGGC'. A diferencia\n",
    "#de nosotros, el gen mutado de la Asombrosa Maravillosa incluye la secuencia\n",
    "#'GTTTGTGGTTG' en su interior.\n",
    "#La Asombrosa Maravillosa adquirió sus poderes al beber Jugo Vencido. El primer\n",
    "#sorbo de esta poción prohibida causa el cambio de todas las citosinas (C) por\n",
    "#timinas (T). El siguiente sorbo cambia todas las adeninas (A) por guaninas (G). El\n",
    "#tercer sorbo cambia las citosinas (C) por adeninas (A). El cuarto sorbo... puede ser\n",
    "#mortal.\n",
    "#¿Podés escribir un programa que nos diga cuántos sorbos de Jugo Vencido debe\n",
    "#beber un portador del gen normal, para ganar los poderes de la Asombrosa Maravillosa?\n",
    "\n",
    "secuencia_comun = 'ATGGAACTTGCAATCGAAGTTGGC'\n",
    "gen_mutado = 'GTTTGTGGTTG'\n",
    "\n",
    "def cuantos_sorbos_de_jugo_vencido_se_deben_tomar(secuencia_original):\n",
    "    cantidad_de_sorbos = 0\n",
    "    index = 0\n",
    "    mutaciones = [c_x_t, a_x_g, c_x_a]\n",
    "    secuencia_mutada = secuencia_original\n",
    "    while(not gen_mutado in secuencia_mutada):\n",
    "        secuencia_mutada = mutaciones[index](secuencia_mutada)\n",
    "        cantidad_de_sorbos = cantidad_de_sorbos + 1\n",
    "        index = (index +1) % 2\n",
    "    return cantidad_de_sorbos    \n",
    "        \n",
    "def cambiar_secuencia(secuencia, caracter_original, caracter_nuevo):        \n",
    "    return secuencia.replace(caracter_original, caracter_nuevo)\n",
    "        \n",
    "def c_x_t(secuencia_original):\n",
    "    return cambiar_secuencia(secuencia_original,'C', 'T')\n",
    "    \n",
    "def a_x_g(secuencia_original): \n",
    "    return cambiar_secuencia(secuencia_original,'A', 'G')\n",
    "    \n",
    "def c_x_a(secuencia_original):  \n",
    "    return cambiar_secuencia(secuencia_original, 'C', 'A')\n",
    "\n",
    "assert cuantos_sorbos_de_jugo_vencido_se_deben_tomar(secuencia_comun) == 2, f\"El resultado deberia ser 2\""
   ]
  },
  {
   "cell_type": "code",
   "execution_count": 14,
   "metadata": {},
   "outputs": [
    {
     "name": "stdout",
     "output_type": "stream",
     "text": [
      "La longitud del gen ATGGAAGTTAATGGAAGTTGGAGGAGA es mayor al gen ATGGAAGTTGGAATCCAAGTTGGA\n"
     ]
    }
   ],
   "source": [
    "#RETO VII: \n",
    "#Ya que encontramos el espécimen de rana con pelo en marte, nos gustaría\n",
    "#contrastar sus características con las ranas terrestres. Sabiendo que el gen de la proteína\n",
    "#diminuta es ‘ATGGAAGTTGGAATCCAAGTTGGA’ y el gen de una proteína similar\n",
    "#de rana terrestre es ‘ATGGAAGTTAATGGAAGTTGGAGGAGA’ ¿podés crear un\n",
    "#programa que compare la longitud de ambos genes y según cuál sea más grande nos\n",
    "#imprima un mensaje informándonos el resultado?\n",
    "\n",
    "sec_proteina_dimunuta = 'ATGGAAGTTGGAATCCAAGTTGGA'\n",
    "sec_rana_terrestre = 'ATGGAAGTTAATGGAAGTTGGAGGAGA'\n",
    "\n",
    "def comparar_muestras(sec0, sec1):\n",
    "    longitud_gen_p_d = len(sec0)\n",
    "    longitud_rana_terrestre = len(sec1)\n",
    "    if(longitud_gen_p_d>longitud_rana_terrestre):\n",
    "        print(armar_frase_mayor(sec0, sec1))\n",
    "    elif longitud_gen_p_d<longitud_rana_terrestre:\n",
    "        print(armar_frase_mayor(sec1, sec0))\n",
    "    elif longitud_gen_p_d==longitud_rana_terrestre:\n",
    "        print('Ambos genes tienen la misma longitud')\n",
    "        \n",
    "def armar_frase_mayor(sec_mayor, sec_menor):\n",
    "    return f'La longitud del gen {sec_mayor} es mayor al gen {sec_menor}'\n",
    "\n",
    "comparar_muestras(sec_proteina_dimunuta, sec_rana_terrestre)"
   ]
  },
  {
   "cell_type": "code",
   "execution_count": 15,
   "metadata": {
    "scrolled": true
   },
   "outputs": [
    {
     "name": "stdout",
     "output_type": "stream",
     "text": [
      "¡Somos 2 clones nuevos!\n",
      "¡Somos 2 clones nuevos!\n",
      "¡Somos 2 clones nuevos!\n",
      "¡Somos 2 clones nuevos!\n",
      "¡Somos 2 clones nuevos!\n",
      "¡Somos 2 clones nuevos!\n",
      "¡Somos 2 clones nuevos!\n",
      "¡Somos 2 clones nuevos!\n",
      "¡Somos 2 clones nuevos!\n",
      "¡Somos 2 clones nuevos!\n",
      "¡Somos 2 clones nuevos!\n",
      "¡Somos 2 clones nuevos!\n",
      "¡Somos 2 clones nuevos!\n",
      "¡Somos 2 clones nuevos!\n",
      "¡Somos 2 clones nuevos!\n",
      "¡Somos 2 clones nuevos!\n",
      "¡Somos 2 clones nuevos!\n",
      "¡Somos 2 clones nuevos!\n",
      "¡Somos 2 clones nuevos!\n",
      "¡Somos 2 clones nuevos!\n"
     ]
    }
   ],
   "source": [
    "#RETO VIII: \n",
    "#Si nos ponemos un poco más estrictos, y siguiendo con el tema de los clones\n",
    "#de bacterias, el programa que creamos antes tiene algunas fallas ‘numéricas’: en cada\n",
    "#vuelta de división celular binaria se generarán dos clones, no uno. ¿Podrías escribir un\n",
    "#programa que imprima ‘¡Somos 2 clones nuevos!’ en cada una de 20 vueltas?\n",
    "\n",
    "for i in range(0,20):\n",
    "    print('¡Somos 2 clones nuevos!')"
   ]
  },
  {
   "cell_type": "code",
   "execution_count": 17,
   "metadata": {},
   "outputs": [
    {
     "name": "stdout",
     "output_type": "stream",
     "text": [
      "¡Somos 1 clones nuevos!\n",
      "¡Somos 2 clones nuevos!\n",
      "¡Somos 4 clones nuevos!\n",
      "¡Somos 8 clones nuevos!\n",
      "¡Somos 16 clones nuevos!\n",
      "¡Somos 32 clones nuevos!\n",
      "¡Somos 64 clones nuevos!\n",
      "¡Somos 128 clones nuevos!\n",
      "¡Somos 256 clones nuevos!\n",
      "¡Somos 512 clones nuevos!\n",
      "¡Somos 1024 clones nuevos!\n",
      "¡Somos 2048 clones nuevos!\n",
      "¡Somos 4096 clones nuevos!\n",
      "¡Somos 8192 clones nuevos!\n",
      "¡Somos 16384 clones nuevos!\n",
      "¡Somos 32768 clones nuevos!\n",
      "¡Somos 65536 clones nuevos!\n",
      "¡Somos 131072 clones nuevos!\n",
      "¡Somos 262144 clones nuevos!\n",
      "¡Somos 524288 clones nuevos!\n"
     ]
    }
   ],
   "source": [
    "#RETO IX: \n",
    "#Si ahora queremos hacer nuestro programa un poco más estricto, por cada\n",
    "#vuelta deberíamos sumar el total de células que tenemos e imprimir ese número en el\n",
    "#mensaje. Entonces, por ejemplo, como en la primer vuelta tenemos dos células,\n",
    "#imprimiríamos como mensaje ‘¡Somos 2 clones!’ , pero en la segunda vuelta serán en\n",
    "#total 4 células y el mensaje a imprimir debería ser ‘¡Somos 4 clone\n",
    "\n",
    "for i in range(0,20):\n",
    "    print(f'¡Somos {2**i} clones nuevos!')"
   ]
  },
  {
   "cell_type": "code",
   "execution_count": null,
   "metadata": {},
   "outputs": [],
   "source": []
  }
 ],
 "metadata": {
  "kernelspec": {
   "display_name": "Python 3",
   "language": "python",
   "name": "python3"
  },
  "language_info": {
   "codemirror_mode": {
    "name": "ipython",
    "version": 3
   },
   "file_extension": ".py",
   "mimetype": "text/x-python",
   "name": "python",
   "nbconvert_exporter": "python",
   "pygments_lexer": "ipython3",
   "version": "3.7.3"
  }
 },
 "nbformat": 4,
 "nbformat_minor": 2
}
